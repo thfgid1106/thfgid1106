{
 "cells": [
  {
   "cell_type": "code",
   "execution_count": 1,
   "metadata": {},
   "outputs": [
    {
     "name": "stdout",
     "output_type": "stream",
     "text": [
      "Requirement already satisfied: PyYAML in c:\\users\\user\\appdata\\local\\programs\\python\\python311\\lib\\site-packages (6.0.1)\n",
      "Note: you may need to restart the kernel to use updated packages.\n"
     ]
    }
   ],
   "source": [
    "pip install PyYAML"
   ]
  },
  {
   "cell_type": "code",
   "execution_count": 1,
   "metadata": {},
   "outputs": [],
   "source": [
    "import yaml\n",
    "\n",
    "data = { 'train' : r'C:\\Users\\USER\\Desktop\\HS\\GitHub\\YOLO_examples\\Aquarium_test\\Aquarium\\train\\images',\n",
    "         'val' : r'C:\\Users\\USER\\Desktop\\HS\\GitHub\\YOLO_examples\\Aquarium_test\\Aquarium\\valid\\images',\n",
    "         'test' : r'C:\\Users\\USER\\Desktop\\HS\\GitHub\\YOLO_examples\\Aquarium_test\\Aquarium\\test\\images',\n",
    "         'names' : ['fish', 'jellyfish', 'penguin', 'puffin', 'shark', 'starfish', 'stingray'],\n",
    "         'nc' : 7 }"
   ]
  },
  {
   "cell_type": "code",
   "execution_count": 2,
   "metadata": {},
   "outputs": [],
   "source": [
    "with open(r'C:\\Users\\USER\\Desktop\\HS\\GitHub\\YOLO_examples\\Aquarium_test\\Aquarium\\Aquarium_Data.yaml', 'w') as f:\n",
    "  yaml.dump(data, f)"
   ]
  },
  {
   "cell_type": "code",
   "execution_count": 3,
   "metadata": {},
   "outputs": [
    {
     "data": {
      "text/plain": [
       "{'names': ['fish',\n",
       "  'jellyfish',\n",
       "  'penguin',\n",
       "  'puffin',\n",
       "  'shark',\n",
       "  'starfish',\n",
       "  'stingray'],\n",
       " 'nc': 7,\n",
       " 'test': 'C:\\\\Users\\\\USER\\\\Desktop\\\\HS\\\\GitHub\\\\YOLO_examples\\\\Aquarium_test\\\\Aquarium\\\\test\\\\images',\n",
       " 'train': 'C:\\\\Users\\\\USER\\\\Desktop\\\\HS\\\\GitHub\\\\YOLO_examples\\\\Aquarium_test\\\\Aquarium\\\\train\\\\images',\n",
       " 'val': 'C:\\\\Users\\\\USER\\\\Desktop\\\\HS\\\\GitHub\\\\YOLO_examples\\\\Aquarium_test\\\\Aquarium\\\\valid\\\\images'}"
      ]
     },
     "metadata": {},
     "output_type": "display_data"
    }
   ],
   "source": [
    "with open(r'C:\\Users\\USER\\Desktop\\HS\\GitHub\\YOLO_examples\\Aquarium_test\\Aquarium\\Aquarium_Data.yaml', 'r') as f:\n",
    "  aquarium_yaml = yaml.safe_load(f)\n",
    "  display(aquarium_yaml)"
   ]
  },
  {
   "cell_type": "code",
   "execution_count": 4,
   "metadata": {},
   "outputs": [],
   "source": [
    "from ultralytics import YOLO\n",
    "model = YOLO('yolov8n.pt')"
   ]
  },
  {
   "cell_type": "code",
   "execution_count": 5,
   "metadata": {},
   "outputs": [
    {
     "name": "stdout",
     "output_type": "stream",
     "text": [
      "Ultralytics YOLOv8.2.54  Python-3.11.8 torch-2.3.0+cu118 CUDA:0 (NVIDIA GeForce RTX 4050 Laptop GPU, 6140MiB)\n",
      "\u001b[34m\u001b[1mengine\\trainer: \u001b[0mtask=detect, mode=train, model=yolov8n.pt, data=C:\\Users\\USER\\Desktop\\HS\\GitHub\\YOLO_examples\\Aquarium_test\\Aquarium\\Aquarium_Data.yaml, epochs=100, time=None, patience=30, batch=32, imgsz=416, save=True, save_period=-1, cache=False, device=None, workers=8, project=None, name=train, exist_ok=False, pretrained=True, optimizer=auto, verbose=True, seed=0, deterministic=True, single_cls=False, rect=False, cos_lr=False, close_mosaic=10, resume=False, amp=True, fraction=1.0, profile=False, freeze=None, multi_scale=False, overlap_mask=True, mask_ratio=4, dropout=0.0, val=True, split=val, save_json=False, save_hybrid=False, conf=None, iou=0.7, max_det=300, half=False, dnn=False, plots=True, source=None, vid_stride=1, stream_buffer=False, visualize=False, augment=False, agnostic_nms=False, classes=None, retina_masks=False, embed=None, show=False, save_frames=False, save_txt=False, save_conf=False, save_crop=False, show_labels=True, show_conf=True, show_boxes=True, line_width=None, format=torchscript, keras=False, optimize=False, int8=False, dynamic=False, simplify=False, opset=None, workspace=4, nms=False, lr0=0.01, lrf=0.01, momentum=0.937, weight_decay=0.0005, warmup_epochs=3.0, warmup_momentum=0.8, warmup_bias_lr=0.1, box=7.5, cls=0.5, dfl=1.5, pose=12.0, kobj=1.0, label_smoothing=0.0, nbs=64, hsv_h=0.015, hsv_s=0.7, hsv_v=0.4, degrees=0.0, translate=0.1, scale=0.5, shear=0.0, perspective=0.0, flipud=0.0, fliplr=0.5, bgr=0.0, mosaic=1.0, mixup=0.0, copy_paste=0.0, auto_augment=randaugment, erasing=0.4, crop_fraction=1.0, cfg=None, tracker=botsort.yaml, save_dir=runs\\detect\\train\n",
      "Overriding model.yaml nc=80 with nc=7\n",
      "\n",
      "                   from  n    params  module                                       arguments                     \n",
      "  0                  -1  1       464  ultralytics.nn.modules.conv.Conv             [3, 16, 3, 2]                 \n",
      "  1                  -1  1      4672  ultralytics.nn.modules.conv.Conv             [16, 32, 3, 2]                \n",
      "  2                  -1  1      7360  ultralytics.nn.modules.block.C2f             [32, 32, 1, True]             \n",
      "  3                  -1  1     18560  ultralytics.nn.modules.conv.Conv             [32, 64, 3, 2]                \n",
      "  4                  -1  2     49664  ultralytics.nn.modules.block.C2f             [64, 64, 2, True]             \n",
      "  5                  -1  1     73984  ultralytics.nn.modules.conv.Conv             [64, 128, 3, 2]               \n",
      "  6                  -1  2    197632  ultralytics.nn.modules.block.C2f             [128, 128, 2, True]           \n",
      "  7                  -1  1    295424  ultralytics.nn.modules.conv.Conv             [128, 256, 3, 2]              \n",
      "  8                  -1  1    460288  ultralytics.nn.modules.block.C2f             [256, 256, 1, True]           \n",
      "  9                  -1  1    164608  ultralytics.nn.modules.block.SPPF            [256, 256, 5]                 \n",
      " 10                  -1  1         0  torch.nn.modules.upsampling.Upsample         [None, 2, 'nearest']          \n",
      " 11             [-1, 6]  1         0  ultralytics.nn.modules.conv.Concat           [1]                           \n",
      " 12                  -1  1    148224  ultralytics.nn.modules.block.C2f             [384, 128, 1]                 \n",
      " 13                  -1  1         0  torch.nn.modules.upsampling.Upsample         [None, 2, 'nearest']          \n",
      " 14             [-1, 4]  1         0  ultralytics.nn.modules.conv.Concat           [1]                           \n",
      " 15                  -1  1     37248  ultralytics.nn.modules.block.C2f             [192, 64, 1]                  \n",
      " 16                  -1  1     36992  ultralytics.nn.modules.conv.Conv             [64, 64, 3, 2]                \n",
      " 17            [-1, 12]  1         0  ultralytics.nn.modules.conv.Concat           [1]                           \n",
      " 18                  -1  1    123648  ultralytics.nn.modules.block.C2f             [192, 128, 1]                 \n",
      " 19                  -1  1    147712  ultralytics.nn.modules.conv.Conv             [128, 128, 3, 2]              \n",
      " 20             [-1, 9]  1         0  ultralytics.nn.modules.conv.Concat           [1]                           \n",
      " 21                  -1  1    493056  ultralytics.nn.modules.block.C2f             [384, 256, 1]                 \n",
      " 22        [15, 18, 21]  1    752677  ultralytics.nn.modules.head.Detect           [7, [64, 128, 256]]           \n",
      "Model summary: 225 layers, 3012213 parameters, 3012197 gradients, 8.2 GFLOPs\n",
      "\n",
      "Transferred 319/355 items from pretrained weights\n",
      "Freezing layer 'model.22.dfl.conv.weight'\n",
      "\u001b[34m\u001b[1mAMP: \u001b[0mrunning Automatic Mixed Precision (AMP) checks with YOLOv8n...\n"
     ]
    },
    {
     "name": "stderr",
     "output_type": "stream",
     "text": [
      "c:\\Users\\USER\\AppData\\Local\\Programs\\Python\\Python311\\Lib\\site-packages\\torch\\nn\\modules\\conv.py:456: UserWarning: Plan failed with a cudnnException: CUDNN_BACKEND_EXECUTION_PLAN_DESCRIPTOR: cudnnFinalize Descriptor Failed cudnn_status: CUDNN_STATUS_NOT_SUPPORTED (Triggered internally at ..\\aten\\src\\ATen\\native\\cudnn\\Conv_v8.cpp:919.)\n",
      "  return F.conv2d(input, weight, bias, self.stride,\n"
     ]
    },
    {
     "name": "stdout",
     "output_type": "stream",
     "text": [
      "\u001b[34m\u001b[1mAMP: \u001b[0mchecks passed \n"
     ]
    },
    {
     "name": "stderr",
     "output_type": "stream",
     "text": [
      "\u001b[34m\u001b[1mtrain: \u001b[0mScanning C:\\Users\\USER\\Desktop\\HS\\GitHub\\YOLO_examples\\Aquarium_test\\Aquarium\\train\\labels.cache... 448 images, 1 backgrounds, 0 corrupt: 100%|██████████| 448/448 [00:00<?, ?it/s]\n",
      "\u001b[34m\u001b[1mval: \u001b[0mScanning C:\\Users\\USER\\Desktop\\HS\\GitHub\\YOLO_examples\\Aquarium_test\\Aquarium\\valid\\labels.cache... 127 images, 0 backgrounds, 0 corrupt: 100%|██████████| 127/127 [00:00<?, ?it/s]\n"
     ]
    },
    {
     "name": "stdout",
     "output_type": "stream",
     "text": [
      "Plotting labels to runs\\detect\\train\\labels.jpg... \n",
      "\u001b[34m\u001b[1moptimizer:\u001b[0m 'optimizer=auto' found, ignoring 'lr0=0.01' and 'momentum=0.937' and determining best 'optimizer', 'lr0' and 'momentum' automatically... \n",
      "\u001b[34m\u001b[1moptimizer:\u001b[0m AdamW(lr=0.000909, momentum=0.9) with parameter groups 57 weight(decay=0.0), 64 weight(decay=0.0005), 63 bias(decay=0.0)\n",
      "Image sizes 416 train, 416 val\n",
      "Using 8 dataloader workers\n",
      "Logging results to \u001b[1mruns\\detect\\train\u001b[0m\n",
      "Starting training for 100 epochs...\n",
      "\n",
      "      Epoch    GPU_mem   box_loss   cls_loss   dfl_loss  Instances       Size\n"
     ]
    },
    {
     "name": "stderr",
     "output_type": "stream",
     "text": [
      "      1/100      2.06G      1.705       4.29      1.319        305        416: 100%|██████████| 14/14 [00:04<00:00,  3.47it/s]\n",
      "                 Class     Images  Instances      Box(P          R      mAP50  mAP50-95): 100%|██████████| 2/2 [00:00<00:00,  2.51it/s]"
     ]
    },
    {
     "name": "stdout",
     "output_type": "stream",
     "text": [
      "                   all        127        909    0.00304      0.198     0.0229     0.0135\n"
     ]
    },
    {
     "name": "stderr",
     "output_type": "stream",
     "text": [
      "\n"
     ]
    },
    {
     "name": "stdout",
     "output_type": "stream",
     "text": [
      "\n",
      "      Epoch    GPU_mem   box_loss   cls_loss   dfl_loss  Instances       Size\n"
     ]
    },
    {
     "name": "stderr",
     "output_type": "stream",
     "text": [
      "      2/100      2.14G      1.668      3.445      1.207        253        416: 100%|██████████| 14/14 [00:02<00:00,  5.97it/s]\n",
      "                 Class     Images  Instances      Box(P          R      mAP50  mAP50-95): 100%|██████████| 2/2 [00:00<00:00,  3.15it/s]"
     ]
    },
    {
     "name": "stdout",
     "output_type": "stream",
     "text": [
      "                   all        127        909     0.0123      0.451      0.109     0.0517\n"
     ]
    },
    {
     "name": "stderr",
     "output_type": "stream",
     "text": [
      "\n"
     ]
    },
    {
     "name": "stdout",
     "output_type": "stream",
     "text": [
      "\n",
      "      Epoch    GPU_mem   box_loss   cls_loss   dfl_loss  Instances       Size\n"
     ]
    },
    {
     "name": "stderr",
     "output_type": "stream",
     "text": [
      "      3/100      2.16G      1.763      2.527      1.209        358        416: 100%|██████████| 14/14 [00:02<00:00,  5.71it/s]\n",
      "                 Class     Images  Instances      Box(P          R      mAP50  mAP50-95): 100%|██████████| 2/2 [00:00<00:00,  2.88it/s]"
     ]
    },
    {
     "name": "stdout",
     "output_type": "stream",
     "text": [
      "                   all        127        909      0.437     0.0521      0.171     0.0851\n"
     ]
    },
    {
     "name": "stderr",
     "output_type": "stream",
     "text": [
      "\n"
     ]
    },
    {
     "name": "stdout",
     "output_type": "stream",
     "text": [
      "\n",
      "      Epoch    GPU_mem   box_loss   cls_loss   dfl_loss  Instances       Size\n"
     ]
    },
    {
     "name": "stderr",
     "output_type": "stream",
     "text": [
      "      4/100      2.06G      1.714      2.117      1.199        392        416: 100%|██████████| 14/14 [00:02<00:00,  5.20it/s]\n",
      "                 Class     Images  Instances      Box(P          R      mAP50  mAP50-95): 100%|██████████| 2/2 [00:00<00:00,  2.96it/s]"
     ]
    },
    {
     "name": "stdout",
     "output_type": "stream",
     "text": [
      "                   all        127        909      0.483     0.0581      0.229      0.114\n"
     ]
    },
    {
     "name": "stderr",
     "output_type": "stream",
     "text": [
      "\n"
     ]
    },
    {
     "name": "stdout",
     "output_type": "stream",
     "text": [
      "\n",
      "      Epoch    GPU_mem   box_loss   cls_loss   dfl_loss  Instances       Size\n"
     ]
    },
    {
     "name": "stderr",
     "output_type": "stream",
     "text": [
      "      5/100      1.96G      1.667      1.944      1.175        346        416: 100%|██████████| 14/14 [00:02<00:00,  6.58it/s]\n",
      "                 Class     Images  Instances      Box(P          R      mAP50  mAP50-95): 100%|██████████| 2/2 [00:00<00:00,  3.12it/s]"
     ]
    },
    {
     "name": "stdout",
     "output_type": "stream",
     "text": [
      "                   all        127        909      0.527      0.204      0.329      0.173\n"
     ]
    },
    {
     "name": "stderr",
     "output_type": "stream",
     "text": [
      "\n"
     ]
    },
    {
     "name": "stdout",
     "output_type": "stream",
     "text": [
      "\n",
      "      Epoch    GPU_mem   box_loss   cls_loss   dfl_loss  Instances       Size\n"
     ]
    },
    {
     "name": "stderr",
     "output_type": "stream",
     "text": [
      "      6/100      2.01G       1.63      1.791       1.17        404        416: 100%|██████████| 14/14 [00:02<00:00,  6.61it/s]\n",
      "                 Class     Images  Instances      Box(P          R      mAP50  mAP50-95): 100%|██████████| 2/2 [00:00<00:00,  2.76it/s]"
     ]
    },
    {
     "name": "stdout",
     "output_type": "stream",
     "text": [
      "                   all        127        909       0.61      0.212      0.334      0.178\n"
     ]
    },
    {
     "name": "stderr",
     "output_type": "stream",
     "text": [
      "\n"
     ]
    },
    {
     "name": "stdout",
     "output_type": "stream",
     "text": [
      "\n",
      "      Epoch    GPU_mem   box_loss   cls_loss   dfl_loss  Instances       Size\n"
     ]
    },
    {
     "name": "stderr",
     "output_type": "stream",
     "text": [
      "      7/100      1.97G      1.609      1.703       1.18        472        416: 100%|██████████| 14/14 [00:02<00:00,  6.57it/s]\n",
      "                 Class     Images  Instances      Box(P          R      mAP50  mAP50-95): 100%|██████████| 2/2 [00:00<00:00,  3.34it/s]"
     ]
    },
    {
     "name": "stdout",
     "output_type": "stream",
     "text": [
      "                   all        127        909       0.48      0.325      0.326      0.175\n"
     ]
    },
    {
     "name": "stderr",
     "output_type": "stream",
     "text": [
      "\n"
     ]
    },
    {
     "name": "stdout",
     "output_type": "stream",
     "text": [
      "\n",
      "      Epoch    GPU_mem   box_loss   cls_loss   dfl_loss  Instances       Size\n"
     ]
    },
    {
     "name": "stderr",
     "output_type": "stream",
     "text": [
      "      8/100      2.16G      1.634      1.634      1.192        415        416: 100%|██████████| 14/14 [00:02<00:00,  6.76it/s]\n",
      "                 Class     Images  Instances      Box(P          R      mAP50  mAP50-95): 100%|██████████| 2/2 [00:00<00:00,  2.37it/s]"
     ]
    },
    {
     "name": "stdout",
     "output_type": "stream",
     "text": [
      "                   all        127        909      0.431      0.352      0.327      0.179\n"
     ]
    },
    {
     "name": "stderr",
     "output_type": "stream",
     "text": [
      "\n"
     ]
    },
    {
     "name": "stdout",
     "output_type": "stream",
     "text": [
      "\n",
      "      Epoch    GPU_mem   box_loss   cls_loss   dfl_loss  Instances       Size\n"
     ]
    },
    {
     "name": "stderr",
     "output_type": "stream",
     "text": [
      "      9/100      2.02G      1.596      1.578      1.176        339        416: 100%|██████████| 14/14 [00:02<00:00,  6.64it/s]\n",
      "                 Class     Images  Instances      Box(P          R      mAP50  mAP50-95): 100%|██████████| 2/2 [00:00<00:00,  3.11it/s]"
     ]
    },
    {
     "name": "stdout",
     "output_type": "stream",
     "text": [
      "                   all        127        909      0.492       0.45      0.425      0.232\n"
     ]
    },
    {
     "name": "stderr",
     "output_type": "stream",
     "text": [
      "\n"
     ]
    },
    {
     "name": "stdout",
     "output_type": "stream",
     "text": [
      "\n",
      "      Epoch    GPU_mem   box_loss   cls_loss   dfl_loss  Instances       Size\n"
     ]
    },
    {
     "name": "stderr",
     "output_type": "stream",
     "text": [
      "     10/100      2.17G      1.585       1.54       1.18        423        416: 100%|██████████| 14/14 [00:02<00:00,  6.60it/s]\n",
      "                 Class     Images  Instances      Box(P          R      mAP50  mAP50-95): 100%|██████████| 2/2 [00:00<00:00,  3.24it/s]"
     ]
    },
    {
     "name": "stdout",
     "output_type": "stream",
     "text": [
      "                   all        127        909      0.386      0.389      0.361      0.201\n"
     ]
    },
    {
     "name": "stderr",
     "output_type": "stream",
     "text": [
      "\n"
     ]
    },
    {
     "name": "stdout",
     "output_type": "stream",
     "text": [
      "\n",
      "      Epoch    GPU_mem   box_loss   cls_loss   dfl_loss  Instances       Size\n"
     ]
    },
    {
     "name": "stderr",
     "output_type": "stream",
     "text": [
      "     11/100      2.03G       1.58      1.493      1.168        485        416: 100%|██████████| 14/14 [00:02<00:00,  6.67it/s]\n",
      "                 Class     Images  Instances      Box(P          R      mAP50  mAP50-95): 100%|██████████| 2/2 [00:00<00:00,  3.28it/s]"
     ]
    },
    {
     "name": "stdout",
     "output_type": "stream",
     "text": [
      "                   all        127        909      0.543      0.408      0.411      0.212\n"
     ]
    },
    {
     "name": "stderr",
     "output_type": "stream",
     "text": [
      "\n"
     ]
    },
    {
     "name": "stdout",
     "output_type": "stream",
     "text": [
      "\n",
      "      Epoch    GPU_mem   box_loss   cls_loss   dfl_loss  Instances       Size\n"
     ]
    },
    {
     "name": "stderr",
     "output_type": "stream",
     "text": [
      "     12/100      1.97G      1.497      1.442      1.155        248        416: 100%|██████████| 14/14 [00:02<00:00,  6.58it/s]\n",
      "                 Class     Images  Instances      Box(P          R      mAP50  mAP50-95): 100%|██████████| 2/2 [00:00<00:00,  3.38it/s]"
     ]
    },
    {
     "name": "stdout",
     "output_type": "stream",
     "text": [
      "                   all        127        909      0.527      0.483      0.468      0.249\n"
     ]
    },
    {
     "name": "stderr",
     "output_type": "stream",
     "text": [
      "\n"
     ]
    },
    {
     "name": "stdout",
     "output_type": "stream",
     "text": [
      "\n",
      "      Epoch    GPU_mem   box_loss   cls_loss   dfl_loss  Instances       Size\n"
     ]
    },
    {
     "name": "stderr",
     "output_type": "stream",
     "text": [
      "     13/100      1.99G      1.532      1.393      1.158        360        416: 100%|██████████| 14/14 [00:02<00:00,  6.72it/s]\n",
      "                 Class     Images  Instances      Box(P          R      mAP50  mAP50-95): 100%|██████████| 2/2 [00:00<00:00,  3.41it/s]"
     ]
    },
    {
     "name": "stdout",
     "output_type": "stream",
     "text": [
      "                   all        127        909      0.455      0.408      0.402      0.205\n"
     ]
    },
    {
     "name": "stderr",
     "output_type": "stream",
     "text": [
      "\n"
     ]
    },
    {
     "name": "stdout",
     "output_type": "stream",
     "text": [
      "\n",
      "      Epoch    GPU_mem   box_loss   cls_loss   dfl_loss  Instances       Size\n"
     ]
    },
    {
     "name": "stderr",
     "output_type": "stream",
     "text": [
      "     14/100      2.02G      1.528      1.348      1.134        425        416: 100%|██████████| 14/14 [00:02<00:00,  6.54it/s]\n",
      "                 Class     Images  Instances      Box(P          R      mAP50  mAP50-95): 100%|██████████| 2/2 [00:00<00:00,  3.41it/s]"
     ]
    },
    {
     "name": "stdout",
     "output_type": "stream",
     "text": [
      "                   all        127        909      0.587      0.522      0.515      0.262\n"
     ]
    },
    {
     "name": "stderr",
     "output_type": "stream",
     "text": [
      "\n"
     ]
    },
    {
     "name": "stdout",
     "output_type": "stream",
     "text": [
      "\n",
      "      Epoch    GPU_mem   box_loss   cls_loss   dfl_loss  Instances       Size\n"
     ]
    },
    {
     "name": "stderr",
     "output_type": "stream",
     "text": [
      "     15/100      2.14G        1.5      1.311      1.125        326        416: 100%|██████████| 14/14 [00:02<00:00,  6.61it/s]\n",
      "                 Class     Images  Instances      Box(P          R      mAP50  mAP50-95): 100%|██████████| 2/2 [00:00<00:00,  3.28it/s]"
     ]
    },
    {
     "name": "stdout",
     "output_type": "stream",
     "text": [
      "                   all        127        909      0.535      0.498      0.465      0.243\n"
     ]
    },
    {
     "name": "stderr",
     "output_type": "stream",
     "text": [
      "\n"
     ]
    },
    {
     "name": "stdout",
     "output_type": "stream",
     "text": [
      "\n",
      "      Epoch    GPU_mem   box_loss   cls_loss   dfl_loss  Instances       Size\n"
     ]
    },
    {
     "name": "stderr",
     "output_type": "stream",
     "text": [
      "     16/100      2.06G      1.488      1.294      1.128        446        416: 100%|██████████| 14/14 [00:02<00:00,  6.65it/s]\n",
      "                 Class     Images  Instances      Box(P          R      mAP50  mAP50-95): 100%|██████████| 2/2 [00:00<00:00,  3.39it/s]"
     ]
    },
    {
     "name": "stdout",
     "output_type": "stream",
     "text": [
      "                   all        127        909      0.581        0.5      0.506       0.28\n"
     ]
    },
    {
     "name": "stderr",
     "output_type": "stream",
     "text": [
      "\n"
     ]
    },
    {
     "name": "stdout",
     "output_type": "stream",
     "text": [
      "\n",
      "      Epoch    GPU_mem   box_loss   cls_loss   dfl_loss  Instances       Size\n"
     ]
    },
    {
     "name": "stderr",
     "output_type": "stream",
     "text": [
      "     17/100      2.05G      1.494      1.301      1.128        492        416: 100%|██████████| 14/14 [00:02<00:00,  6.59it/s]\n",
      "                 Class     Images  Instances      Box(P          R      mAP50  mAP50-95): 100%|██████████| 2/2 [00:00<00:00,  3.37it/s]"
     ]
    },
    {
     "name": "stdout",
     "output_type": "stream",
     "text": [
      "                   all        127        909      0.568      0.442      0.448      0.251\n"
     ]
    },
    {
     "name": "stderr",
     "output_type": "stream",
     "text": [
      "\n"
     ]
    },
    {
     "name": "stdout",
     "output_type": "stream",
     "text": [
      "\n",
      "      Epoch    GPU_mem   box_loss   cls_loss   dfl_loss  Instances       Size\n"
     ]
    },
    {
     "name": "stderr",
     "output_type": "stream",
     "text": [
      "     18/100      2.11G      1.465      1.257      1.116        355        416: 100%|██████████| 14/14 [00:02<00:00,  6.43it/s]\n",
      "                 Class     Images  Instances      Box(P          R      mAP50  mAP50-95): 100%|██████████| 2/2 [00:00<00:00,  3.37it/s]"
     ]
    },
    {
     "name": "stdout",
     "output_type": "stream",
     "text": [
      "                   all        127        909        0.6      0.524      0.535      0.287\n"
     ]
    },
    {
     "name": "stderr",
     "output_type": "stream",
     "text": [
      "\n"
     ]
    },
    {
     "name": "stdout",
     "output_type": "stream",
     "text": [
      "\n",
      "      Epoch    GPU_mem   box_loss   cls_loss   dfl_loss  Instances       Size\n"
     ]
    },
    {
     "name": "stderr",
     "output_type": "stream",
     "text": [
      "     19/100      2.16G      1.452      1.238      1.124        341        416: 100%|██████████| 14/14 [00:02<00:00,  6.77it/s]\n",
      "                 Class     Images  Instances      Box(P          R      mAP50  mAP50-95): 100%|██████████| 2/2 [00:00<00:00,  3.31it/s]"
     ]
    },
    {
     "name": "stdout",
     "output_type": "stream",
     "text": [
      "                   all        127        909        0.6      0.501      0.555      0.285\n"
     ]
    },
    {
     "name": "stderr",
     "output_type": "stream",
     "text": [
      "\n"
     ]
    },
    {
     "name": "stdout",
     "output_type": "stream",
     "text": [
      "\n",
      "      Epoch    GPU_mem   box_loss   cls_loss   dfl_loss  Instances       Size\n"
     ]
    },
    {
     "name": "stderr",
     "output_type": "stream",
     "text": [
      "     20/100      1.94G      1.489      1.249      1.133        405        416: 100%|██████████| 14/14 [00:02<00:00,  6.71it/s]\n",
      "                 Class     Images  Instances      Box(P          R      mAP50  mAP50-95): 100%|██████████| 2/2 [00:00<00:00,  3.31it/s]"
     ]
    },
    {
     "name": "stdout",
     "output_type": "stream",
     "text": [
      "                   all        127        909      0.604      0.543      0.563      0.299\n"
     ]
    },
    {
     "name": "stderr",
     "output_type": "stream",
     "text": [
      "\n"
     ]
    },
    {
     "name": "stdout",
     "output_type": "stream",
     "text": [
      "\n",
      "      Epoch    GPU_mem   box_loss   cls_loss   dfl_loss  Instances       Size\n"
     ]
    },
    {
     "name": "stderr",
     "output_type": "stream",
     "text": [
      "     21/100      2.13G      1.447      1.213      1.124        508        416: 100%|██████████| 14/14 [00:02<00:00,  6.62it/s]\n",
      "                 Class     Images  Instances      Box(P          R      mAP50  mAP50-95): 100%|██████████| 2/2 [00:00<00:00,  3.38it/s]"
     ]
    },
    {
     "name": "stdout",
     "output_type": "stream",
     "text": [
      "                   all        127        909      0.649      0.454      0.527       0.28\n"
     ]
    },
    {
     "name": "stderr",
     "output_type": "stream",
     "text": [
      "\n"
     ]
    },
    {
     "name": "stdout",
     "output_type": "stream",
     "text": [
      "\n",
      "      Epoch    GPU_mem   box_loss   cls_loss   dfl_loss  Instances       Size\n"
     ]
    },
    {
     "name": "stderr",
     "output_type": "stream",
     "text": [
      "     22/100      1.93G      1.414      1.171      1.104        393        416: 100%|██████████| 14/14 [00:02<00:00,  6.43it/s]\n",
      "                 Class     Images  Instances      Box(P          R      mAP50  mAP50-95): 100%|██████████| 2/2 [00:00<00:00,  3.32it/s]"
     ]
    },
    {
     "name": "stdout",
     "output_type": "stream",
     "text": [
      "                   all        127        909       0.65      0.533      0.569      0.288\n"
     ]
    },
    {
     "name": "stderr",
     "output_type": "stream",
     "text": [
      "\n"
     ]
    },
    {
     "name": "stdout",
     "output_type": "stream",
     "text": [
      "\n",
      "      Epoch    GPU_mem   box_loss   cls_loss   dfl_loss  Instances       Size\n"
     ]
    },
    {
     "name": "stderr",
     "output_type": "stream",
     "text": [
      "     23/100         2G      1.425      1.158      1.115        277        416: 100%|██████████| 14/14 [00:02<00:00,  6.66it/s]\n",
      "                 Class     Images  Instances      Box(P          R      mAP50  mAP50-95): 100%|██████████| 2/2 [00:00<00:00,  3.45it/s]"
     ]
    },
    {
     "name": "stdout",
     "output_type": "stream",
     "text": [
      "                   all        127        909      0.625      0.569      0.575      0.311\n"
     ]
    },
    {
     "name": "stderr",
     "output_type": "stream",
     "text": [
      "\n"
     ]
    },
    {
     "name": "stdout",
     "output_type": "stream",
     "text": [
      "\n",
      "      Epoch    GPU_mem   box_loss   cls_loss   dfl_loss  Instances       Size\n"
     ]
    },
    {
     "name": "stderr",
     "output_type": "stream",
     "text": [
      "     24/100      2.23G      1.416      1.143      1.098        416        416: 100%|██████████| 14/14 [00:02<00:00,  6.49it/s]\n",
      "                 Class     Images  Instances      Box(P          R      mAP50  mAP50-95): 100%|██████████| 2/2 [00:00<00:00,  3.30it/s]"
     ]
    },
    {
     "name": "stdout",
     "output_type": "stream",
     "text": [
      "                   all        127        909      0.632      0.538      0.594      0.336\n"
     ]
    },
    {
     "name": "stderr",
     "output_type": "stream",
     "text": [
      "\n"
     ]
    },
    {
     "name": "stdout",
     "output_type": "stream",
     "text": [
      "\n",
      "      Epoch    GPU_mem   box_loss   cls_loss   dfl_loss  Instances       Size\n"
     ]
    },
    {
     "name": "stderr",
     "output_type": "stream",
     "text": [
      "     25/100      2.12G      1.424      1.134      1.095        437        416: 100%|██████████| 14/14 [00:02<00:00,  6.62it/s]\n",
      "                 Class     Images  Instances      Box(P          R      mAP50  mAP50-95): 100%|██████████| 2/2 [00:00<00:00,  3.27it/s]"
     ]
    },
    {
     "name": "stdout",
     "output_type": "stream",
     "text": [
      "                   all        127        909      0.629      0.583      0.613      0.337\n"
     ]
    },
    {
     "name": "stderr",
     "output_type": "stream",
     "text": [
      "\n"
     ]
    },
    {
     "name": "stdout",
     "output_type": "stream",
     "text": [
      "\n",
      "      Epoch    GPU_mem   box_loss   cls_loss   dfl_loss  Instances       Size\n"
     ]
    },
    {
     "name": "stderr",
     "output_type": "stream",
     "text": [
      "     26/100      2.06G      1.385      1.116      1.089        384        416: 100%|██████████| 14/14 [00:02<00:00,  6.54it/s]\n",
      "                 Class     Images  Instances      Box(P          R      mAP50  mAP50-95): 100%|██████████| 2/2 [00:00<00:00,  3.39it/s]"
     ]
    },
    {
     "name": "stdout",
     "output_type": "stream",
     "text": [
      "                   all        127        909      0.688      0.595      0.652       0.36\n"
     ]
    },
    {
     "name": "stderr",
     "output_type": "stream",
     "text": [
      "\n"
     ]
    },
    {
     "name": "stdout",
     "output_type": "stream",
     "text": [
      "\n",
      "      Epoch    GPU_mem   box_loss   cls_loss   dfl_loss  Instances       Size\n"
     ]
    },
    {
     "name": "stderr",
     "output_type": "stream",
     "text": [
      "     27/100      2.22G      1.401        1.1      1.101        409        416: 100%|██████████| 14/14 [00:02<00:00,  6.54it/s]\n",
      "                 Class     Images  Instances      Box(P          R      mAP50  mAP50-95): 100%|██████████| 2/2 [00:00<00:00,  3.35it/s]"
     ]
    },
    {
     "name": "stdout",
     "output_type": "stream",
     "text": [
      "                   all        127        909      0.701      0.605      0.662       0.37\n"
     ]
    },
    {
     "name": "stderr",
     "output_type": "stream",
     "text": [
      "\n"
     ]
    },
    {
     "name": "stdout",
     "output_type": "stream",
     "text": [
      "\n",
      "      Epoch    GPU_mem   box_loss   cls_loss   dfl_loss  Instances       Size\n"
     ]
    },
    {
     "name": "stderr",
     "output_type": "stream",
     "text": [
      "     28/100      2.05G      1.379       1.09      1.095        394        416: 100%|██████████| 14/14 [00:02<00:00,  6.63it/s]\n",
      "                 Class     Images  Instances      Box(P          R      mAP50  mAP50-95): 100%|██████████| 2/2 [00:00<00:00,  3.47it/s]"
     ]
    },
    {
     "name": "stdout",
     "output_type": "stream",
     "text": [
      "                   all        127        909      0.687      0.564       0.61      0.349\n"
     ]
    },
    {
     "name": "stderr",
     "output_type": "stream",
     "text": [
      "\n"
     ]
    },
    {
     "name": "stdout",
     "output_type": "stream",
     "text": [
      "\n",
      "      Epoch    GPU_mem   box_loss   cls_loss   dfl_loss  Instances       Size\n"
     ]
    },
    {
     "name": "stderr",
     "output_type": "stream",
     "text": [
      "     29/100      1.97G      1.381      1.095        1.1        340        416: 100%|██████████| 14/14 [00:02<00:00,  6.62it/s]\n",
      "                 Class     Images  Instances      Box(P          R      mAP50  mAP50-95): 100%|██████████| 2/2 [00:00<00:00,  3.25it/s]"
     ]
    },
    {
     "name": "stdout",
     "output_type": "stream",
     "text": [
      "                   all        127        909      0.735      0.593      0.661      0.365\n"
     ]
    },
    {
     "name": "stderr",
     "output_type": "stream",
     "text": [
      "\n"
     ]
    },
    {
     "name": "stdout",
     "output_type": "stream",
     "text": [
      "\n",
      "      Epoch    GPU_mem   box_loss   cls_loss   dfl_loss  Instances       Size\n"
     ]
    },
    {
     "name": "stderr",
     "output_type": "stream",
     "text": [
      "     30/100      1.99G      1.381      1.083      1.086        410        416: 100%|██████████| 14/14 [00:02<00:00,  6.59it/s]\n",
      "                 Class     Images  Instances      Box(P          R      mAP50  mAP50-95): 100%|██████████| 2/2 [00:00<00:00,  3.24it/s]"
     ]
    },
    {
     "name": "stdout",
     "output_type": "stream",
     "text": [
      "                   all        127        909      0.629      0.612      0.618      0.338\n"
     ]
    },
    {
     "name": "stderr",
     "output_type": "stream",
     "text": [
      "\n"
     ]
    },
    {
     "name": "stdout",
     "output_type": "stream",
     "text": [
      "\n",
      "      Epoch    GPU_mem   box_loss   cls_loss   dfl_loss  Instances       Size\n"
     ]
    },
    {
     "name": "stderr",
     "output_type": "stream",
     "text": [
      "     31/100      2.01G      1.369      1.073      1.088        320        416: 100%|██████████| 14/14 [00:02<00:00,  6.63it/s]\n",
      "                 Class     Images  Instances      Box(P          R      mAP50  mAP50-95): 100%|██████████| 2/2 [00:00<00:00,  3.32it/s]"
     ]
    },
    {
     "name": "stdout",
     "output_type": "stream",
     "text": [
      "                   all        127        909      0.611      0.562      0.588      0.319\n"
     ]
    },
    {
     "name": "stderr",
     "output_type": "stream",
     "text": [
      "\n"
     ]
    },
    {
     "name": "stdout",
     "output_type": "stream",
     "text": [
      "\n",
      "      Epoch    GPU_mem   box_loss   cls_loss   dfl_loss  Instances       Size\n"
     ]
    },
    {
     "name": "stderr",
     "output_type": "stream",
     "text": [
      "     32/100      1.99G      1.353      1.041      1.079        353        416: 100%|██████████| 14/14 [00:02<00:00,  6.67it/s]\n",
      "                 Class     Images  Instances      Box(P          R      mAP50  mAP50-95): 100%|██████████| 2/2 [00:00<00:00,  3.28it/s]"
     ]
    },
    {
     "name": "stdout",
     "output_type": "stream",
     "text": [
      "                   all        127        909       0.72      0.557      0.623      0.339\n"
     ]
    },
    {
     "name": "stderr",
     "output_type": "stream",
     "text": [
      "\n"
     ]
    },
    {
     "name": "stdout",
     "output_type": "stream",
     "text": [
      "\n",
      "      Epoch    GPU_mem   box_loss   cls_loss   dfl_loss  Instances       Size\n"
     ]
    },
    {
     "name": "stderr",
     "output_type": "stream",
     "text": [
      "     33/100      2.28G      1.321      1.031      1.068        517        416: 100%|██████████| 14/14 [00:02<00:00,  6.70it/s]\n",
      "                 Class     Images  Instances      Box(P          R      mAP50  mAP50-95): 100%|██████████| 2/2 [00:00<00:00,  3.25it/s]"
     ]
    },
    {
     "name": "stdout",
     "output_type": "stream",
     "text": [
      "                   all        127        909      0.677      0.619      0.654       0.36\n"
     ]
    },
    {
     "name": "stderr",
     "output_type": "stream",
     "text": [
      "\n"
     ]
    },
    {
     "name": "stdout",
     "output_type": "stream",
     "text": [
      "\n",
      "      Epoch    GPU_mem   box_loss   cls_loss   dfl_loss  Instances       Size\n"
     ]
    },
    {
     "name": "stderr",
     "output_type": "stream",
     "text": [
      "     34/100      2.01G       1.35      1.017      1.076        394        416: 100%|██████████| 14/14 [00:02<00:00,  6.64it/s]\n",
      "                 Class     Images  Instances      Box(P          R      mAP50  mAP50-95): 100%|██████████| 2/2 [00:00<00:00,  3.42it/s]"
     ]
    },
    {
     "name": "stdout",
     "output_type": "stream",
     "text": [
      "                   all        127        909      0.738       0.55      0.614      0.354\n"
     ]
    },
    {
     "name": "stderr",
     "output_type": "stream",
     "text": [
      "\n"
     ]
    },
    {
     "name": "stdout",
     "output_type": "stream",
     "text": [
      "\n",
      "      Epoch    GPU_mem   box_loss   cls_loss   dfl_loss  Instances       Size\n"
     ]
    },
    {
     "name": "stderr",
     "output_type": "stream",
     "text": [
      "     35/100      2.12G      1.324     0.9983      1.058        375        416: 100%|██████████| 14/14 [00:02<00:00,  6.70it/s]\n",
      "                 Class     Images  Instances      Box(P          R      mAP50  mAP50-95): 100%|██████████| 2/2 [00:00<00:00,  3.48it/s]"
     ]
    },
    {
     "name": "stdout",
     "output_type": "stream",
     "text": [
      "                   all        127        909      0.609      0.619       0.62      0.352\n"
     ]
    },
    {
     "name": "stderr",
     "output_type": "stream",
     "text": [
      "\n"
     ]
    },
    {
     "name": "stdout",
     "output_type": "stream",
     "text": [
      "\n",
      "      Epoch    GPU_mem   box_loss   cls_loss   dfl_loss  Instances       Size\n"
     ]
    },
    {
     "name": "stderr",
     "output_type": "stream",
     "text": [
      "     36/100      1.97G      1.344      1.009      1.084        494        416: 100%|██████████| 14/14 [00:02<00:00,  6.73it/s]\n",
      "                 Class     Images  Instances      Box(P          R      mAP50  mAP50-95): 100%|██████████| 2/2 [00:00<00:00,  3.32it/s]"
     ]
    },
    {
     "name": "stdout",
     "output_type": "stream",
     "text": [
      "                   all        127        909      0.681      0.633      0.657      0.378\n"
     ]
    },
    {
     "name": "stderr",
     "output_type": "stream",
     "text": [
      "\n"
     ]
    },
    {
     "name": "stdout",
     "output_type": "stream",
     "text": [
      "\n",
      "      Epoch    GPU_mem   box_loss   cls_loss   dfl_loss  Instances       Size\n"
     ]
    },
    {
     "name": "stderr",
     "output_type": "stream",
     "text": [
      "     37/100      1.93G      1.353      1.008      1.072        349        416: 100%|██████████| 14/14 [00:02<00:00,  6.64it/s]\n",
      "                 Class     Images  Instances      Box(P          R      mAP50  mAP50-95): 100%|██████████| 2/2 [00:00<00:00,  3.62it/s]"
     ]
    },
    {
     "name": "stdout",
     "output_type": "stream",
     "text": [
      "                   all        127        909       0.74      0.598       0.67      0.377\n"
     ]
    },
    {
     "name": "stderr",
     "output_type": "stream",
     "text": [
      "\n"
     ]
    },
    {
     "name": "stdout",
     "output_type": "stream",
     "text": [
      "\n",
      "      Epoch    GPU_mem   box_loss   cls_loss   dfl_loss  Instances       Size\n"
     ]
    },
    {
     "name": "stderr",
     "output_type": "stream",
     "text": [
      "     38/100      2.02G      1.317          1      1.071        364        416: 100%|██████████| 14/14 [00:02<00:00,  6.84it/s]\n",
      "                 Class     Images  Instances      Box(P          R      mAP50  mAP50-95): 100%|██████████| 2/2 [00:00<00:00,  3.43it/s]"
     ]
    },
    {
     "name": "stdout",
     "output_type": "stream",
     "text": [
      "                   all        127        909      0.708      0.627      0.679       0.39\n"
     ]
    },
    {
     "name": "stderr",
     "output_type": "stream",
     "text": [
      "\n"
     ]
    },
    {
     "name": "stdout",
     "output_type": "stream",
     "text": [
      "\n",
      "      Epoch    GPU_mem   box_loss   cls_loss   dfl_loss  Instances       Size\n"
     ]
    },
    {
     "name": "stderr",
     "output_type": "stream",
     "text": [
      "     39/100      1.98G      1.331     0.9768      1.055        342        416: 100%|██████████| 14/14 [00:02<00:00,  6.74it/s]\n",
      "                 Class     Images  Instances      Box(P          R      mAP50  mAP50-95): 100%|██████████| 2/2 [00:00<00:00,  3.39it/s]"
     ]
    },
    {
     "name": "stdout",
     "output_type": "stream",
     "text": [
      "                   all        127        909      0.662      0.579      0.628      0.347\n"
     ]
    },
    {
     "name": "stderr",
     "output_type": "stream",
     "text": [
      "\n"
     ]
    },
    {
     "name": "stdout",
     "output_type": "stream",
     "text": [
      "\n",
      "      Epoch    GPU_mem   box_loss   cls_loss   dfl_loss  Instances       Size\n"
     ]
    },
    {
     "name": "stderr",
     "output_type": "stream",
     "text": [
      "     40/100         2G      1.314     0.9584      1.055        512        416: 100%|██████████| 14/14 [00:02<00:00,  6.44it/s]\n",
      "                 Class     Images  Instances      Box(P          R      mAP50  mAP50-95): 100%|██████████| 2/2 [00:00<00:00,  3.60it/s]"
     ]
    },
    {
     "name": "stdout",
     "output_type": "stream",
     "text": [
      "                   all        127        909      0.725      0.609       0.66      0.372\n"
     ]
    },
    {
     "name": "stderr",
     "output_type": "stream",
     "text": [
      "\n"
     ]
    },
    {
     "name": "stdout",
     "output_type": "stream",
     "text": [
      "\n",
      "      Epoch    GPU_mem   box_loss   cls_loss   dfl_loss  Instances       Size\n"
     ]
    },
    {
     "name": "stderr",
     "output_type": "stream",
     "text": [
      "     41/100      1.93G      1.317     0.9567      1.051        346        416: 100%|██████████| 14/14 [00:02<00:00,  6.60it/s]\n",
      "                 Class     Images  Instances      Box(P          R      mAP50  mAP50-95): 100%|██████████| 2/2 [00:00<00:00,  3.32it/s]"
     ]
    },
    {
     "name": "stdout",
     "output_type": "stream",
     "text": [
      "                   all        127        909      0.717      0.588      0.658      0.373\n"
     ]
    },
    {
     "name": "stderr",
     "output_type": "stream",
     "text": [
      "\n"
     ]
    },
    {
     "name": "stdout",
     "output_type": "stream",
     "text": [
      "\n",
      "      Epoch    GPU_mem   box_loss   cls_loss   dfl_loss  Instances       Size\n"
     ]
    },
    {
     "name": "stderr",
     "output_type": "stream",
     "text": [
      "     42/100      1.97G      1.302     0.9394       1.05        452        416: 100%|██████████| 14/14 [00:02<00:00,  6.69it/s]\n",
      "                 Class     Images  Instances      Box(P          R      mAP50  mAP50-95): 100%|██████████| 2/2 [00:00<00:00,  3.40it/s]"
     ]
    },
    {
     "name": "stdout",
     "output_type": "stream",
     "text": [
      "                   all        127        909      0.751      0.607      0.661      0.382\n"
     ]
    },
    {
     "name": "stderr",
     "output_type": "stream",
     "text": [
      "\n"
     ]
    },
    {
     "name": "stdout",
     "output_type": "stream",
     "text": [
      "\n",
      "      Epoch    GPU_mem   box_loss   cls_loss   dfl_loss  Instances       Size\n"
     ]
    },
    {
     "name": "stderr",
     "output_type": "stream",
     "text": [
      "     43/100      1.99G      1.297     0.9361      1.048        349        416: 100%|██████████| 14/14 [00:02<00:00,  6.52it/s]\n",
      "                 Class     Images  Instances      Box(P          R      mAP50  mAP50-95): 100%|██████████| 2/2 [00:00<00:00,  3.41it/s]"
     ]
    },
    {
     "name": "stdout",
     "output_type": "stream",
     "text": [
      "                   all        127        909      0.794      0.571      0.672      0.377\n"
     ]
    },
    {
     "name": "stderr",
     "output_type": "stream",
     "text": [
      "\n"
     ]
    },
    {
     "name": "stdout",
     "output_type": "stream",
     "text": [
      "\n",
      "      Epoch    GPU_mem   box_loss   cls_loss   dfl_loss  Instances       Size\n"
     ]
    },
    {
     "name": "stderr",
     "output_type": "stream",
     "text": [
      "     44/100      2.11G      1.277     0.9438      1.044        305        416: 100%|██████████| 14/14 [00:02<00:00,  6.65it/s]\n",
      "                 Class     Images  Instances      Box(P          R      mAP50  mAP50-95): 100%|██████████| 2/2 [00:00<00:00,  3.48it/s]"
     ]
    },
    {
     "name": "stdout",
     "output_type": "stream",
     "text": [
      "                   all        127        909      0.736       0.64      0.686      0.397\n"
     ]
    },
    {
     "name": "stderr",
     "output_type": "stream",
     "text": [
      "\n"
     ]
    },
    {
     "name": "stdout",
     "output_type": "stream",
     "text": [
      "\n",
      "      Epoch    GPU_mem   box_loss   cls_loss   dfl_loss  Instances       Size\n"
     ]
    },
    {
     "name": "stderr",
     "output_type": "stream",
     "text": [
      "     45/100      1.94G      1.305     0.9535       1.06        437        416: 100%|██████████| 14/14 [00:02<00:00,  6.57it/s]\n",
      "                 Class     Images  Instances      Box(P          R      mAP50  mAP50-95): 100%|██████████| 2/2 [00:00<00:00,  3.36it/s]"
     ]
    },
    {
     "name": "stdout",
     "output_type": "stream",
     "text": [
      "                   all        127        909      0.752       0.58      0.655      0.366\n"
     ]
    },
    {
     "name": "stderr",
     "output_type": "stream",
     "text": [
      "\n"
     ]
    },
    {
     "name": "stdout",
     "output_type": "stream",
     "text": [
      "\n",
      "      Epoch    GPU_mem   box_loss   cls_loss   dfl_loss  Instances       Size\n"
     ]
    },
    {
     "name": "stderr",
     "output_type": "stream",
     "text": [
      "     46/100      2.06G      1.243     0.9002      1.034        348        416: 100%|██████████| 14/14 [00:02<00:00,  6.43it/s]\n",
      "                 Class     Images  Instances      Box(P          R      mAP50  mAP50-95): 100%|██████████| 2/2 [00:00<00:00,  3.31it/s]"
     ]
    },
    {
     "name": "stdout",
     "output_type": "stream",
     "text": [
      "                   all        127        909      0.711      0.639      0.674      0.386\n"
     ]
    },
    {
     "name": "stderr",
     "output_type": "stream",
     "text": [
      "\n"
     ]
    },
    {
     "name": "stdout",
     "output_type": "stream",
     "text": [
      "\n",
      "      Epoch    GPU_mem   box_loss   cls_loss   dfl_loss  Instances       Size\n"
     ]
    },
    {
     "name": "stderr",
     "output_type": "stream",
     "text": [
      "     47/100      2.04G      1.277     0.9374      1.036        479        416: 100%|██████████| 14/14 [00:02<00:00,  6.50it/s]\n",
      "                 Class     Images  Instances      Box(P          R      mAP50  mAP50-95): 100%|██████████| 2/2 [00:00<00:00,  3.44it/s]"
     ]
    },
    {
     "name": "stdout",
     "output_type": "stream",
     "text": [
      "                   all        127        909      0.722      0.595      0.656      0.368\n"
     ]
    },
    {
     "name": "stderr",
     "output_type": "stream",
     "text": [
      "\n"
     ]
    },
    {
     "name": "stdout",
     "output_type": "stream",
     "text": [
      "\n",
      "      Epoch    GPU_mem   box_loss   cls_loss   dfl_loss  Instances       Size\n"
     ]
    },
    {
     "name": "stderr",
     "output_type": "stream",
     "text": [
      "     48/100      2.22G      1.245     0.9019      1.043        335        416: 100%|██████████| 14/14 [00:02<00:00,  6.67it/s]\n",
      "                 Class     Images  Instances      Box(P          R      mAP50  mAP50-95): 100%|██████████| 2/2 [00:00<00:00,  3.35it/s]"
     ]
    },
    {
     "name": "stdout",
     "output_type": "stream",
     "text": [
      "                   all        127        909      0.658       0.63      0.675      0.384\n"
     ]
    },
    {
     "name": "stderr",
     "output_type": "stream",
     "text": [
      "\n"
     ]
    },
    {
     "name": "stdout",
     "output_type": "stream",
     "text": [
      "\n",
      "      Epoch    GPU_mem   box_loss   cls_loss   dfl_loss  Instances       Size\n"
     ]
    },
    {
     "name": "stderr",
     "output_type": "stream",
     "text": [
      "     49/100      2.05G      1.256     0.9053      1.038        436        416: 100%|██████████| 14/14 [00:02<00:00,  6.57it/s]\n",
      "                 Class     Images  Instances      Box(P          R      mAP50  mAP50-95): 100%|██████████| 2/2 [00:00<00:00,  3.48it/s]"
     ]
    },
    {
     "name": "stdout",
     "output_type": "stream",
     "text": [
      "                   all        127        909      0.762      0.633      0.698      0.406\n"
     ]
    },
    {
     "name": "stderr",
     "output_type": "stream",
     "text": [
      "\n"
     ]
    },
    {
     "name": "stdout",
     "output_type": "stream",
     "text": [
      "\n",
      "      Epoch    GPU_mem   box_loss   cls_loss   dfl_loss  Instances       Size\n"
     ]
    },
    {
     "name": "stderr",
     "output_type": "stream",
     "text": [
      "     50/100      1.99G       1.27     0.8903      1.035        374        416: 100%|██████████| 14/14 [00:02<00:00,  6.36it/s]\n",
      "                 Class     Images  Instances      Box(P          R      mAP50  mAP50-95): 100%|██████████| 2/2 [00:00<00:00,  3.52it/s]"
     ]
    },
    {
     "name": "stdout",
     "output_type": "stream",
     "text": [
      "                   all        127        909      0.734      0.627      0.691      0.403\n"
     ]
    },
    {
     "name": "stderr",
     "output_type": "stream",
     "text": [
      "\n"
     ]
    },
    {
     "name": "stdout",
     "output_type": "stream",
     "text": [
      "\n",
      "      Epoch    GPU_mem   box_loss   cls_loss   dfl_loss  Instances       Size\n"
     ]
    },
    {
     "name": "stderr",
     "output_type": "stream",
     "text": [
      "     51/100      2.15G      1.232     0.8739      1.026        451        416: 100%|██████████| 14/14 [00:02<00:00,  6.50it/s]\n",
      "                 Class     Images  Instances      Box(P          R      mAP50  mAP50-95): 100%|██████████| 2/2 [00:00<00:00,  3.41it/s]"
     ]
    },
    {
     "name": "stdout",
     "output_type": "stream",
     "text": [
      "                   all        127        909      0.777      0.643      0.702      0.406\n"
     ]
    },
    {
     "name": "stderr",
     "output_type": "stream",
     "text": [
      "\n"
     ]
    },
    {
     "name": "stdout",
     "output_type": "stream",
     "text": [
      "\n",
      "      Epoch    GPU_mem   box_loss   cls_loss   dfl_loss  Instances       Size\n"
     ]
    },
    {
     "name": "stderr",
     "output_type": "stream",
     "text": [
      "     52/100      2.08G      1.258     0.8797      1.032        415        416: 100%|██████████| 14/14 [00:02<00:00,  6.46it/s]\n",
      "                 Class     Images  Instances      Box(P          R      mAP50  mAP50-95): 100%|██████████| 2/2 [00:00<00:00,  3.36it/s]"
     ]
    },
    {
     "name": "stdout",
     "output_type": "stream",
     "text": [
      "                   all        127        909      0.771      0.619       0.69       0.39\n"
     ]
    },
    {
     "name": "stderr",
     "output_type": "stream",
     "text": [
      "\n"
     ]
    },
    {
     "name": "stdout",
     "output_type": "stream",
     "text": [
      "\n",
      "      Epoch    GPU_mem   box_loss   cls_loss   dfl_loss  Instances       Size\n"
     ]
    },
    {
     "name": "stderr",
     "output_type": "stream",
     "text": [
      "     53/100      2.32G      1.257      0.876      1.034        346        416: 100%|██████████| 14/14 [00:02<00:00,  6.43it/s]\n",
      "                 Class     Images  Instances      Box(P          R      mAP50  mAP50-95): 100%|██████████| 2/2 [00:00<00:00,  3.38it/s]"
     ]
    },
    {
     "name": "stdout",
     "output_type": "stream",
     "text": [
      "                   all        127        909       0.71      0.624      0.684      0.388\n"
     ]
    },
    {
     "name": "stderr",
     "output_type": "stream",
     "text": [
      "\n"
     ]
    },
    {
     "name": "stdout",
     "output_type": "stream",
     "text": [
      "\n",
      "      Epoch    GPU_mem   box_loss   cls_loss   dfl_loss  Instances       Size\n"
     ]
    },
    {
     "name": "stderr",
     "output_type": "stream",
     "text": [
      "     54/100      2.16G      1.241     0.8565      1.024        329        416: 100%|██████████| 14/14 [00:02<00:00,  6.54it/s]\n",
      "                 Class     Images  Instances      Box(P          R      mAP50  mAP50-95): 100%|██████████| 2/2 [00:00<00:00,  3.37it/s]"
     ]
    },
    {
     "name": "stdout",
     "output_type": "stream",
     "text": [
      "                   all        127        909      0.791      0.608      0.691      0.406\n"
     ]
    },
    {
     "name": "stderr",
     "output_type": "stream",
     "text": [
      "\n"
     ]
    },
    {
     "name": "stdout",
     "output_type": "stream",
     "text": [
      "\n",
      "      Epoch    GPU_mem   box_loss   cls_loss   dfl_loss  Instances       Size\n"
     ]
    },
    {
     "name": "stderr",
     "output_type": "stream",
     "text": [
      "     55/100       2.1G       1.24     0.8739      1.026        293        416: 100%|██████████| 14/14 [00:02<00:00,  6.61it/s]\n",
      "                 Class     Images  Instances      Box(P          R      mAP50  mAP50-95): 100%|██████████| 2/2 [00:00<00:00,  3.46it/s]"
     ]
    },
    {
     "name": "stdout",
     "output_type": "stream",
     "text": [
      "                   all        127        909      0.771      0.611      0.675      0.391\n"
     ]
    },
    {
     "name": "stderr",
     "output_type": "stream",
     "text": [
      "\n"
     ]
    },
    {
     "name": "stdout",
     "output_type": "stream",
     "text": [
      "\n",
      "      Epoch    GPU_mem   box_loss   cls_loss   dfl_loss  Instances       Size\n"
     ]
    },
    {
     "name": "stderr",
     "output_type": "stream",
     "text": [
      "     56/100         2G       1.22     0.8554      1.024        415        416: 100%|██████████| 14/14 [00:02<00:00,  6.72it/s]\n",
      "                 Class     Images  Instances      Box(P          R      mAP50  mAP50-95): 100%|██████████| 2/2 [00:00<00:00,  3.31it/s]"
     ]
    },
    {
     "name": "stdout",
     "output_type": "stream",
     "text": [
      "                   all        127        909      0.758      0.634      0.673       0.39\n"
     ]
    },
    {
     "name": "stderr",
     "output_type": "stream",
     "text": [
      "\n"
     ]
    },
    {
     "name": "stdout",
     "output_type": "stream",
     "text": [
      "\n",
      "      Epoch    GPU_mem   box_loss   cls_loss   dfl_loss  Instances       Size\n"
     ]
    },
    {
     "name": "stderr",
     "output_type": "stream",
     "text": [
      "     57/100      2.04G      1.246     0.8514      1.026        374        416: 100%|██████████| 14/14 [00:02<00:00,  6.68it/s]\n",
      "                 Class     Images  Instances      Box(P          R      mAP50  mAP50-95): 100%|██████████| 2/2 [00:00<00:00,  3.44it/s]"
     ]
    },
    {
     "name": "stdout",
     "output_type": "stream",
     "text": [
      "                   all        127        909      0.781      0.617      0.676      0.388\n"
     ]
    },
    {
     "name": "stderr",
     "output_type": "stream",
     "text": [
      "\n"
     ]
    },
    {
     "name": "stdout",
     "output_type": "stream",
     "text": [
      "\n",
      "      Epoch    GPU_mem   box_loss   cls_loss   dfl_loss  Instances       Size\n"
     ]
    },
    {
     "name": "stderr",
     "output_type": "stream",
     "text": [
      "     58/100      2.08G      1.243     0.8541      1.016        482        416: 100%|██████████| 14/14 [00:02<00:00,  6.57it/s]\n",
      "                 Class     Images  Instances      Box(P          R      mAP50  mAP50-95): 100%|██████████| 2/2 [00:00<00:00,  3.46it/s]"
     ]
    },
    {
     "name": "stdout",
     "output_type": "stream",
     "text": [
      "                   all        127        909      0.758       0.63        0.7      0.408\n"
     ]
    },
    {
     "name": "stderr",
     "output_type": "stream",
     "text": [
      "\n"
     ]
    },
    {
     "name": "stdout",
     "output_type": "stream",
     "text": [
      "\n",
      "      Epoch    GPU_mem   box_loss   cls_loss   dfl_loss  Instances       Size\n"
     ]
    },
    {
     "name": "stderr",
     "output_type": "stream",
     "text": [
      "     59/100      2.06G      1.261     0.8469      1.026        478        416: 100%|██████████| 14/14 [00:02<00:00,  6.58it/s]\n",
      "                 Class     Images  Instances      Box(P          R      mAP50  mAP50-95): 100%|██████████| 2/2 [00:00<00:00,  3.29it/s]"
     ]
    },
    {
     "name": "stdout",
     "output_type": "stream",
     "text": [
      "                   all        127        909      0.761      0.624       0.69      0.403\n"
     ]
    },
    {
     "name": "stderr",
     "output_type": "stream",
     "text": [
      "\n"
     ]
    },
    {
     "name": "stdout",
     "output_type": "stream",
     "text": [
      "\n",
      "      Epoch    GPU_mem   box_loss   cls_loss   dfl_loss  Instances       Size\n"
     ]
    },
    {
     "name": "stderr",
     "output_type": "stream",
     "text": [
      "     60/100      2.32G      1.231     0.8326      1.026        447        416: 100%|██████████| 14/14 [00:02<00:00,  6.59it/s]\n",
      "                 Class     Images  Instances      Box(P          R      mAP50  mAP50-95): 100%|██████████| 2/2 [00:00<00:00,  3.39it/s]"
     ]
    },
    {
     "name": "stdout",
     "output_type": "stream",
     "text": [
      "                   all        127        909      0.779      0.599      0.692      0.406\n"
     ]
    },
    {
     "name": "stderr",
     "output_type": "stream",
     "text": [
      "\n"
     ]
    },
    {
     "name": "stdout",
     "output_type": "stream",
     "text": [
      "\n",
      "      Epoch    GPU_mem   box_loss   cls_loss   dfl_loss  Instances       Size\n"
     ]
    },
    {
     "name": "stderr",
     "output_type": "stream",
     "text": [
      "     61/100      2.08G        1.2     0.8148      1.013        337        416: 100%|██████████| 14/14 [00:02<00:00,  6.64it/s]\n",
      "                 Class     Images  Instances      Box(P          R      mAP50  mAP50-95): 100%|██████████| 2/2 [00:00<00:00,  3.37it/s]"
     ]
    },
    {
     "name": "stdout",
     "output_type": "stream",
     "text": [
      "                   all        127        909      0.711       0.63      0.685      0.398\n"
     ]
    },
    {
     "name": "stderr",
     "output_type": "stream",
     "text": [
      "\n"
     ]
    },
    {
     "name": "stdout",
     "output_type": "stream",
     "text": [
      "\n",
      "      Epoch    GPU_mem   box_loss   cls_loss   dfl_loss  Instances       Size\n"
     ]
    },
    {
     "name": "stderr",
     "output_type": "stream",
     "text": [
      "     62/100      1.98G      1.225     0.8289      1.028        382        416: 100%|██████████| 14/14 [00:02<00:00,  6.50it/s]\n",
      "                 Class     Images  Instances      Box(P          R      mAP50  mAP50-95): 100%|██████████| 2/2 [00:00<00:00,  3.43it/s]"
     ]
    },
    {
     "name": "stdout",
     "output_type": "stream",
     "text": [
      "                   all        127        909      0.746      0.632      0.695        0.4\n"
     ]
    },
    {
     "name": "stderr",
     "output_type": "stream",
     "text": [
      "\n"
     ]
    },
    {
     "name": "stdout",
     "output_type": "stream",
     "text": [
      "\n",
      "      Epoch    GPU_mem   box_loss   cls_loss   dfl_loss  Instances       Size\n"
     ]
    },
    {
     "name": "stderr",
     "output_type": "stream",
     "text": [
      "     63/100      1.98G      1.169     0.8068      1.011        290        416: 100%|██████████| 14/14 [00:02<00:00,  6.54it/s]\n",
      "                 Class     Images  Instances      Box(P          R      mAP50  mAP50-95): 100%|██████████| 2/2 [00:00<00:00,  3.33it/s]"
     ]
    },
    {
     "name": "stdout",
     "output_type": "stream",
     "text": [
      "                   all        127        909       0.77      0.643        0.7      0.416\n"
     ]
    },
    {
     "name": "stderr",
     "output_type": "stream",
     "text": [
      "\n"
     ]
    },
    {
     "name": "stdout",
     "output_type": "stream",
     "text": [
      "\n",
      "      Epoch    GPU_mem   box_loss   cls_loss   dfl_loss  Instances       Size\n"
     ]
    },
    {
     "name": "stderr",
     "output_type": "stream",
     "text": [
      "     64/100         2G      1.187     0.8101      1.012        432        416: 100%|██████████| 14/14 [00:02<00:00,  6.53it/s]\n",
      "                 Class     Images  Instances      Box(P          R      mAP50  mAP50-95): 100%|██████████| 2/2 [00:00<00:00,  3.17it/s]"
     ]
    },
    {
     "name": "stdout",
     "output_type": "stream",
     "text": [
      "                   all        127        909      0.821      0.611      0.705       0.41\n"
     ]
    },
    {
     "name": "stderr",
     "output_type": "stream",
     "text": [
      "\n"
     ]
    },
    {
     "name": "stdout",
     "output_type": "stream",
     "text": [
      "\n",
      "      Epoch    GPU_mem   box_loss   cls_loss   dfl_loss  Instances       Size\n"
     ]
    },
    {
     "name": "stderr",
     "output_type": "stream",
     "text": [
      "     65/100      2.06G      1.212     0.8195      1.017        408        416: 100%|██████████| 14/14 [00:02<00:00,  6.41it/s]\n",
      "                 Class     Images  Instances      Box(P          R      mAP50  mAP50-95): 100%|██████████| 2/2 [00:00<00:00,  3.48it/s]"
     ]
    },
    {
     "name": "stdout",
     "output_type": "stream",
     "text": [
      "                   all        127        909      0.782      0.633      0.712      0.406\n"
     ]
    },
    {
     "name": "stderr",
     "output_type": "stream",
     "text": [
      "\n"
     ]
    },
    {
     "name": "stdout",
     "output_type": "stream",
     "text": [
      "\n",
      "      Epoch    GPU_mem   box_loss   cls_loss   dfl_loss  Instances       Size\n"
     ]
    },
    {
     "name": "stderr",
     "output_type": "stream",
     "text": [
      "     66/100         2G      1.179     0.7934       1.01        378        416: 100%|██████████| 14/14 [00:02<00:00,  6.43it/s]\n",
      "                 Class     Images  Instances      Box(P          R      mAP50  mAP50-95): 100%|██████████| 2/2 [00:00<00:00,  3.37it/s]"
     ]
    },
    {
     "name": "stdout",
     "output_type": "stream",
     "text": [
      "                   all        127        909      0.824      0.657      0.734      0.418\n"
     ]
    },
    {
     "name": "stderr",
     "output_type": "stream",
     "text": [
      "\n"
     ]
    },
    {
     "name": "stdout",
     "output_type": "stream",
     "text": [
      "\n",
      "      Epoch    GPU_mem   box_loss   cls_loss   dfl_loss  Instances       Size\n"
     ]
    },
    {
     "name": "stderr",
     "output_type": "stream",
     "text": [
      "     67/100      2.05G      1.183     0.8045      1.008        468        416: 100%|██████████| 14/14 [00:02<00:00,  6.46it/s]\n",
      "                 Class     Images  Instances      Box(P          R      mAP50  mAP50-95): 100%|██████████| 2/2 [00:00<00:00,  3.33it/s]"
     ]
    },
    {
     "name": "stdout",
     "output_type": "stream",
     "text": [
      "                   all        127        909      0.798      0.661       0.73       0.42\n"
     ]
    },
    {
     "name": "stderr",
     "output_type": "stream",
     "text": [
      "\n"
     ]
    },
    {
     "name": "stdout",
     "output_type": "stream",
     "text": [
      "\n",
      "      Epoch    GPU_mem   box_loss   cls_loss   dfl_loss  Instances       Size\n"
     ]
    },
    {
     "name": "stderr",
     "output_type": "stream",
     "text": [
      "     68/100      2.16G      1.185     0.7978      1.001        369        416: 100%|██████████| 14/14 [00:02<00:00,  6.51it/s]\n",
      "                 Class     Images  Instances      Box(P          R      mAP50  mAP50-95): 100%|██████████| 2/2 [00:00<00:00,  3.21it/s]"
     ]
    },
    {
     "name": "stdout",
     "output_type": "stream",
     "text": [
      "                   all        127        909      0.759      0.662      0.721      0.411\n"
     ]
    },
    {
     "name": "stderr",
     "output_type": "stream",
     "text": [
      "\n"
     ]
    },
    {
     "name": "stdout",
     "output_type": "stream",
     "text": [
      "\n",
      "      Epoch    GPU_mem   box_loss   cls_loss   dfl_loss  Instances       Size\n"
     ]
    },
    {
     "name": "stderr",
     "output_type": "stream",
     "text": [
      "     69/100         2G      1.159     0.7751     0.9951        418        416: 100%|██████████| 14/14 [00:02<00:00,  6.54it/s]\n",
      "                 Class     Images  Instances      Box(P          R      mAP50  mAP50-95): 100%|██████████| 2/2 [00:00<00:00,  3.44it/s]"
     ]
    },
    {
     "name": "stdout",
     "output_type": "stream",
     "text": [
      "                   all        127        909      0.777      0.652      0.722       0.42\n"
     ]
    },
    {
     "name": "stderr",
     "output_type": "stream",
     "text": [
      "\n"
     ]
    },
    {
     "name": "stdout",
     "output_type": "stream",
     "text": [
      "\n",
      "      Epoch    GPU_mem   box_loss   cls_loss   dfl_loss  Instances       Size\n"
     ]
    },
    {
     "name": "stderr",
     "output_type": "stream",
     "text": [
      "     70/100      1.99G      1.187     0.7864      1.001        367        416: 100%|██████████| 14/14 [00:02<00:00,  6.63it/s]\n",
      "                 Class     Images  Instances      Box(P          R      mAP50  mAP50-95): 100%|██████████| 2/2 [00:00<00:00,  3.58it/s]"
     ]
    },
    {
     "name": "stdout",
     "output_type": "stream",
     "text": [
      "                   all        127        909      0.799      0.652      0.716      0.413\n"
     ]
    },
    {
     "name": "stderr",
     "output_type": "stream",
     "text": [
      "\n"
     ]
    },
    {
     "name": "stdout",
     "output_type": "stream",
     "text": [
      "\n",
      "      Epoch    GPU_mem   box_loss   cls_loss   dfl_loss  Instances       Size\n"
     ]
    },
    {
     "name": "stderr",
     "output_type": "stream",
     "text": [
      "     71/100      1.99G      1.147     0.7665      0.994        355        416: 100%|██████████| 14/14 [00:02<00:00,  6.64it/s]\n",
      "                 Class     Images  Instances      Box(P          R      mAP50  mAP50-95): 100%|██████████| 2/2 [00:00<00:00,  3.48it/s]"
     ]
    },
    {
     "name": "stdout",
     "output_type": "stream",
     "text": [
      "                   all        127        909      0.765      0.635      0.705      0.409\n"
     ]
    },
    {
     "name": "stderr",
     "output_type": "stream",
     "text": [
      "\n"
     ]
    },
    {
     "name": "stdout",
     "output_type": "stream",
     "text": [
      "\n",
      "      Epoch    GPU_mem   box_loss   cls_loss   dfl_loss  Instances       Size\n"
     ]
    },
    {
     "name": "stderr",
     "output_type": "stream",
     "text": [
      "     72/100      1.98G      1.162     0.7603     0.9907        488        416: 100%|██████████| 14/14 [00:02<00:00,  6.59it/s]\n",
      "                 Class     Images  Instances      Box(P          R      mAP50  mAP50-95): 100%|██████████| 2/2 [00:00<00:00,  3.38it/s]"
     ]
    },
    {
     "name": "stdout",
     "output_type": "stream",
     "text": [
      "                   all        127        909      0.813      0.627      0.717      0.409\n"
     ]
    },
    {
     "name": "stderr",
     "output_type": "stream",
     "text": [
      "\n"
     ]
    },
    {
     "name": "stdout",
     "output_type": "stream",
     "text": [
      "\n",
      "      Epoch    GPU_mem   box_loss   cls_loss   dfl_loss  Instances       Size\n"
     ]
    },
    {
     "name": "stderr",
     "output_type": "stream",
     "text": [
      "     73/100      2.19G      1.165     0.7767      0.995        384        416: 100%|██████████| 14/14 [00:02<00:00,  6.66it/s]\n",
      "                 Class     Images  Instances      Box(P          R      mAP50  mAP50-95): 100%|██████████| 2/2 [00:00<00:00,  3.40it/s]"
     ]
    },
    {
     "name": "stdout",
     "output_type": "stream",
     "text": [
      "                   all        127        909      0.773      0.649      0.726      0.416\n"
     ]
    },
    {
     "name": "stderr",
     "output_type": "stream",
     "text": [
      "\n"
     ]
    },
    {
     "name": "stdout",
     "output_type": "stream",
     "text": [
      "\n",
      "      Epoch    GPU_mem   box_loss   cls_loss   dfl_loss  Instances       Size\n"
     ]
    },
    {
     "name": "stderr",
     "output_type": "stream",
     "text": [
      "     74/100      2.12G       1.15     0.7647     0.9909        412        416: 100%|██████████| 14/14 [00:02<00:00,  6.48it/s]\n",
      "                 Class     Images  Instances      Box(P          R      mAP50  mAP50-95): 100%|██████████| 2/2 [00:00<00:00,  3.49it/s]"
     ]
    },
    {
     "name": "stdout",
     "output_type": "stream",
     "text": [
      "                   all        127        909      0.795      0.638      0.723      0.424\n"
     ]
    },
    {
     "name": "stderr",
     "output_type": "stream",
     "text": [
      "\n"
     ]
    },
    {
     "name": "stdout",
     "output_type": "stream",
     "text": [
      "\n",
      "      Epoch    GPU_mem   box_loss   cls_loss   dfl_loss  Instances       Size\n"
     ]
    },
    {
     "name": "stderr",
     "output_type": "stream",
     "text": [
      "     75/100      2.05G      1.148     0.7618     0.9905        406        416: 100%|██████████| 14/14 [00:02<00:00,  6.58it/s]\n",
      "                 Class     Images  Instances      Box(P          R      mAP50  mAP50-95): 100%|██████████| 2/2 [00:00<00:00,  3.52it/s]"
     ]
    },
    {
     "name": "stdout",
     "output_type": "stream",
     "text": [
      "                   all        127        909      0.754       0.66      0.729      0.426\n"
     ]
    },
    {
     "name": "stderr",
     "output_type": "stream",
     "text": [
      "\n"
     ]
    },
    {
     "name": "stdout",
     "output_type": "stream",
     "text": [
      "\n",
      "      Epoch    GPU_mem   box_loss   cls_loss   dfl_loss  Instances       Size\n"
     ]
    },
    {
     "name": "stderr",
     "output_type": "stream",
     "text": [
      "     76/100      2.07G      1.155     0.7586     0.9969        457        416: 100%|██████████| 14/14 [00:02<00:00,  6.65it/s]\n",
      "                 Class     Images  Instances      Box(P          R      mAP50  mAP50-95): 100%|██████████| 2/2 [00:00<00:00,  3.42it/s]"
     ]
    },
    {
     "name": "stdout",
     "output_type": "stream",
     "text": [
      "                   all        127        909      0.777      0.656      0.728      0.435\n"
     ]
    },
    {
     "name": "stderr",
     "output_type": "stream",
     "text": [
      "\n"
     ]
    },
    {
     "name": "stdout",
     "output_type": "stream",
     "text": [
      "\n",
      "      Epoch    GPU_mem   box_loss   cls_loss   dfl_loss  Instances       Size\n"
     ]
    },
    {
     "name": "stderr",
     "output_type": "stream",
     "text": [
      "     77/100      2.02G      1.161     0.7763     0.9951        435        416: 100%|██████████| 14/14 [00:02<00:00,  6.59it/s]\n",
      "                 Class     Images  Instances      Box(P          R      mAP50  mAP50-95): 100%|██████████| 2/2 [00:00<00:00,  3.48it/s]"
     ]
    },
    {
     "name": "stdout",
     "output_type": "stream",
     "text": [
      "                   all        127        909      0.767      0.661      0.727      0.426\n"
     ]
    },
    {
     "name": "stderr",
     "output_type": "stream",
     "text": [
      "\n"
     ]
    },
    {
     "name": "stdout",
     "output_type": "stream",
     "text": [
      "\n",
      "      Epoch    GPU_mem   box_loss   cls_loss   dfl_loss  Instances       Size\n"
     ]
    },
    {
     "name": "stderr",
     "output_type": "stream",
     "text": [
      "     78/100      1.97G      1.126     0.7381     0.9829        347        416: 100%|██████████| 14/14 [00:02<00:00,  6.54it/s]\n",
      "                 Class     Images  Instances      Box(P          R      mAP50  mAP50-95): 100%|██████████| 2/2 [00:00<00:00,  3.25it/s]"
     ]
    },
    {
     "name": "stdout",
     "output_type": "stream",
     "text": [
      "                   all        127        909      0.783      0.644      0.729      0.437\n"
     ]
    },
    {
     "name": "stderr",
     "output_type": "stream",
     "text": [
      "\n"
     ]
    },
    {
     "name": "stdout",
     "output_type": "stream",
     "text": [
      "\n",
      "      Epoch    GPU_mem   box_loss   cls_loss   dfl_loss  Instances       Size\n"
     ]
    },
    {
     "name": "stderr",
     "output_type": "stream",
     "text": [
      "     79/100      2.03G      1.154     0.7441     0.9916        392        416: 100%|██████████| 14/14 [00:02<00:00,  6.59it/s]\n",
      "                 Class     Images  Instances      Box(P          R      mAP50  mAP50-95): 100%|██████████| 2/2 [00:00<00:00,  3.49it/s]"
     ]
    },
    {
     "name": "stdout",
     "output_type": "stream",
     "text": [
      "                   all        127        909      0.803      0.624      0.716      0.426\n"
     ]
    },
    {
     "name": "stderr",
     "output_type": "stream",
     "text": [
      "\n"
     ]
    },
    {
     "name": "stdout",
     "output_type": "stream",
     "text": [
      "\n",
      "      Epoch    GPU_mem   box_loss   cls_loss   dfl_loss  Instances       Size\n"
     ]
    },
    {
     "name": "stderr",
     "output_type": "stream",
     "text": [
      "     80/100      1.98G      1.106     0.7415      0.986        312        416: 100%|██████████| 14/14 [00:02<00:00,  6.67it/s]\n",
      "                 Class     Images  Instances      Box(P          R      mAP50  mAP50-95): 100%|██████████| 2/2 [00:00<00:00,  3.56it/s]"
     ]
    },
    {
     "name": "stdout",
     "output_type": "stream",
     "text": [
      "                   all        127        909      0.821      0.626      0.717      0.431\n"
     ]
    },
    {
     "name": "stderr",
     "output_type": "stream",
     "text": [
      "\n"
     ]
    },
    {
     "name": "stdout",
     "output_type": "stream",
     "text": [
      "\n",
      "      Epoch    GPU_mem   box_loss   cls_loss   dfl_loss  Instances       Size\n"
     ]
    },
    {
     "name": "stderr",
     "output_type": "stream",
     "text": [
      "     81/100      2.15G      1.143     0.7589     0.9948        473        416: 100%|██████████| 14/14 [00:02<00:00,  6.10it/s]\n",
      "                 Class     Images  Instances      Box(P          R      mAP50  mAP50-95): 100%|██████████| 2/2 [00:00<00:00,  2.81it/s]"
     ]
    },
    {
     "name": "stdout",
     "output_type": "stream",
     "text": [
      "                   all        127        909      0.745      0.665      0.713      0.432\n"
     ]
    },
    {
     "name": "stderr",
     "output_type": "stream",
     "text": [
      "\n"
     ]
    },
    {
     "name": "stdout",
     "output_type": "stream",
     "text": [
      "\n",
      "      Epoch    GPU_mem   box_loss   cls_loss   dfl_loss  Instances       Size\n"
     ]
    },
    {
     "name": "stderr",
     "output_type": "stream",
     "text": [
      "     82/100      2.08G      1.096     0.7271     0.9818        435        416: 100%|██████████| 14/14 [00:02<00:00,  6.18it/s]\n",
      "                 Class     Images  Instances      Box(P          R      mAP50  mAP50-95): 100%|██████████| 2/2 [00:00<00:00,  3.14it/s]"
     ]
    },
    {
     "name": "stdout",
     "output_type": "stream",
     "text": [
      "                   all        127        909      0.779      0.621        0.7       0.42\n"
     ]
    },
    {
     "name": "stderr",
     "output_type": "stream",
     "text": [
      "\n"
     ]
    },
    {
     "name": "stdout",
     "output_type": "stream",
     "text": [
      "\n",
      "      Epoch    GPU_mem   box_loss   cls_loss   dfl_loss  Instances       Size\n"
     ]
    },
    {
     "name": "stderr",
     "output_type": "stream",
     "text": [
      "     83/100      2.01G      1.094     0.7093     0.9806        381        416: 100%|██████████| 14/14 [00:02<00:00,  6.47it/s]\n",
      "                 Class     Images  Instances      Box(P          R      mAP50  mAP50-95): 100%|██████████| 2/2 [00:00<00:00,  3.23it/s]"
     ]
    },
    {
     "name": "stdout",
     "output_type": "stream",
     "text": [
      "                   all        127        909      0.779      0.626      0.709      0.428\n"
     ]
    },
    {
     "name": "stderr",
     "output_type": "stream",
     "text": [
      "\n"
     ]
    },
    {
     "name": "stdout",
     "output_type": "stream",
     "text": [
      "\n",
      "      Epoch    GPU_mem   box_loss   cls_loss   dfl_loss  Instances       Size\n"
     ]
    },
    {
     "name": "stderr",
     "output_type": "stream",
     "text": [
      "     84/100      2.19G      1.102     0.7211     0.9729        327        416: 100%|██████████| 14/14 [00:02<00:00,  6.39it/s]\n",
      "                 Class     Images  Instances      Box(P          R      mAP50  mAP50-95): 100%|██████████| 2/2 [00:00<00:00,  3.55it/s]"
     ]
    },
    {
     "name": "stdout",
     "output_type": "stream",
     "text": [
      "                   all        127        909       0.77      0.661      0.709      0.424\n"
     ]
    },
    {
     "name": "stderr",
     "output_type": "stream",
     "text": [
      "\n"
     ]
    },
    {
     "name": "stdout",
     "output_type": "stream",
     "text": [
      "\n",
      "      Epoch    GPU_mem   box_loss   cls_loss   dfl_loss  Instances       Size\n"
     ]
    },
    {
     "name": "stderr",
     "output_type": "stream",
     "text": [
      "     85/100       2.1G      1.103     0.7179     0.9829        364        416: 100%|██████████| 14/14 [00:02<00:00,  6.34it/s]\n",
      "                 Class     Images  Instances      Box(P          R      mAP50  mAP50-95): 100%|██████████| 2/2 [00:00<00:00,  3.40it/s]"
     ]
    },
    {
     "name": "stdout",
     "output_type": "stream",
     "text": [
      "                   all        127        909      0.793      0.644      0.714      0.425\n"
     ]
    },
    {
     "name": "stderr",
     "output_type": "stream",
     "text": [
      "\n"
     ]
    },
    {
     "name": "stdout",
     "output_type": "stream",
     "text": [
      "\n",
      "      Epoch    GPU_mem   box_loss   cls_loss   dfl_loss  Instances       Size\n"
     ]
    },
    {
     "name": "stderr",
     "output_type": "stream",
     "text": [
      "     86/100      2.02G      1.124     0.7396     0.9833        419        416: 100%|██████████| 14/14 [00:02<00:00,  6.36it/s]\n",
      "                 Class     Images  Instances      Box(P          R      mAP50  mAP50-95): 100%|██████████| 2/2 [00:00<00:00,  3.30it/s]"
     ]
    },
    {
     "name": "stdout",
     "output_type": "stream",
     "text": [
      "                   all        127        909      0.794      0.645      0.715      0.427\n"
     ]
    },
    {
     "name": "stderr",
     "output_type": "stream",
     "text": [
      "\n"
     ]
    },
    {
     "name": "stdout",
     "output_type": "stream",
     "text": [
      "\n",
      "      Epoch    GPU_mem   box_loss   cls_loss   dfl_loss  Instances       Size\n"
     ]
    },
    {
     "name": "stderr",
     "output_type": "stream",
     "text": [
      "     87/100         2G      1.112     0.7219     0.9793        521        416: 100%|██████████| 14/14 [00:02<00:00,  6.44it/s]\n",
      "                 Class     Images  Instances      Box(P          R      mAP50  mAP50-95): 100%|██████████| 2/2 [00:00<00:00,  3.37it/s]"
     ]
    },
    {
     "name": "stdout",
     "output_type": "stream",
     "text": [
      "                   all        127        909      0.761      0.669      0.722      0.429\n"
     ]
    },
    {
     "name": "stderr",
     "output_type": "stream",
     "text": [
      "\n"
     ]
    },
    {
     "name": "stdout",
     "output_type": "stream",
     "text": [
      "\n",
      "      Epoch    GPU_mem   box_loss   cls_loss   dfl_loss  Instances       Size\n"
     ]
    },
    {
     "name": "stderr",
     "output_type": "stream",
     "text": [
      "     88/100      1.99G      1.099     0.7158     0.9703        416        416: 100%|██████████| 14/14 [00:02<00:00,  6.41it/s]\n",
      "                 Class     Images  Instances      Box(P          R      mAP50  mAP50-95): 100%|██████████| 2/2 [00:00<00:00,  3.10it/s]"
     ]
    },
    {
     "name": "stdout",
     "output_type": "stream",
     "text": [
      "                   all        127        909      0.825      0.618      0.728      0.431\n"
     ]
    },
    {
     "name": "stderr",
     "output_type": "stream",
     "text": [
      "\n"
     ]
    },
    {
     "name": "stdout",
     "output_type": "stream",
     "text": [
      "\n",
      "      Epoch    GPU_mem   box_loss   cls_loss   dfl_loss  Instances       Size\n"
     ]
    },
    {
     "name": "stderr",
     "output_type": "stream",
     "text": [
      "     89/100      1.95G      1.063     0.7017     0.9696        348        416: 100%|██████████| 14/14 [00:02<00:00,  6.34it/s]\n",
      "                 Class     Images  Instances      Box(P          R      mAP50  mAP50-95): 100%|██████████| 2/2 [00:00<00:00,  3.46it/s]"
     ]
    },
    {
     "name": "stdout",
     "output_type": "stream",
     "text": [
      "                   all        127        909       0.74      0.678      0.727      0.433\n"
     ]
    },
    {
     "name": "stderr",
     "output_type": "stream",
     "text": [
      "\n"
     ]
    },
    {
     "name": "stdout",
     "output_type": "stream",
     "text": [
      "\n",
      "      Epoch    GPU_mem   box_loss   cls_loss   dfl_loss  Instances       Size\n"
     ]
    },
    {
     "name": "stderr",
     "output_type": "stream",
     "text": [
      "     90/100       2.2G      1.098     0.7058     0.9751        428        416: 100%|██████████| 14/14 [00:02<00:00,  6.44it/s]\n",
      "                 Class     Images  Instances      Box(P          R      mAP50  mAP50-95): 100%|██████████| 2/2 [00:00<00:00,  3.36it/s]"
     ]
    },
    {
     "name": "stdout",
     "output_type": "stream",
     "text": [
      "                   all        127        909      0.791      0.656      0.729      0.433\n"
     ]
    },
    {
     "name": "stderr",
     "output_type": "stream",
     "text": [
      "\n"
     ]
    },
    {
     "name": "stdout",
     "output_type": "stream",
     "text": [
      "Closing dataloader mosaic\n",
      "\n",
      "      Epoch    GPU_mem   box_loss   cls_loss   dfl_loss  Instances       Size\n"
     ]
    },
    {
     "name": "stderr",
     "output_type": "stream",
     "text": [
      "     91/100      1.91G      1.085     0.7571     0.9591        245        416: 100%|██████████| 14/14 [00:03<00:00,  4.56it/s]\n",
      "                 Class     Images  Instances      Box(P          R      mAP50  mAP50-95): 100%|██████████| 2/2 [00:00<00:00,  2.97it/s]"
     ]
    },
    {
     "name": "stdout",
     "output_type": "stream",
     "text": [
      "                   all        127        909      0.747      0.634       0.72      0.428\n"
     ]
    },
    {
     "name": "stderr",
     "output_type": "stream",
     "text": [
      "\n"
     ]
    },
    {
     "name": "stdout",
     "output_type": "stream",
     "text": [
      "\n",
      "      Epoch    GPU_mem   box_loss   cls_loss   dfl_loss  Instances       Size\n"
     ]
    },
    {
     "name": "stderr",
     "output_type": "stream",
     "text": [
      "     92/100      1.98G      1.042     0.6879     0.9527        233        416: 100%|██████████| 14/14 [00:02<00:00,  6.09it/s]\n",
      "                 Class     Images  Instances      Box(P          R      mAP50  mAP50-95): 100%|██████████| 2/2 [00:00<00:00,  2.44it/s]"
     ]
    },
    {
     "name": "stdout",
     "output_type": "stream",
     "text": [
      "                   all        127        909      0.745       0.63      0.715      0.431\n"
     ]
    },
    {
     "name": "stderr",
     "output_type": "stream",
     "text": [
      "\n"
     ]
    },
    {
     "name": "stdout",
     "output_type": "stream",
     "text": [
      "\n",
      "      Epoch    GPU_mem   box_loss   cls_loss   dfl_loss  Instances       Size\n"
     ]
    },
    {
     "name": "stderr",
     "output_type": "stream",
     "text": [
      "     93/100      2.02G      1.026     0.6519     0.9425        154        416: 100%|██████████| 14/14 [00:02<00:00,  6.00it/s]\n",
      "                 Class     Images  Instances      Box(P          R      mAP50  mAP50-95): 100%|██████████| 2/2 [00:00<00:00,  2.92it/s]"
     ]
    },
    {
     "name": "stdout",
     "output_type": "stream",
     "text": [
      "                   all        127        909      0.825      0.614      0.715      0.429\n"
     ]
    },
    {
     "name": "stderr",
     "output_type": "stream",
     "text": [
      "\n"
     ]
    },
    {
     "name": "stdout",
     "output_type": "stream",
     "text": [
      "\n",
      "      Epoch    GPU_mem   box_loss   cls_loss   dfl_loss  Instances       Size\n"
     ]
    },
    {
     "name": "stderr",
     "output_type": "stream",
     "text": [
      "     94/100      1.94G      1.038     0.6676     0.9517        273        416: 100%|██████████| 14/14 [00:02<00:00,  6.35it/s]\n",
      "                 Class     Images  Instances      Box(P          R      mAP50  mAP50-95): 100%|██████████| 2/2 [00:00<00:00,  3.11it/s]"
     ]
    },
    {
     "name": "stdout",
     "output_type": "stream",
     "text": [
      "                   all        127        909      0.783      0.633      0.719      0.431\n"
     ]
    },
    {
     "name": "stderr",
     "output_type": "stream",
     "text": [
      "\n"
     ]
    },
    {
     "name": "stdout",
     "output_type": "stream",
     "text": [
      "\n",
      "      Epoch    GPU_mem   box_loss   cls_loss   dfl_loss  Instances       Size\n"
     ]
    },
    {
     "name": "stderr",
     "output_type": "stream",
     "text": [
      "     95/100      1.97G      1.039     0.6515      0.945        210        416: 100%|██████████| 14/14 [00:02<00:00,  6.52it/s]\n",
      "                 Class     Images  Instances      Box(P          R      mAP50  mAP50-95): 100%|██████████| 2/2 [00:00<00:00,  3.28it/s]"
     ]
    },
    {
     "name": "stdout",
     "output_type": "stream",
     "text": [
      "                   all        127        909       0.75      0.656      0.715      0.428\n"
     ]
    },
    {
     "name": "stderr",
     "output_type": "stream",
     "text": [
      "\n"
     ]
    },
    {
     "name": "stdout",
     "output_type": "stream",
     "text": [
      "\n",
      "      Epoch    GPU_mem   box_loss   cls_loss   dfl_loss  Instances       Size\n"
     ]
    },
    {
     "name": "stderr",
     "output_type": "stream",
     "text": [
      "     96/100      1.99G      1.021     0.6443     0.9426        235        416: 100%|██████████| 14/14 [00:02<00:00,  6.63it/s]\n",
      "                 Class     Images  Instances      Box(P          R      mAP50  mAP50-95): 100%|██████████| 2/2 [00:00<00:00,  3.09it/s]"
     ]
    },
    {
     "name": "stdout",
     "output_type": "stream",
     "text": [
      "                   all        127        909      0.789      0.636      0.719      0.431\n"
     ]
    },
    {
     "name": "stderr",
     "output_type": "stream",
     "text": [
      "\n"
     ]
    },
    {
     "name": "stdout",
     "output_type": "stream",
     "text": [
      "\n",
      "      Epoch    GPU_mem   box_loss   cls_loss   dfl_loss  Instances       Size\n"
     ]
    },
    {
     "name": "stderr",
     "output_type": "stream",
     "text": [
      "     97/100      1.92G      1.009     0.6403     0.9368        202        416: 100%|██████████| 14/14 [00:02<00:00,  6.21it/s]\n",
      "                 Class     Images  Instances      Box(P          R      mAP50  mAP50-95): 100%|██████████| 2/2 [00:00<00:00,  3.18it/s]"
     ]
    },
    {
     "name": "stdout",
     "output_type": "stream",
     "text": [
      "                   all        127        909      0.783      0.644      0.722       0.43\n"
     ]
    },
    {
     "name": "stderr",
     "output_type": "stream",
     "text": [
      "\n"
     ]
    },
    {
     "name": "stdout",
     "output_type": "stream",
     "text": [
      "\n",
      "      Epoch    GPU_mem   box_loss   cls_loss   dfl_loss  Instances       Size\n"
     ]
    },
    {
     "name": "stderr",
     "output_type": "stream",
     "text": [
      "     98/100      1.93G     0.9885     0.6405     0.9352        248        416: 100%|██████████| 14/14 [00:02<00:00,  6.71it/s]\n",
      "                 Class     Images  Instances      Box(P          R      mAP50  mAP50-95): 100%|██████████| 2/2 [00:00<00:00,  3.10it/s]"
     ]
    },
    {
     "name": "stdout",
     "output_type": "stream",
     "text": [
      "                   all        127        909      0.782      0.655      0.725      0.434\n"
     ]
    },
    {
     "name": "stderr",
     "output_type": "stream",
     "text": [
      "\n"
     ]
    },
    {
     "name": "stdout",
     "output_type": "stream",
     "text": [
      "\n",
      "      Epoch    GPU_mem   box_loss   cls_loss   dfl_loss  Instances       Size\n"
     ]
    },
    {
     "name": "stderr",
     "output_type": "stream",
     "text": [
      "     99/100      2.01G      1.002     0.6309     0.9354        262        416: 100%|██████████| 14/14 [00:02<00:00,  6.72it/s]\n",
      "                 Class     Images  Instances      Box(P          R      mAP50  mAP50-95): 100%|██████████| 2/2 [00:00<00:00,  3.52it/s]"
     ]
    },
    {
     "name": "stdout",
     "output_type": "stream",
     "text": [
      "                   all        127        909      0.799      0.648      0.726      0.437\n"
     ]
    },
    {
     "name": "stderr",
     "output_type": "stream",
     "text": [
      "\n"
     ]
    },
    {
     "name": "stdout",
     "output_type": "stream",
     "text": [
      "\n",
      "      Epoch    GPU_mem   box_loss   cls_loss   dfl_loss  Instances       Size\n"
     ]
    },
    {
     "name": "stderr",
     "output_type": "stream",
     "text": [
      "    100/100      1.98G     0.9877     0.6315     0.9255        122        416: 100%|██████████| 14/14 [00:02<00:00,  6.60it/s]\n",
      "                 Class     Images  Instances      Box(P          R      mAP50  mAP50-95): 100%|██████████| 2/2 [00:00<00:00,  3.35it/s]"
     ]
    },
    {
     "name": "stdout",
     "output_type": "stream",
     "text": [
      "                   all        127        909      0.797      0.649      0.723      0.433\n"
     ]
    },
    {
     "name": "stderr",
     "output_type": "stream",
     "text": [
      "\n"
     ]
    },
    {
     "name": "stdout",
     "output_type": "stream",
     "text": [
      "\n",
      "100 epochs completed in 0.098 hours.\n",
      "Optimizer stripped from runs\\detect\\train\\weights\\last.pt, 6.2MB\n",
      "Optimizer stripped from runs\\detect\\train\\weights\\best.pt, 6.2MB\n",
      "\n",
      "Validating runs\\detect\\train\\weights\\best.pt...\n",
      "Ultralytics YOLOv8.2.54  Python-3.11.8 torch-2.3.0+cu118 CUDA:0 (NVIDIA GeForce RTX 4050 Laptop GPU, 6140MiB)\n",
      "Model summary (fused): 168 layers, 3007013 parameters, 0 gradients, 8.1 GFLOPs\n"
     ]
    },
    {
     "name": "stderr",
     "output_type": "stream",
     "text": [
      "                 Class     Images  Instances      Box(P          R      mAP50  mAP50-95): 100%|██████████| 2/2 [00:01<00:00,  1.98it/s]\n"
     ]
    },
    {
     "name": "stdout",
     "output_type": "stream",
     "text": [
      "                   all        127        909      0.783      0.643      0.729      0.438\n",
      "                  fish         63        459      0.825      0.697      0.774      0.402\n",
      "             jellyfish          9        155      0.815      0.858      0.906      0.509\n",
      "               penguin         17        104      0.595       0.51      0.597      0.289\n",
      "                puffin         15         74      0.691      0.459      0.541      0.278\n",
      "                 shark         28         57      0.893      0.585      0.716       0.41\n",
      "              starfish         17         27      0.929      0.667       0.78      0.606\n",
      "              stingray         23         33      0.736      0.727      0.789      0.574\n",
      "Speed: 0.1ms preprocess, 1.2ms inference, 0.0ms loss, 1.0ms postprocess per image\n",
      "Results saved to \u001b[1mruns\\detect\\train\u001b[0m\n"
     ]
    },
    {
     "data": {
      "text/plain": [
       "ultralytics.utils.metrics.DetMetrics object with attributes:\n",
       "\n",
       "ap_class_index: array([0, 1, 2, 3, 4, 5, 6])\n",
       "box: ultralytics.utils.metrics.Metric object\n",
       "confusion_matrix: <ultralytics.utils.metrics.ConfusionMatrix object at 0x000001ABBDB82390>\n",
       "curves: ['Precision-Recall(B)', 'F1-Confidence(B)', 'Precision-Confidence(B)', 'Recall-Confidence(B)']\n",
       "curves_results: [[array([          0,    0.001001,    0.002002,    0.003003,    0.004004,    0.005005,    0.006006,    0.007007,    0.008008,    0.009009,     0.01001,    0.011011,    0.012012,    0.013013,    0.014014,    0.015015,    0.016016,    0.017017,    0.018018,    0.019019,     0.02002,    0.021021,    0.022022,    0.023023,\n",
       "          0.024024,    0.025025,    0.026026,    0.027027,    0.028028,    0.029029,     0.03003,    0.031031,    0.032032,    0.033033,    0.034034,    0.035035,    0.036036,    0.037037,    0.038038,    0.039039,     0.04004,    0.041041,    0.042042,    0.043043,    0.044044,    0.045045,    0.046046,    0.047047,\n",
       "          0.048048,    0.049049,     0.05005,    0.051051,    0.052052,    0.053053,    0.054054,    0.055055,    0.056056,    0.057057,    0.058058,    0.059059,     0.06006,    0.061061,    0.062062,    0.063063,    0.064064,    0.065065,    0.066066,    0.067067,    0.068068,    0.069069,     0.07007,    0.071071,\n",
       "          0.072072,    0.073073,    0.074074,    0.075075,    0.076076,    0.077077,    0.078078,    0.079079,     0.08008,    0.081081,    0.082082,    0.083083,    0.084084,    0.085085,    0.086086,    0.087087,    0.088088,    0.089089,     0.09009,    0.091091,    0.092092,    0.093093,    0.094094,    0.095095,\n",
       "          0.096096,    0.097097,    0.098098,    0.099099,      0.1001,      0.1011,      0.1021,      0.1031,      0.1041,     0.10511,     0.10611,     0.10711,     0.10811,     0.10911,     0.11011,     0.11111,     0.11211,     0.11311,     0.11411,     0.11512,     0.11612,     0.11712,     0.11812,     0.11912,\n",
       "           0.12012,     0.12112,     0.12212,     0.12312,     0.12412,     0.12513,     0.12613,     0.12713,     0.12813,     0.12913,     0.13013,     0.13113,     0.13213,     0.13313,     0.13413,     0.13514,     0.13614,     0.13714,     0.13814,     0.13914,     0.14014,     0.14114,     0.14214,     0.14314,\n",
       "           0.14414,     0.14515,     0.14615,     0.14715,     0.14815,     0.14915,     0.15015,     0.15115,     0.15215,     0.15315,     0.15415,     0.15516,     0.15616,     0.15716,     0.15816,     0.15916,     0.16016,     0.16116,     0.16216,     0.16316,     0.16416,     0.16517,     0.16617,     0.16717,\n",
       "           0.16817,     0.16917,     0.17017,     0.17117,     0.17217,     0.17317,     0.17417,     0.17518,     0.17618,     0.17718,     0.17818,     0.17918,     0.18018,     0.18118,     0.18218,     0.18318,     0.18418,     0.18519,     0.18619,     0.18719,     0.18819,     0.18919,     0.19019,     0.19119,\n",
       "           0.19219,     0.19319,     0.19419,      0.1952,      0.1962,      0.1972,      0.1982,      0.1992,      0.2002,      0.2012,      0.2022,      0.2032,      0.2042,     0.20521,     0.20621,     0.20721,     0.20821,     0.20921,     0.21021,     0.21121,     0.21221,     0.21321,     0.21421,     0.21522,\n",
       "           0.21622,     0.21722,     0.21822,     0.21922,     0.22022,     0.22122,     0.22222,     0.22322,     0.22422,     0.22523,     0.22623,     0.22723,     0.22823,     0.22923,     0.23023,     0.23123,     0.23223,     0.23323,     0.23423,     0.23524,     0.23624,     0.23724,     0.23824,     0.23924,\n",
       "           0.24024,     0.24124,     0.24224,     0.24324,     0.24424,     0.24525,     0.24625,     0.24725,     0.24825,     0.24925,     0.25025,     0.25125,     0.25225,     0.25325,     0.25425,     0.25526,     0.25626,     0.25726,     0.25826,     0.25926,     0.26026,     0.26126,     0.26226,     0.26326,\n",
       "           0.26426,     0.26527,     0.26627,     0.26727,     0.26827,     0.26927,     0.27027,     0.27127,     0.27227,     0.27327,     0.27427,     0.27528,     0.27628,     0.27728,     0.27828,     0.27928,     0.28028,     0.28128,     0.28228,     0.28328,     0.28428,     0.28529,     0.28629,     0.28729,\n",
       "           0.28829,     0.28929,     0.29029,     0.29129,     0.29229,     0.29329,     0.29429,      0.2953,      0.2963,      0.2973,      0.2983,      0.2993,      0.3003,      0.3013,      0.3023,      0.3033,      0.3043,     0.30531,     0.30631,     0.30731,     0.30831,     0.30931,     0.31031,     0.31131,\n",
       "           0.31231,     0.31331,     0.31431,     0.31532,     0.31632,     0.31732,     0.31832,     0.31932,     0.32032,     0.32132,     0.32232,     0.32332,     0.32432,     0.32533,     0.32633,     0.32733,     0.32833,     0.32933,     0.33033,     0.33133,     0.33233,     0.33333,     0.33433,     0.33534,\n",
       "           0.33634,     0.33734,     0.33834,     0.33934,     0.34034,     0.34134,     0.34234,     0.34334,     0.34434,     0.34535,     0.34635,     0.34735,     0.34835,     0.34935,     0.35035,     0.35135,     0.35235,     0.35335,     0.35435,     0.35536,     0.35636,     0.35736,     0.35836,     0.35936,\n",
       "           0.36036,     0.36136,     0.36236,     0.36336,     0.36436,     0.36537,     0.36637,     0.36737,     0.36837,     0.36937,     0.37037,     0.37137,     0.37237,     0.37337,     0.37437,     0.37538,     0.37638,     0.37738,     0.37838,     0.37938,     0.38038,     0.38138,     0.38238,     0.38338,\n",
       "           0.38438,     0.38539,     0.38639,     0.38739,     0.38839,     0.38939,     0.39039,     0.39139,     0.39239,     0.39339,     0.39439,      0.3954,      0.3964,      0.3974,      0.3984,      0.3994,      0.4004,      0.4014,      0.4024,      0.4034,      0.4044,     0.40541,     0.40641,     0.40741,\n",
       "           0.40841,     0.40941,     0.41041,     0.41141,     0.41241,     0.41341,     0.41441,     0.41542,     0.41642,     0.41742,     0.41842,     0.41942,     0.42042,     0.42142,     0.42242,     0.42342,     0.42442,     0.42543,     0.42643,     0.42743,     0.42843,     0.42943,     0.43043,     0.43143,\n",
       "           0.43243,     0.43343,     0.43443,     0.43544,     0.43644,     0.43744,     0.43844,     0.43944,     0.44044,     0.44144,     0.44244,     0.44344,     0.44444,     0.44545,     0.44645,     0.44745,     0.44845,     0.44945,     0.45045,     0.45145,     0.45245,     0.45345,     0.45445,     0.45546,\n",
       "           0.45646,     0.45746,     0.45846,     0.45946,     0.46046,     0.46146,     0.46246,     0.46346,     0.46446,     0.46547,     0.46647,     0.46747,     0.46847,     0.46947,     0.47047,     0.47147,     0.47247,     0.47347,     0.47447,     0.47548,     0.47648,     0.47748,     0.47848,     0.47948,\n",
       "           0.48048,     0.48148,     0.48248,     0.48348,     0.48448,     0.48549,     0.48649,     0.48749,     0.48849,     0.48949,     0.49049,     0.49149,     0.49249,     0.49349,     0.49449,      0.4955,      0.4965,      0.4975,      0.4985,      0.4995,      0.5005,      0.5015,      0.5025,      0.5035,\n",
       "            0.5045,     0.50551,     0.50651,     0.50751,     0.50851,     0.50951,     0.51051,     0.51151,     0.51251,     0.51351,     0.51451,     0.51552,     0.51652,     0.51752,     0.51852,     0.51952,     0.52052,     0.52152,     0.52252,     0.52352,     0.52452,     0.52553,     0.52653,     0.52753,\n",
       "           0.52853,     0.52953,     0.53053,     0.53153,     0.53253,     0.53353,     0.53453,     0.53554,     0.53654,     0.53754,     0.53854,     0.53954,     0.54054,     0.54154,     0.54254,     0.54354,     0.54454,     0.54555,     0.54655,     0.54755,     0.54855,     0.54955,     0.55055,     0.55155,\n",
       "           0.55255,     0.55355,     0.55455,     0.55556,     0.55656,     0.55756,     0.55856,     0.55956,     0.56056,     0.56156,     0.56256,     0.56356,     0.56456,     0.56557,     0.56657,     0.56757,     0.56857,     0.56957,     0.57057,     0.57157,     0.57257,     0.57357,     0.57457,     0.57558,\n",
       "           0.57658,     0.57758,     0.57858,     0.57958,     0.58058,     0.58158,     0.58258,     0.58358,     0.58458,     0.58559,     0.58659,     0.58759,     0.58859,     0.58959,     0.59059,     0.59159,     0.59259,     0.59359,     0.59459,      0.5956,      0.5966,      0.5976,      0.5986,      0.5996,\n",
       "            0.6006,      0.6016,      0.6026,      0.6036,      0.6046,     0.60561,     0.60661,     0.60761,     0.60861,     0.60961,     0.61061,     0.61161,     0.61261,     0.61361,     0.61461,     0.61562,     0.61662,     0.61762,     0.61862,     0.61962,     0.62062,     0.62162,     0.62262,     0.62362,\n",
       "           0.62462,     0.62563,     0.62663,     0.62763,     0.62863,     0.62963,     0.63063,     0.63163,     0.63263,     0.63363,     0.63463,     0.63564,     0.63664,     0.63764,     0.63864,     0.63964,     0.64064,     0.64164,     0.64264,     0.64364,     0.64464,     0.64565,     0.64665,     0.64765,\n",
       "           0.64865,     0.64965,     0.65065,     0.65165,     0.65265,     0.65365,     0.65465,     0.65566,     0.65666,     0.65766,     0.65866,     0.65966,     0.66066,     0.66166,     0.66266,     0.66366,     0.66466,     0.66567,     0.66667,     0.66767,     0.66867,     0.66967,     0.67067,     0.67167,\n",
       "           0.67267,     0.67367,     0.67467,     0.67568,     0.67668,     0.67768,     0.67868,     0.67968,     0.68068,     0.68168,     0.68268,     0.68368,     0.68468,     0.68569,     0.68669,     0.68769,     0.68869,     0.68969,     0.69069,     0.69169,     0.69269,     0.69369,     0.69469,      0.6957,\n",
       "            0.6967,      0.6977,      0.6987,      0.6997,      0.7007,      0.7017,      0.7027,      0.7037,      0.7047,     0.70571,     0.70671,     0.70771,     0.70871,     0.70971,     0.71071,     0.71171,     0.71271,     0.71371,     0.71471,     0.71572,     0.71672,     0.71772,     0.71872,     0.71972,\n",
       "           0.72072,     0.72172,     0.72272,     0.72372,     0.72472,     0.72573,     0.72673,     0.72773,     0.72873,     0.72973,     0.73073,     0.73173,     0.73273,     0.73373,     0.73473,     0.73574,     0.73674,     0.73774,     0.73874,     0.73974,     0.74074,     0.74174,     0.74274,     0.74374,\n",
       "           0.74474,     0.74575,     0.74675,     0.74775,     0.74875,     0.74975,     0.75075,     0.75175,     0.75275,     0.75375,     0.75475,     0.75576,     0.75676,     0.75776,     0.75876,     0.75976,     0.76076,     0.76176,     0.76276,     0.76376,     0.76476,     0.76577,     0.76677,     0.76777,\n",
       "           0.76877,     0.76977,     0.77077,     0.77177,     0.77277,     0.77377,     0.77477,     0.77578,     0.77678,     0.77778,     0.77878,     0.77978,     0.78078,     0.78178,     0.78278,     0.78378,     0.78478,     0.78579,     0.78679,     0.78779,     0.78879,     0.78979,     0.79079,     0.79179,\n",
       "           0.79279,     0.79379,     0.79479,      0.7958,      0.7968,      0.7978,      0.7988,      0.7998,      0.8008,      0.8018,      0.8028,      0.8038,      0.8048,     0.80581,     0.80681,     0.80781,     0.80881,     0.80981,     0.81081,     0.81181,     0.81281,     0.81381,     0.81481,     0.81582,\n",
       "           0.81682,     0.81782,     0.81882,     0.81982,     0.82082,     0.82182,     0.82282,     0.82382,     0.82482,     0.82583,     0.82683,     0.82783,     0.82883,     0.82983,     0.83083,     0.83183,     0.83283,     0.83383,     0.83483,     0.83584,     0.83684,     0.83784,     0.83884,     0.83984,\n",
       "           0.84084,     0.84184,     0.84284,     0.84384,     0.84484,     0.84585,     0.84685,     0.84785,     0.84885,     0.84985,     0.85085,     0.85185,     0.85285,     0.85385,     0.85485,     0.85586,     0.85686,     0.85786,     0.85886,     0.85986,     0.86086,     0.86186,     0.86286,     0.86386,\n",
       "           0.86486,     0.86587,     0.86687,     0.86787,     0.86887,     0.86987,     0.87087,     0.87187,     0.87287,     0.87387,     0.87487,     0.87588,     0.87688,     0.87788,     0.87888,     0.87988,     0.88088,     0.88188,     0.88288,     0.88388,     0.88488,     0.88589,     0.88689,     0.88789,\n",
       "           0.88889,     0.88989,     0.89089,     0.89189,     0.89289,     0.89389,     0.89489,      0.8959,      0.8969,      0.8979,      0.8989,      0.8999,      0.9009,      0.9019,      0.9029,      0.9039,      0.9049,     0.90591,     0.90691,     0.90791,     0.90891,     0.90991,     0.91091,     0.91191,\n",
       "           0.91291,     0.91391,     0.91491,     0.91592,     0.91692,     0.91792,     0.91892,     0.91992,     0.92092,     0.92192,     0.92292,     0.92392,     0.92492,     0.92593,     0.92693,     0.92793,     0.92893,     0.92993,     0.93093,     0.93193,     0.93293,     0.93393,     0.93493,     0.93594,\n",
       "           0.93694,     0.93794,     0.93894,     0.93994,     0.94094,     0.94194,     0.94294,     0.94394,     0.94494,     0.94595,     0.94695,     0.94795,     0.94895,     0.94995,     0.95095,     0.95195,     0.95295,     0.95395,     0.95495,     0.95596,     0.95696,     0.95796,     0.95896,     0.95996,\n",
       "           0.96096,     0.96196,     0.96296,     0.96396,     0.96496,     0.96597,     0.96697,     0.96797,     0.96897,     0.96997,     0.97097,     0.97197,     0.97297,     0.97397,     0.97497,     0.97598,     0.97698,     0.97798,     0.97898,     0.97998,     0.98098,     0.98198,     0.98298,     0.98398,\n",
       "           0.98498,     0.98599,     0.98699,     0.98799,     0.98899,     0.98999,     0.99099,     0.99199,     0.99299,     0.99399,     0.99499,       0.996,       0.997,       0.998,       0.999,           1]), array([[          1,           1,           1, ...,   0.0021413,   0.0010706,           0],\n",
       "       [          1,           1,           1, ...,   0.0061882,   0.0030941,           0],\n",
       "       [          1,           1,           1, ...,  0.00091319,   0.0004566,           0],\n",
       "       ...,\n",
       "       [          1,           1,           1, ...,    0.000741,   0.0003705,           0],\n",
       "       [          1,           1,           1, ...,    0.001404,    0.000702,           0],\n",
       "       [          1,           1,           1, ...,   0.0011442,  0.00057208,           0]]), 'Recall', 'Precision'], [array([          0,    0.001001,    0.002002,    0.003003,    0.004004,    0.005005,    0.006006,    0.007007,    0.008008,    0.009009,     0.01001,    0.011011,    0.012012,    0.013013,    0.014014,    0.015015,    0.016016,    0.017017,    0.018018,    0.019019,     0.02002,    0.021021,    0.022022,    0.023023,\n",
       "          0.024024,    0.025025,    0.026026,    0.027027,    0.028028,    0.029029,     0.03003,    0.031031,    0.032032,    0.033033,    0.034034,    0.035035,    0.036036,    0.037037,    0.038038,    0.039039,     0.04004,    0.041041,    0.042042,    0.043043,    0.044044,    0.045045,    0.046046,    0.047047,\n",
       "          0.048048,    0.049049,     0.05005,    0.051051,    0.052052,    0.053053,    0.054054,    0.055055,    0.056056,    0.057057,    0.058058,    0.059059,     0.06006,    0.061061,    0.062062,    0.063063,    0.064064,    0.065065,    0.066066,    0.067067,    0.068068,    0.069069,     0.07007,    0.071071,\n",
       "          0.072072,    0.073073,    0.074074,    0.075075,    0.076076,    0.077077,    0.078078,    0.079079,     0.08008,    0.081081,    0.082082,    0.083083,    0.084084,    0.085085,    0.086086,    0.087087,    0.088088,    0.089089,     0.09009,    0.091091,    0.092092,    0.093093,    0.094094,    0.095095,\n",
       "          0.096096,    0.097097,    0.098098,    0.099099,      0.1001,      0.1011,      0.1021,      0.1031,      0.1041,     0.10511,     0.10611,     0.10711,     0.10811,     0.10911,     0.11011,     0.11111,     0.11211,     0.11311,     0.11411,     0.11512,     0.11612,     0.11712,     0.11812,     0.11912,\n",
       "           0.12012,     0.12112,     0.12212,     0.12312,     0.12412,     0.12513,     0.12613,     0.12713,     0.12813,     0.12913,     0.13013,     0.13113,     0.13213,     0.13313,     0.13413,     0.13514,     0.13614,     0.13714,     0.13814,     0.13914,     0.14014,     0.14114,     0.14214,     0.14314,\n",
       "           0.14414,     0.14515,     0.14615,     0.14715,     0.14815,     0.14915,     0.15015,     0.15115,     0.15215,     0.15315,     0.15415,     0.15516,     0.15616,     0.15716,     0.15816,     0.15916,     0.16016,     0.16116,     0.16216,     0.16316,     0.16416,     0.16517,     0.16617,     0.16717,\n",
       "           0.16817,     0.16917,     0.17017,     0.17117,     0.17217,     0.17317,     0.17417,     0.17518,     0.17618,     0.17718,     0.17818,     0.17918,     0.18018,     0.18118,     0.18218,     0.18318,     0.18418,     0.18519,     0.18619,     0.18719,     0.18819,     0.18919,     0.19019,     0.19119,\n",
       "           0.19219,     0.19319,     0.19419,      0.1952,      0.1962,      0.1972,      0.1982,      0.1992,      0.2002,      0.2012,      0.2022,      0.2032,      0.2042,     0.20521,     0.20621,     0.20721,     0.20821,     0.20921,     0.21021,     0.21121,     0.21221,     0.21321,     0.21421,     0.21522,\n",
       "           0.21622,     0.21722,     0.21822,     0.21922,     0.22022,     0.22122,     0.22222,     0.22322,     0.22422,     0.22523,     0.22623,     0.22723,     0.22823,     0.22923,     0.23023,     0.23123,     0.23223,     0.23323,     0.23423,     0.23524,     0.23624,     0.23724,     0.23824,     0.23924,\n",
       "           0.24024,     0.24124,     0.24224,     0.24324,     0.24424,     0.24525,     0.24625,     0.24725,     0.24825,     0.24925,     0.25025,     0.25125,     0.25225,     0.25325,     0.25425,     0.25526,     0.25626,     0.25726,     0.25826,     0.25926,     0.26026,     0.26126,     0.26226,     0.26326,\n",
       "           0.26426,     0.26527,     0.26627,     0.26727,     0.26827,     0.26927,     0.27027,     0.27127,     0.27227,     0.27327,     0.27427,     0.27528,     0.27628,     0.27728,     0.27828,     0.27928,     0.28028,     0.28128,     0.28228,     0.28328,     0.28428,     0.28529,     0.28629,     0.28729,\n",
       "           0.28829,     0.28929,     0.29029,     0.29129,     0.29229,     0.29329,     0.29429,      0.2953,      0.2963,      0.2973,      0.2983,      0.2993,      0.3003,      0.3013,      0.3023,      0.3033,      0.3043,     0.30531,     0.30631,     0.30731,     0.30831,     0.30931,     0.31031,     0.31131,\n",
       "           0.31231,     0.31331,     0.31431,     0.31532,     0.31632,     0.31732,     0.31832,     0.31932,     0.32032,     0.32132,     0.32232,     0.32332,     0.32432,     0.32533,     0.32633,     0.32733,     0.32833,     0.32933,     0.33033,     0.33133,     0.33233,     0.33333,     0.33433,     0.33534,\n",
       "           0.33634,     0.33734,     0.33834,     0.33934,     0.34034,     0.34134,     0.34234,     0.34334,     0.34434,     0.34535,     0.34635,     0.34735,     0.34835,     0.34935,     0.35035,     0.35135,     0.35235,     0.35335,     0.35435,     0.35536,     0.35636,     0.35736,     0.35836,     0.35936,\n",
       "           0.36036,     0.36136,     0.36236,     0.36336,     0.36436,     0.36537,     0.36637,     0.36737,     0.36837,     0.36937,     0.37037,     0.37137,     0.37237,     0.37337,     0.37437,     0.37538,     0.37638,     0.37738,     0.37838,     0.37938,     0.38038,     0.38138,     0.38238,     0.38338,\n",
       "           0.38438,     0.38539,     0.38639,     0.38739,     0.38839,     0.38939,     0.39039,     0.39139,     0.39239,     0.39339,     0.39439,      0.3954,      0.3964,      0.3974,      0.3984,      0.3994,      0.4004,      0.4014,      0.4024,      0.4034,      0.4044,     0.40541,     0.40641,     0.40741,\n",
       "           0.40841,     0.40941,     0.41041,     0.41141,     0.41241,     0.41341,     0.41441,     0.41542,     0.41642,     0.41742,     0.41842,     0.41942,     0.42042,     0.42142,     0.42242,     0.42342,     0.42442,     0.42543,     0.42643,     0.42743,     0.42843,     0.42943,     0.43043,     0.43143,\n",
       "           0.43243,     0.43343,     0.43443,     0.43544,     0.43644,     0.43744,     0.43844,     0.43944,     0.44044,     0.44144,     0.44244,     0.44344,     0.44444,     0.44545,     0.44645,     0.44745,     0.44845,     0.44945,     0.45045,     0.45145,     0.45245,     0.45345,     0.45445,     0.45546,\n",
       "           0.45646,     0.45746,     0.45846,     0.45946,     0.46046,     0.46146,     0.46246,     0.46346,     0.46446,     0.46547,     0.46647,     0.46747,     0.46847,     0.46947,     0.47047,     0.47147,     0.47247,     0.47347,     0.47447,     0.47548,     0.47648,     0.47748,     0.47848,     0.47948,\n",
       "           0.48048,     0.48148,     0.48248,     0.48348,     0.48448,     0.48549,     0.48649,     0.48749,     0.48849,     0.48949,     0.49049,     0.49149,     0.49249,     0.49349,     0.49449,      0.4955,      0.4965,      0.4975,      0.4985,      0.4995,      0.5005,      0.5015,      0.5025,      0.5035,\n",
       "            0.5045,     0.50551,     0.50651,     0.50751,     0.50851,     0.50951,     0.51051,     0.51151,     0.51251,     0.51351,     0.51451,     0.51552,     0.51652,     0.51752,     0.51852,     0.51952,     0.52052,     0.52152,     0.52252,     0.52352,     0.52452,     0.52553,     0.52653,     0.52753,\n",
       "           0.52853,     0.52953,     0.53053,     0.53153,     0.53253,     0.53353,     0.53453,     0.53554,     0.53654,     0.53754,     0.53854,     0.53954,     0.54054,     0.54154,     0.54254,     0.54354,     0.54454,     0.54555,     0.54655,     0.54755,     0.54855,     0.54955,     0.55055,     0.55155,\n",
       "           0.55255,     0.55355,     0.55455,     0.55556,     0.55656,     0.55756,     0.55856,     0.55956,     0.56056,     0.56156,     0.56256,     0.56356,     0.56456,     0.56557,     0.56657,     0.56757,     0.56857,     0.56957,     0.57057,     0.57157,     0.57257,     0.57357,     0.57457,     0.57558,\n",
       "           0.57658,     0.57758,     0.57858,     0.57958,     0.58058,     0.58158,     0.58258,     0.58358,     0.58458,     0.58559,     0.58659,     0.58759,     0.58859,     0.58959,     0.59059,     0.59159,     0.59259,     0.59359,     0.59459,      0.5956,      0.5966,      0.5976,      0.5986,      0.5996,\n",
       "            0.6006,      0.6016,      0.6026,      0.6036,      0.6046,     0.60561,     0.60661,     0.60761,     0.60861,     0.60961,     0.61061,     0.61161,     0.61261,     0.61361,     0.61461,     0.61562,     0.61662,     0.61762,     0.61862,     0.61962,     0.62062,     0.62162,     0.62262,     0.62362,\n",
       "           0.62462,     0.62563,     0.62663,     0.62763,     0.62863,     0.62963,     0.63063,     0.63163,     0.63263,     0.63363,     0.63463,     0.63564,     0.63664,     0.63764,     0.63864,     0.63964,     0.64064,     0.64164,     0.64264,     0.64364,     0.64464,     0.64565,     0.64665,     0.64765,\n",
       "           0.64865,     0.64965,     0.65065,     0.65165,     0.65265,     0.65365,     0.65465,     0.65566,     0.65666,     0.65766,     0.65866,     0.65966,     0.66066,     0.66166,     0.66266,     0.66366,     0.66466,     0.66567,     0.66667,     0.66767,     0.66867,     0.66967,     0.67067,     0.67167,\n",
       "           0.67267,     0.67367,     0.67467,     0.67568,     0.67668,     0.67768,     0.67868,     0.67968,     0.68068,     0.68168,     0.68268,     0.68368,     0.68468,     0.68569,     0.68669,     0.68769,     0.68869,     0.68969,     0.69069,     0.69169,     0.69269,     0.69369,     0.69469,      0.6957,\n",
       "            0.6967,      0.6977,      0.6987,      0.6997,      0.7007,      0.7017,      0.7027,      0.7037,      0.7047,     0.70571,     0.70671,     0.70771,     0.70871,     0.70971,     0.71071,     0.71171,     0.71271,     0.71371,     0.71471,     0.71572,     0.71672,     0.71772,     0.71872,     0.71972,\n",
       "           0.72072,     0.72172,     0.72272,     0.72372,     0.72472,     0.72573,     0.72673,     0.72773,     0.72873,     0.72973,     0.73073,     0.73173,     0.73273,     0.73373,     0.73473,     0.73574,     0.73674,     0.73774,     0.73874,     0.73974,     0.74074,     0.74174,     0.74274,     0.74374,\n",
       "           0.74474,     0.74575,     0.74675,     0.74775,     0.74875,     0.74975,     0.75075,     0.75175,     0.75275,     0.75375,     0.75475,     0.75576,     0.75676,     0.75776,     0.75876,     0.75976,     0.76076,     0.76176,     0.76276,     0.76376,     0.76476,     0.76577,     0.76677,     0.76777,\n",
       "           0.76877,     0.76977,     0.77077,     0.77177,     0.77277,     0.77377,     0.77477,     0.77578,     0.77678,     0.77778,     0.77878,     0.77978,     0.78078,     0.78178,     0.78278,     0.78378,     0.78478,     0.78579,     0.78679,     0.78779,     0.78879,     0.78979,     0.79079,     0.79179,\n",
       "           0.79279,     0.79379,     0.79479,      0.7958,      0.7968,      0.7978,      0.7988,      0.7998,      0.8008,      0.8018,      0.8028,      0.8038,      0.8048,     0.80581,     0.80681,     0.80781,     0.80881,     0.80981,     0.81081,     0.81181,     0.81281,     0.81381,     0.81481,     0.81582,\n",
       "           0.81682,     0.81782,     0.81882,     0.81982,     0.82082,     0.82182,     0.82282,     0.82382,     0.82482,     0.82583,     0.82683,     0.82783,     0.82883,     0.82983,     0.83083,     0.83183,     0.83283,     0.83383,     0.83483,     0.83584,     0.83684,     0.83784,     0.83884,     0.83984,\n",
       "           0.84084,     0.84184,     0.84284,     0.84384,     0.84484,     0.84585,     0.84685,     0.84785,     0.84885,     0.84985,     0.85085,     0.85185,     0.85285,     0.85385,     0.85485,     0.85586,     0.85686,     0.85786,     0.85886,     0.85986,     0.86086,     0.86186,     0.86286,     0.86386,\n",
       "           0.86486,     0.86587,     0.86687,     0.86787,     0.86887,     0.86987,     0.87087,     0.87187,     0.87287,     0.87387,     0.87487,     0.87588,     0.87688,     0.87788,     0.87888,     0.87988,     0.88088,     0.88188,     0.88288,     0.88388,     0.88488,     0.88589,     0.88689,     0.88789,\n",
       "           0.88889,     0.88989,     0.89089,     0.89189,     0.89289,     0.89389,     0.89489,      0.8959,      0.8969,      0.8979,      0.8989,      0.8999,      0.9009,      0.9019,      0.9029,      0.9039,      0.9049,     0.90591,     0.90691,     0.90791,     0.90891,     0.90991,     0.91091,     0.91191,\n",
       "           0.91291,     0.91391,     0.91491,     0.91592,     0.91692,     0.91792,     0.91892,     0.91992,     0.92092,     0.92192,     0.92292,     0.92392,     0.92492,     0.92593,     0.92693,     0.92793,     0.92893,     0.92993,     0.93093,     0.93193,     0.93293,     0.93393,     0.93493,     0.93594,\n",
       "           0.93694,     0.93794,     0.93894,     0.93994,     0.94094,     0.94194,     0.94294,     0.94394,     0.94494,     0.94595,     0.94695,     0.94795,     0.94895,     0.94995,     0.95095,     0.95195,     0.95295,     0.95395,     0.95495,     0.95596,     0.95696,     0.95796,     0.95896,     0.95996,\n",
       "           0.96096,     0.96196,     0.96296,     0.96396,     0.96496,     0.96597,     0.96697,     0.96797,     0.96897,     0.96997,     0.97097,     0.97197,     0.97297,     0.97397,     0.97497,     0.97598,     0.97698,     0.97798,     0.97898,     0.97998,     0.98098,     0.98198,     0.98298,     0.98398,\n",
       "           0.98498,     0.98599,     0.98699,     0.98799,     0.98899,     0.98999,     0.99099,     0.99199,     0.99299,     0.99399,     0.99499,       0.996,       0.997,       0.998,       0.999,           1]), array([[    0.11386,     0.11386,     0.16071, ...,           0,           0,           0],\n",
       "       [    0.14746,     0.14746,     0.21366, ...,           0,           0,           0],\n",
       "       [   0.099352,    0.099352,     0.14031, ...,           0,           0,           0],\n",
       "       ...,\n",
       "       [    0.08643,     0.08643,     0.12876, ...,           0,           0,           0],\n",
       "       [    0.14328,     0.14328,     0.24593, ...,           0,           0,           0],\n",
       "       [    0.06681,     0.06681,      0.1114, ...,           0,           0,           0]]), 'Confidence', 'F1'], [array([          0,    0.001001,    0.002002,    0.003003,    0.004004,    0.005005,    0.006006,    0.007007,    0.008008,    0.009009,     0.01001,    0.011011,    0.012012,    0.013013,    0.014014,    0.015015,    0.016016,    0.017017,    0.018018,    0.019019,     0.02002,    0.021021,    0.022022,    0.023023,\n",
       "          0.024024,    0.025025,    0.026026,    0.027027,    0.028028,    0.029029,     0.03003,    0.031031,    0.032032,    0.033033,    0.034034,    0.035035,    0.036036,    0.037037,    0.038038,    0.039039,     0.04004,    0.041041,    0.042042,    0.043043,    0.044044,    0.045045,    0.046046,    0.047047,\n",
       "          0.048048,    0.049049,     0.05005,    0.051051,    0.052052,    0.053053,    0.054054,    0.055055,    0.056056,    0.057057,    0.058058,    0.059059,     0.06006,    0.061061,    0.062062,    0.063063,    0.064064,    0.065065,    0.066066,    0.067067,    0.068068,    0.069069,     0.07007,    0.071071,\n",
       "          0.072072,    0.073073,    0.074074,    0.075075,    0.076076,    0.077077,    0.078078,    0.079079,     0.08008,    0.081081,    0.082082,    0.083083,    0.084084,    0.085085,    0.086086,    0.087087,    0.088088,    0.089089,     0.09009,    0.091091,    0.092092,    0.093093,    0.094094,    0.095095,\n",
       "          0.096096,    0.097097,    0.098098,    0.099099,      0.1001,      0.1011,      0.1021,      0.1031,      0.1041,     0.10511,     0.10611,     0.10711,     0.10811,     0.10911,     0.11011,     0.11111,     0.11211,     0.11311,     0.11411,     0.11512,     0.11612,     0.11712,     0.11812,     0.11912,\n",
       "           0.12012,     0.12112,     0.12212,     0.12312,     0.12412,     0.12513,     0.12613,     0.12713,     0.12813,     0.12913,     0.13013,     0.13113,     0.13213,     0.13313,     0.13413,     0.13514,     0.13614,     0.13714,     0.13814,     0.13914,     0.14014,     0.14114,     0.14214,     0.14314,\n",
       "           0.14414,     0.14515,     0.14615,     0.14715,     0.14815,     0.14915,     0.15015,     0.15115,     0.15215,     0.15315,     0.15415,     0.15516,     0.15616,     0.15716,     0.15816,     0.15916,     0.16016,     0.16116,     0.16216,     0.16316,     0.16416,     0.16517,     0.16617,     0.16717,\n",
       "           0.16817,     0.16917,     0.17017,     0.17117,     0.17217,     0.17317,     0.17417,     0.17518,     0.17618,     0.17718,     0.17818,     0.17918,     0.18018,     0.18118,     0.18218,     0.18318,     0.18418,     0.18519,     0.18619,     0.18719,     0.18819,     0.18919,     0.19019,     0.19119,\n",
       "           0.19219,     0.19319,     0.19419,      0.1952,      0.1962,      0.1972,      0.1982,      0.1992,      0.2002,      0.2012,      0.2022,      0.2032,      0.2042,     0.20521,     0.20621,     0.20721,     0.20821,     0.20921,     0.21021,     0.21121,     0.21221,     0.21321,     0.21421,     0.21522,\n",
       "           0.21622,     0.21722,     0.21822,     0.21922,     0.22022,     0.22122,     0.22222,     0.22322,     0.22422,     0.22523,     0.22623,     0.22723,     0.22823,     0.22923,     0.23023,     0.23123,     0.23223,     0.23323,     0.23423,     0.23524,     0.23624,     0.23724,     0.23824,     0.23924,\n",
       "           0.24024,     0.24124,     0.24224,     0.24324,     0.24424,     0.24525,     0.24625,     0.24725,     0.24825,     0.24925,     0.25025,     0.25125,     0.25225,     0.25325,     0.25425,     0.25526,     0.25626,     0.25726,     0.25826,     0.25926,     0.26026,     0.26126,     0.26226,     0.26326,\n",
       "           0.26426,     0.26527,     0.26627,     0.26727,     0.26827,     0.26927,     0.27027,     0.27127,     0.27227,     0.27327,     0.27427,     0.27528,     0.27628,     0.27728,     0.27828,     0.27928,     0.28028,     0.28128,     0.28228,     0.28328,     0.28428,     0.28529,     0.28629,     0.28729,\n",
       "           0.28829,     0.28929,     0.29029,     0.29129,     0.29229,     0.29329,     0.29429,      0.2953,      0.2963,      0.2973,      0.2983,      0.2993,      0.3003,      0.3013,      0.3023,      0.3033,      0.3043,     0.30531,     0.30631,     0.30731,     0.30831,     0.30931,     0.31031,     0.31131,\n",
       "           0.31231,     0.31331,     0.31431,     0.31532,     0.31632,     0.31732,     0.31832,     0.31932,     0.32032,     0.32132,     0.32232,     0.32332,     0.32432,     0.32533,     0.32633,     0.32733,     0.32833,     0.32933,     0.33033,     0.33133,     0.33233,     0.33333,     0.33433,     0.33534,\n",
       "           0.33634,     0.33734,     0.33834,     0.33934,     0.34034,     0.34134,     0.34234,     0.34334,     0.34434,     0.34535,     0.34635,     0.34735,     0.34835,     0.34935,     0.35035,     0.35135,     0.35235,     0.35335,     0.35435,     0.35536,     0.35636,     0.35736,     0.35836,     0.35936,\n",
       "           0.36036,     0.36136,     0.36236,     0.36336,     0.36436,     0.36537,     0.36637,     0.36737,     0.36837,     0.36937,     0.37037,     0.37137,     0.37237,     0.37337,     0.37437,     0.37538,     0.37638,     0.37738,     0.37838,     0.37938,     0.38038,     0.38138,     0.38238,     0.38338,\n",
       "           0.38438,     0.38539,     0.38639,     0.38739,     0.38839,     0.38939,     0.39039,     0.39139,     0.39239,     0.39339,     0.39439,      0.3954,      0.3964,      0.3974,      0.3984,      0.3994,      0.4004,      0.4014,      0.4024,      0.4034,      0.4044,     0.40541,     0.40641,     0.40741,\n",
       "           0.40841,     0.40941,     0.41041,     0.41141,     0.41241,     0.41341,     0.41441,     0.41542,     0.41642,     0.41742,     0.41842,     0.41942,     0.42042,     0.42142,     0.42242,     0.42342,     0.42442,     0.42543,     0.42643,     0.42743,     0.42843,     0.42943,     0.43043,     0.43143,\n",
       "           0.43243,     0.43343,     0.43443,     0.43544,     0.43644,     0.43744,     0.43844,     0.43944,     0.44044,     0.44144,     0.44244,     0.44344,     0.44444,     0.44545,     0.44645,     0.44745,     0.44845,     0.44945,     0.45045,     0.45145,     0.45245,     0.45345,     0.45445,     0.45546,\n",
       "           0.45646,     0.45746,     0.45846,     0.45946,     0.46046,     0.46146,     0.46246,     0.46346,     0.46446,     0.46547,     0.46647,     0.46747,     0.46847,     0.46947,     0.47047,     0.47147,     0.47247,     0.47347,     0.47447,     0.47548,     0.47648,     0.47748,     0.47848,     0.47948,\n",
       "           0.48048,     0.48148,     0.48248,     0.48348,     0.48448,     0.48549,     0.48649,     0.48749,     0.48849,     0.48949,     0.49049,     0.49149,     0.49249,     0.49349,     0.49449,      0.4955,      0.4965,      0.4975,      0.4985,      0.4995,      0.5005,      0.5015,      0.5025,      0.5035,\n",
       "            0.5045,     0.50551,     0.50651,     0.50751,     0.50851,     0.50951,     0.51051,     0.51151,     0.51251,     0.51351,     0.51451,     0.51552,     0.51652,     0.51752,     0.51852,     0.51952,     0.52052,     0.52152,     0.52252,     0.52352,     0.52452,     0.52553,     0.52653,     0.52753,\n",
       "           0.52853,     0.52953,     0.53053,     0.53153,     0.53253,     0.53353,     0.53453,     0.53554,     0.53654,     0.53754,     0.53854,     0.53954,     0.54054,     0.54154,     0.54254,     0.54354,     0.54454,     0.54555,     0.54655,     0.54755,     0.54855,     0.54955,     0.55055,     0.55155,\n",
       "           0.55255,     0.55355,     0.55455,     0.55556,     0.55656,     0.55756,     0.55856,     0.55956,     0.56056,     0.56156,     0.56256,     0.56356,     0.56456,     0.56557,     0.56657,     0.56757,     0.56857,     0.56957,     0.57057,     0.57157,     0.57257,     0.57357,     0.57457,     0.57558,\n",
       "           0.57658,     0.57758,     0.57858,     0.57958,     0.58058,     0.58158,     0.58258,     0.58358,     0.58458,     0.58559,     0.58659,     0.58759,     0.58859,     0.58959,     0.59059,     0.59159,     0.59259,     0.59359,     0.59459,      0.5956,      0.5966,      0.5976,      0.5986,      0.5996,\n",
       "            0.6006,      0.6016,      0.6026,      0.6036,      0.6046,     0.60561,     0.60661,     0.60761,     0.60861,     0.60961,     0.61061,     0.61161,     0.61261,     0.61361,     0.61461,     0.61562,     0.61662,     0.61762,     0.61862,     0.61962,     0.62062,     0.62162,     0.62262,     0.62362,\n",
       "           0.62462,     0.62563,     0.62663,     0.62763,     0.62863,     0.62963,     0.63063,     0.63163,     0.63263,     0.63363,     0.63463,     0.63564,     0.63664,     0.63764,     0.63864,     0.63964,     0.64064,     0.64164,     0.64264,     0.64364,     0.64464,     0.64565,     0.64665,     0.64765,\n",
       "           0.64865,     0.64965,     0.65065,     0.65165,     0.65265,     0.65365,     0.65465,     0.65566,     0.65666,     0.65766,     0.65866,     0.65966,     0.66066,     0.66166,     0.66266,     0.66366,     0.66466,     0.66567,     0.66667,     0.66767,     0.66867,     0.66967,     0.67067,     0.67167,\n",
       "           0.67267,     0.67367,     0.67467,     0.67568,     0.67668,     0.67768,     0.67868,     0.67968,     0.68068,     0.68168,     0.68268,     0.68368,     0.68468,     0.68569,     0.68669,     0.68769,     0.68869,     0.68969,     0.69069,     0.69169,     0.69269,     0.69369,     0.69469,      0.6957,\n",
       "            0.6967,      0.6977,      0.6987,      0.6997,      0.7007,      0.7017,      0.7027,      0.7037,      0.7047,     0.70571,     0.70671,     0.70771,     0.70871,     0.70971,     0.71071,     0.71171,     0.71271,     0.71371,     0.71471,     0.71572,     0.71672,     0.71772,     0.71872,     0.71972,\n",
       "           0.72072,     0.72172,     0.72272,     0.72372,     0.72472,     0.72573,     0.72673,     0.72773,     0.72873,     0.72973,     0.73073,     0.73173,     0.73273,     0.73373,     0.73473,     0.73574,     0.73674,     0.73774,     0.73874,     0.73974,     0.74074,     0.74174,     0.74274,     0.74374,\n",
       "           0.74474,     0.74575,     0.74675,     0.74775,     0.74875,     0.74975,     0.75075,     0.75175,     0.75275,     0.75375,     0.75475,     0.75576,     0.75676,     0.75776,     0.75876,     0.75976,     0.76076,     0.76176,     0.76276,     0.76376,     0.76476,     0.76577,     0.76677,     0.76777,\n",
       "           0.76877,     0.76977,     0.77077,     0.77177,     0.77277,     0.77377,     0.77477,     0.77578,     0.77678,     0.77778,     0.77878,     0.77978,     0.78078,     0.78178,     0.78278,     0.78378,     0.78478,     0.78579,     0.78679,     0.78779,     0.78879,     0.78979,     0.79079,     0.79179,\n",
       "           0.79279,     0.79379,     0.79479,      0.7958,      0.7968,      0.7978,      0.7988,      0.7998,      0.8008,      0.8018,      0.8028,      0.8038,      0.8048,     0.80581,     0.80681,     0.80781,     0.80881,     0.80981,     0.81081,     0.81181,     0.81281,     0.81381,     0.81481,     0.81582,\n",
       "           0.81682,     0.81782,     0.81882,     0.81982,     0.82082,     0.82182,     0.82282,     0.82382,     0.82482,     0.82583,     0.82683,     0.82783,     0.82883,     0.82983,     0.83083,     0.83183,     0.83283,     0.83383,     0.83483,     0.83584,     0.83684,     0.83784,     0.83884,     0.83984,\n",
       "           0.84084,     0.84184,     0.84284,     0.84384,     0.84484,     0.84585,     0.84685,     0.84785,     0.84885,     0.84985,     0.85085,     0.85185,     0.85285,     0.85385,     0.85485,     0.85586,     0.85686,     0.85786,     0.85886,     0.85986,     0.86086,     0.86186,     0.86286,     0.86386,\n",
       "           0.86486,     0.86587,     0.86687,     0.86787,     0.86887,     0.86987,     0.87087,     0.87187,     0.87287,     0.87387,     0.87487,     0.87588,     0.87688,     0.87788,     0.87888,     0.87988,     0.88088,     0.88188,     0.88288,     0.88388,     0.88488,     0.88589,     0.88689,     0.88789,\n",
       "           0.88889,     0.88989,     0.89089,     0.89189,     0.89289,     0.89389,     0.89489,      0.8959,      0.8969,      0.8979,      0.8989,      0.8999,      0.9009,      0.9019,      0.9029,      0.9039,      0.9049,     0.90591,     0.90691,     0.90791,     0.90891,     0.90991,     0.91091,     0.91191,\n",
       "           0.91291,     0.91391,     0.91491,     0.91592,     0.91692,     0.91792,     0.91892,     0.91992,     0.92092,     0.92192,     0.92292,     0.92392,     0.92492,     0.92593,     0.92693,     0.92793,     0.92893,     0.92993,     0.93093,     0.93193,     0.93293,     0.93393,     0.93493,     0.93594,\n",
       "           0.93694,     0.93794,     0.93894,     0.93994,     0.94094,     0.94194,     0.94294,     0.94394,     0.94494,     0.94595,     0.94695,     0.94795,     0.94895,     0.94995,     0.95095,     0.95195,     0.95295,     0.95395,     0.95495,     0.95596,     0.95696,     0.95796,     0.95896,     0.95996,\n",
       "           0.96096,     0.96196,     0.96296,     0.96396,     0.96496,     0.96597,     0.96697,     0.96797,     0.96897,     0.96997,     0.97097,     0.97197,     0.97297,     0.97397,     0.97497,     0.97598,     0.97698,     0.97798,     0.97898,     0.97998,     0.98098,     0.98198,     0.98298,     0.98398,\n",
       "           0.98498,     0.98599,     0.98699,     0.98799,     0.98899,     0.98999,     0.99099,     0.99199,     0.99299,     0.99399,     0.99499,       0.996,       0.997,       0.998,       0.999,           1]), array([[   0.060585,    0.060585,    0.088032, ...,           1,           1,           1],\n",
       "       [   0.079768,    0.079768,     0.12009, ...,           1,           1,           1],\n",
       "       [   0.052632,    0.052632,    0.076272, ...,           1,           1,           1],\n",
       "       ...,\n",
       "       [   0.045455,    0.045455,    0.069593, ...,           1,           1,           1],\n",
       "       [   0.077922,    0.077922,     0.14371, ...,           1,           1,           1],\n",
       "       [   0.034637,    0.034637,    0.059212, ...,           1,           1,           1]]), 'Confidence', 'Precision'], [array([          0,    0.001001,    0.002002,    0.003003,    0.004004,    0.005005,    0.006006,    0.007007,    0.008008,    0.009009,     0.01001,    0.011011,    0.012012,    0.013013,    0.014014,    0.015015,    0.016016,    0.017017,    0.018018,    0.019019,     0.02002,    0.021021,    0.022022,    0.023023,\n",
       "          0.024024,    0.025025,    0.026026,    0.027027,    0.028028,    0.029029,     0.03003,    0.031031,    0.032032,    0.033033,    0.034034,    0.035035,    0.036036,    0.037037,    0.038038,    0.039039,     0.04004,    0.041041,    0.042042,    0.043043,    0.044044,    0.045045,    0.046046,    0.047047,\n",
       "          0.048048,    0.049049,     0.05005,    0.051051,    0.052052,    0.053053,    0.054054,    0.055055,    0.056056,    0.057057,    0.058058,    0.059059,     0.06006,    0.061061,    0.062062,    0.063063,    0.064064,    0.065065,    0.066066,    0.067067,    0.068068,    0.069069,     0.07007,    0.071071,\n",
       "          0.072072,    0.073073,    0.074074,    0.075075,    0.076076,    0.077077,    0.078078,    0.079079,     0.08008,    0.081081,    0.082082,    0.083083,    0.084084,    0.085085,    0.086086,    0.087087,    0.088088,    0.089089,     0.09009,    0.091091,    0.092092,    0.093093,    0.094094,    0.095095,\n",
       "          0.096096,    0.097097,    0.098098,    0.099099,      0.1001,      0.1011,      0.1021,      0.1031,      0.1041,     0.10511,     0.10611,     0.10711,     0.10811,     0.10911,     0.11011,     0.11111,     0.11211,     0.11311,     0.11411,     0.11512,     0.11612,     0.11712,     0.11812,     0.11912,\n",
       "           0.12012,     0.12112,     0.12212,     0.12312,     0.12412,     0.12513,     0.12613,     0.12713,     0.12813,     0.12913,     0.13013,     0.13113,     0.13213,     0.13313,     0.13413,     0.13514,     0.13614,     0.13714,     0.13814,     0.13914,     0.14014,     0.14114,     0.14214,     0.14314,\n",
       "           0.14414,     0.14515,     0.14615,     0.14715,     0.14815,     0.14915,     0.15015,     0.15115,     0.15215,     0.15315,     0.15415,     0.15516,     0.15616,     0.15716,     0.15816,     0.15916,     0.16016,     0.16116,     0.16216,     0.16316,     0.16416,     0.16517,     0.16617,     0.16717,\n",
       "           0.16817,     0.16917,     0.17017,     0.17117,     0.17217,     0.17317,     0.17417,     0.17518,     0.17618,     0.17718,     0.17818,     0.17918,     0.18018,     0.18118,     0.18218,     0.18318,     0.18418,     0.18519,     0.18619,     0.18719,     0.18819,     0.18919,     0.19019,     0.19119,\n",
       "           0.19219,     0.19319,     0.19419,      0.1952,      0.1962,      0.1972,      0.1982,      0.1992,      0.2002,      0.2012,      0.2022,      0.2032,      0.2042,     0.20521,     0.20621,     0.20721,     0.20821,     0.20921,     0.21021,     0.21121,     0.21221,     0.21321,     0.21421,     0.21522,\n",
       "           0.21622,     0.21722,     0.21822,     0.21922,     0.22022,     0.22122,     0.22222,     0.22322,     0.22422,     0.22523,     0.22623,     0.22723,     0.22823,     0.22923,     0.23023,     0.23123,     0.23223,     0.23323,     0.23423,     0.23524,     0.23624,     0.23724,     0.23824,     0.23924,\n",
       "           0.24024,     0.24124,     0.24224,     0.24324,     0.24424,     0.24525,     0.24625,     0.24725,     0.24825,     0.24925,     0.25025,     0.25125,     0.25225,     0.25325,     0.25425,     0.25526,     0.25626,     0.25726,     0.25826,     0.25926,     0.26026,     0.26126,     0.26226,     0.26326,\n",
       "           0.26426,     0.26527,     0.26627,     0.26727,     0.26827,     0.26927,     0.27027,     0.27127,     0.27227,     0.27327,     0.27427,     0.27528,     0.27628,     0.27728,     0.27828,     0.27928,     0.28028,     0.28128,     0.28228,     0.28328,     0.28428,     0.28529,     0.28629,     0.28729,\n",
       "           0.28829,     0.28929,     0.29029,     0.29129,     0.29229,     0.29329,     0.29429,      0.2953,      0.2963,      0.2973,      0.2983,      0.2993,      0.3003,      0.3013,      0.3023,      0.3033,      0.3043,     0.30531,     0.30631,     0.30731,     0.30831,     0.30931,     0.31031,     0.31131,\n",
       "           0.31231,     0.31331,     0.31431,     0.31532,     0.31632,     0.31732,     0.31832,     0.31932,     0.32032,     0.32132,     0.32232,     0.32332,     0.32432,     0.32533,     0.32633,     0.32733,     0.32833,     0.32933,     0.33033,     0.33133,     0.33233,     0.33333,     0.33433,     0.33534,\n",
       "           0.33634,     0.33734,     0.33834,     0.33934,     0.34034,     0.34134,     0.34234,     0.34334,     0.34434,     0.34535,     0.34635,     0.34735,     0.34835,     0.34935,     0.35035,     0.35135,     0.35235,     0.35335,     0.35435,     0.35536,     0.35636,     0.35736,     0.35836,     0.35936,\n",
       "           0.36036,     0.36136,     0.36236,     0.36336,     0.36436,     0.36537,     0.36637,     0.36737,     0.36837,     0.36937,     0.37037,     0.37137,     0.37237,     0.37337,     0.37437,     0.37538,     0.37638,     0.37738,     0.37838,     0.37938,     0.38038,     0.38138,     0.38238,     0.38338,\n",
       "           0.38438,     0.38539,     0.38639,     0.38739,     0.38839,     0.38939,     0.39039,     0.39139,     0.39239,     0.39339,     0.39439,      0.3954,      0.3964,      0.3974,      0.3984,      0.3994,      0.4004,      0.4014,      0.4024,      0.4034,      0.4044,     0.40541,     0.40641,     0.40741,\n",
       "           0.40841,     0.40941,     0.41041,     0.41141,     0.41241,     0.41341,     0.41441,     0.41542,     0.41642,     0.41742,     0.41842,     0.41942,     0.42042,     0.42142,     0.42242,     0.42342,     0.42442,     0.42543,     0.42643,     0.42743,     0.42843,     0.42943,     0.43043,     0.43143,\n",
       "           0.43243,     0.43343,     0.43443,     0.43544,     0.43644,     0.43744,     0.43844,     0.43944,     0.44044,     0.44144,     0.44244,     0.44344,     0.44444,     0.44545,     0.44645,     0.44745,     0.44845,     0.44945,     0.45045,     0.45145,     0.45245,     0.45345,     0.45445,     0.45546,\n",
       "           0.45646,     0.45746,     0.45846,     0.45946,     0.46046,     0.46146,     0.46246,     0.46346,     0.46446,     0.46547,     0.46647,     0.46747,     0.46847,     0.46947,     0.47047,     0.47147,     0.47247,     0.47347,     0.47447,     0.47548,     0.47648,     0.47748,     0.47848,     0.47948,\n",
       "           0.48048,     0.48148,     0.48248,     0.48348,     0.48448,     0.48549,     0.48649,     0.48749,     0.48849,     0.48949,     0.49049,     0.49149,     0.49249,     0.49349,     0.49449,      0.4955,      0.4965,      0.4975,      0.4985,      0.4995,      0.5005,      0.5015,      0.5025,      0.5035,\n",
       "            0.5045,     0.50551,     0.50651,     0.50751,     0.50851,     0.50951,     0.51051,     0.51151,     0.51251,     0.51351,     0.51451,     0.51552,     0.51652,     0.51752,     0.51852,     0.51952,     0.52052,     0.52152,     0.52252,     0.52352,     0.52452,     0.52553,     0.52653,     0.52753,\n",
       "           0.52853,     0.52953,     0.53053,     0.53153,     0.53253,     0.53353,     0.53453,     0.53554,     0.53654,     0.53754,     0.53854,     0.53954,     0.54054,     0.54154,     0.54254,     0.54354,     0.54454,     0.54555,     0.54655,     0.54755,     0.54855,     0.54955,     0.55055,     0.55155,\n",
       "           0.55255,     0.55355,     0.55455,     0.55556,     0.55656,     0.55756,     0.55856,     0.55956,     0.56056,     0.56156,     0.56256,     0.56356,     0.56456,     0.56557,     0.56657,     0.56757,     0.56857,     0.56957,     0.57057,     0.57157,     0.57257,     0.57357,     0.57457,     0.57558,\n",
       "           0.57658,     0.57758,     0.57858,     0.57958,     0.58058,     0.58158,     0.58258,     0.58358,     0.58458,     0.58559,     0.58659,     0.58759,     0.58859,     0.58959,     0.59059,     0.59159,     0.59259,     0.59359,     0.59459,      0.5956,      0.5966,      0.5976,      0.5986,      0.5996,\n",
       "            0.6006,      0.6016,      0.6026,      0.6036,      0.6046,     0.60561,     0.60661,     0.60761,     0.60861,     0.60961,     0.61061,     0.61161,     0.61261,     0.61361,     0.61461,     0.61562,     0.61662,     0.61762,     0.61862,     0.61962,     0.62062,     0.62162,     0.62262,     0.62362,\n",
       "           0.62462,     0.62563,     0.62663,     0.62763,     0.62863,     0.62963,     0.63063,     0.63163,     0.63263,     0.63363,     0.63463,     0.63564,     0.63664,     0.63764,     0.63864,     0.63964,     0.64064,     0.64164,     0.64264,     0.64364,     0.64464,     0.64565,     0.64665,     0.64765,\n",
       "           0.64865,     0.64965,     0.65065,     0.65165,     0.65265,     0.65365,     0.65465,     0.65566,     0.65666,     0.65766,     0.65866,     0.65966,     0.66066,     0.66166,     0.66266,     0.66366,     0.66466,     0.66567,     0.66667,     0.66767,     0.66867,     0.66967,     0.67067,     0.67167,\n",
       "           0.67267,     0.67367,     0.67467,     0.67568,     0.67668,     0.67768,     0.67868,     0.67968,     0.68068,     0.68168,     0.68268,     0.68368,     0.68468,     0.68569,     0.68669,     0.68769,     0.68869,     0.68969,     0.69069,     0.69169,     0.69269,     0.69369,     0.69469,      0.6957,\n",
       "            0.6967,      0.6977,      0.6987,      0.6997,      0.7007,      0.7017,      0.7027,      0.7037,      0.7047,     0.70571,     0.70671,     0.70771,     0.70871,     0.70971,     0.71071,     0.71171,     0.71271,     0.71371,     0.71471,     0.71572,     0.71672,     0.71772,     0.71872,     0.71972,\n",
       "           0.72072,     0.72172,     0.72272,     0.72372,     0.72472,     0.72573,     0.72673,     0.72773,     0.72873,     0.72973,     0.73073,     0.73173,     0.73273,     0.73373,     0.73473,     0.73574,     0.73674,     0.73774,     0.73874,     0.73974,     0.74074,     0.74174,     0.74274,     0.74374,\n",
       "           0.74474,     0.74575,     0.74675,     0.74775,     0.74875,     0.74975,     0.75075,     0.75175,     0.75275,     0.75375,     0.75475,     0.75576,     0.75676,     0.75776,     0.75876,     0.75976,     0.76076,     0.76176,     0.76276,     0.76376,     0.76476,     0.76577,     0.76677,     0.76777,\n",
       "           0.76877,     0.76977,     0.77077,     0.77177,     0.77277,     0.77377,     0.77477,     0.77578,     0.77678,     0.77778,     0.77878,     0.77978,     0.78078,     0.78178,     0.78278,     0.78378,     0.78478,     0.78579,     0.78679,     0.78779,     0.78879,     0.78979,     0.79079,     0.79179,\n",
       "           0.79279,     0.79379,     0.79479,      0.7958,      0.7968,      0.7978,      0.7988,      0.7998,      0.8008,      0.8018,      0.8028,      0.8038,      0.8048,     0.80581,     0.80681,     0.80781,     0.80881,     0.80981,     0.81081,     0.81181,     0.81281,     0.81381,     0.81481,     0.81582,\n",
       "           0.81682,     0.81782,     0.81882,     0.81982,     0.82082,     0.82182,     0.82282,     0.82382,     0.82482,     0.82583,     0.82683,     0.82783,     0.82883,     0.82983,     0.83083,     0.83183,     0.83283,     0.83383,     0.83483,     0.83584,     0.83684,     0.83784,     0.83884,     0.83984,\n",
       "           0.84084,     0.84184,     0.84284,     0.84384,     0.84484,     0.84585,     0.84685,     0.84785,     0.84885,     0.84985,     0.85085,     0.85185,     0.85285,     0.85385,     0.85485,     0.85586,     0.85686,     0.85786,     0.85886,     0.85986,     0.86086,     0.86186,     0.86286,     0.86386,\n",
       "           0.86486,     0.86587,     0.86687,     0.86787,     0.86887,     0.86987,     0.87087,     0.87187,     0.87287,     0.87387,     0.87487,     0.87588,     0.87688,     0.87788,     0.87888,     0.87988,     0.88088,     0.88188,     0.88288,     0.88388,     0.88488,     0.88589,     0.88689,     0.88789,\n",
       "           0.88889,     0.88989,     0.89089,     0.89189,     0.89289,     0.89389,     0.89489,      0.8959,      0.8969,      0.8979,      0.8989,      0.8999,      0.9009,      0.9019,      0.9029,      0.9039,      0.9049,     0.90591,     0.90691,     0.90791,     0.90891,     0.90991,     0.91091,     0.91191,\n",
       "           0.91291,     0.91391,     0.91491,     0.91592,     0.91692,     0.91792,     0.91892,     0.91992,     0.92092,     0.92192,     0.92292,     0.92392,     0.92492,     0.92593,     0.92693,     0.92793,     0.92893,     0.92993,     0.93093,     0.93193,     0.93293,     0.93393,     0.93493,     0.93594,\n",
       "           0.93694,     0.93794,     0.93894,     0.93994,     0.94094,     0.94194,     0.94294,     0.94394,     0.94494,     0.94595,     0.94695,     0.94795,     0.94895,     0.94995,     0.95095,     0.95195,     0.95295,     0.95395,     0.95495,     0.95596,     0.95696,     0.95796,     0.95896,     0.95996,\n",
       "           0.96096,     0.96196,     0.96296,     0.96396,     0.96496,     0.96597,     0.96697,     0.96797,     0.96897,     0.96997,     0.97097,     0.97197,     0.97297,     0.97397,     0.97497,     0.97598,     0.97698,     0.97798,     0.97898,     0.97998,     0.98098,     0.98198,     0.98298,     0.98398,\n",
       "           0.98498,     0.98599,     0.98699,     0.98799,     0.98899,     0.98999,     0.99099,     0.99199,     0.99299,     0.99399,     0.99499,       0.996,       0.997,       0.998,       0.999,           1]), array([[    0.94336,     0.94336,     0.92157, ...,           0,           0,           0],\n",
       "       [    0.97419,     0.97419,     0.96774, ...,           0,           0,           0],\n",
       "       [    0.88462,     0.88462,       0.875, ...,           0,           0,           0],\n",
       "       ...,\n",
       "       [    0.87719,     0.87719,     0.85965, ...,           0,           0,           0],\n",
       "       [    0.88889,     0.88889,     0.85185, ...,           0,           0,           0],\n",
       "       [    0.93939,     0.93939,     0.93939, ...,           0,           0,           0]]), 'Confidence', 'Recall']]\n",
       "fitness: 0.46721061511318224\n",
       "keys: ['metrics/precision(B)', 'metrics/recall(B)', 'metrics/mAP50(B)', 'metrics/mAP50-95(B)']\n",
       "maps: array([    0.40236,     0.50862,     0.28895,     0.27767,     0.40955,     0.60561,       0.574])\n",
       "names: {0: 'fish', 1: 'jellyfish', 2: 'penguin', 3: 'puffin', 4: 'shark', 5: 'starfish', 6: 'stingray'}\n",
       "plot: True\n",
       "results_dict: {'metrics/precision(B)': 0.7834834709212988, 'metrics/recall(B)': 0.6432424414876372, 'metrics/mAP50(B)': 0.7291252690159089, 'metrics/mAP50-95(B)': 0.43810898690176814, 'fitness': 0.46721061511318224}\n",
       "save_dir: WindowsPath('runs/detect/train')\n",
       "speed: {'preprocess': 0.11795524537093996, 'inference': 1.1523896314966398, 'loss': 0.0, 'postprocess': 0.9799548021451694}\n",
       "task: 'detect'"
      ]
     },
     "execution_count": 5,
     "metadata": {},
     "output_type": "execute_result"
    }
   ],
   "source": [
    "model.train(data=r'C:\\Users\\USER\\Desktop\\HS\\GitHub\\YOLO_examples\\Aquarium_test\\Aquarium\\Aquarium_Data.yaml', epochs=100, patience=30, batch=32, imgsz=416)"
   ]
  },
  {
   "cell_type": "code",
   "execution_count": 6,
   "metadata": {},
   "outputs": [
    {
     "name": "stdout",
     "output_type": "stream",
     "text": [
      "63\n",
      "i =  0 C:\\Users\\USER\\Desktop\\HS\\GitHub\\YOLO_examples\\Aquarium_test\\Aquarium\\test\\images\\IMG_2289_jpeg_jpg.rf.fe2a7a149e7b11f2313f5a7b30386e85.jpg\n",
      "i =  1 C:\\Users\\USER\\Desktop\\HS\\GitHub\\YOLO_examples\\Aquarium_test\\Aquarium\\test\\images\\IMG_2301_jpeg_jpg.rf.2c19ae5efbd1f8611b5578125f001695.jpg\n",
      "i =  2 C:\\Users\\USER\\Desktop\\HS\\GitHub\\YOLO_examples\\Aquarium_test\\Aquarium\\test\\images\\IMG_2319_jpeg_jpg.rf.6e20bf97d17b74a8948aa48776c40454.jpg\n",
      "i =  3 C:\\Users\\USER\\Desktop\\HS\\GitHub\\YOLO_examples\\Aquarium_test\\Aquarium\\test\\images\\IMG_2347_jpeg_jpg.rf.7c71ac4b9301eb358cd4a832844dedcb.jpg\n",
      "i =  4 C:\\Users\\USER\\Desktop\\HS\\GitHub\\YOLO_examples\\Aquarium_test\\Aquarium\\test\\images\\IMG_2354_jpeg_jpg.rf.396e872c7fb0a95e911806986995ee7a.jpg\n",
      "i =  5 C:\\Users\\USER\\Desktop\\HS\\GitHub\\YOLO_examples\\Aquarium_test\\Aquarium\\test\\images\\IMG_2371_jpeg_jpg.rf.54505f60b6706da151c164188c305849.jpg\n",
      "i =  6 C:\\Users\\USER\\Desktop\\HS\\GitHub\\YOLO_examples\\Aquarium_test\\Aquarium\\test\\images\\IMG_2379_jpeg_jpg.rf.7dc3160c937072d26d4624c6c48e904d.jpg\n",
      "i =  7 C:\\Users\\USER\\Desktop\\HS\\GitHub\\YOLO_examples\\Aquarium_test\\Aquarium\\test\\images\\IMG_2380_jpeg_jpg.rf.a23809682eb1466c1136ca0f55de8fb5.jpg\n",
      "i =  8 C:\\Users\\USER\\Desktop\\HS\\GitHub\\YOLO_examples\\Aquarium_test\\Aquarium\\test\\images\\IMG_2387_jpeg_jpg.rf.09b38bacfab0922a3a6b66480f01b719.jpg\n",
      "i =  9 C:\\Users\\USER\\Desktop\\HS\\GitHub\\YOLO_examples\\Aquarium_test\\Aquarium\\test\\images\\IMG_2395_jpeg_jpg.rf.9f1503ad3b7a7c7938daed057cc4e9bc.jpg\n",
      "i =  10 C:\\Users\\USER\\Desktop\\HS\\GitHub\\YOLO_examples\\Aquarium_test\\Aquarium\\test\\images\\IMG_2423_jpeg_jpg.rf.1c0901882e71d5ebd26f036f4e22da65.jpg\n",
      "i =  11 C:\\Users\\USER\\Desktop\\HS\\GitHub\\YOLO_examples\\Aquarium_test\\Aquarium\\test\\images\\IMG_2434_jpeg_jpg.rf.8b20d3270d4fbc497c64125273f46ecb.jpg\n",
      "i =  12 C:\\Users\\USER\\Desktop\\HS\\GitHub\\YOLO_examples\\Aquarium_test\\Aquarium\\test\\images\\IMG_2446_jpeg_jpg.rf.06ee05e92df8e3c33073147d8f595211.jpg\n",
      "i =  13 C:\\Users\\USER\\Desktop\\HS\\GitHub\\YOLO_examples\\Aquarium_test\\Aquarium\\test\\images\\IMG_2448_jpeg_jpg.rf.28ce79dab47ad525751d5407be09bc3d.jpg\n",
      "i =  14 C:\\Users\\USER\\Desktop\\HS\\GitHub\\YOLO_examples\\Aquarium_test\\Aquarium\\test\\images\\IMG_2450_jpeg_jpg.rf.ff673921373de3bfc275863e3befeefe.jpg\n",
      "i =  15 C:\\Users\\USER\\Desktop\\HS\\GitHub\\YOLO_examples\\Aquarium_test\\Aquarium\\test\\images\\IMG_2465_jpeg_jpg.rf.7e699ec1d2e373d93dac32cd02db9438.jpg\n",
      "i =  16 C:\\Users\\USER\\Desktop\\HS\\GitHub\\YOLO_examples\\Aquarium_test\\Aquarium\\test\\images\\IMG_2466_jpeg_jpg.rf.53886abb9947ec4e47405957b30fe314.jpg\n",
      "i =  17 C:\\Users\\USER\\Desktop\\HS\\GitHub\\YOLO_examples\\Aquarium_test\\Aquarium\\test\\images\\IMG_2468_jpeg_jpg.rf.c933cc14c99b11a90413a1490d4556db.jpg\n",
      "i =  18 C:\\Users\\USER\\Desktop\\HS\\GitHub\\YOLO_examples\\Aquarium_test\\Aquarium\\test\\images\\IMG_2470_jpeg_jpg.rf.75b359c8baa6866bfecf07a0e4e8c33d.jpg\n",
      "i =  19 C:\\Users\\USER\\Desktop\\HS\\GitHub\\YOLO_examples\\Aquarium_test\\Aquarium\\test\\images\\IMG_2473_jpeg_jpg.rf.6284677f9c781b0cfeec54981a17d573.jpg\n",
      "i =  20 C:\\Users\\USER\\Desktop\\HS\\GitHub\\YOLO_examples\\Aquarium_test\\Aquarium\\test\\images\\IMG_2477_jpeg_jpg.rf.7b2692f142d53c16ad477065f1f8ae6d.jpg\n",
      "i =  21 C:\\Users\\USER\\Desktop\\HS\\GitHub\\YOLO_examples\\Aquarium_test\\Aquarium\\test\\images\\IMG_2496_jpeg_jpg.rf.3f91e7f18502074c89fa720a11926fab.jpg\n",
      "i =  22 C:\\Users\\USER\\Desktop\\HS\\GitHub\\YOLO_examples\\Aquarium_test\\Aquarium\\test\\images\\IMG_2499_jpeg_jpg.rf.6cbab3719b9063388b5ab3ab826d7bd3.jpg\n",
      "i =  23 C:\\Users\\USER\\Desktop\\HS\\GitHub\\YOLO_examples\\Aquarium_test\\Aquarium\\test\\images\\IMG_2514_jpeg_jpg.rf.6ccb3859d75fc5cfe053b1c1474254b2.jpg\n",
      "i =  24 C:\\Users\\USER\\Desktop\\HS\\GitHub\\YOLO_examples\\Aquarium_test\\Aquarium\\test\\images\\IMG_2526_jpeg_jpg.rf.003e1d1d41bcd204df731b85cea68781.jpg\n",
      "i =  25 C:\\Users\\USER\\Desktop\\HS\\GitHub\\YOLO_examples\\Aquarium_test\\Aquarium\\test\\images\\IMG_2532_jpeg_jpg.rf.2afeb76e5d9372dbbd6fbc53d5b75675.jpg\n",
      "i =  26 C:\\Users\\USER\\Desktop\\HS\\GitHub\\YOLO_examples\\Aquarium_test\\Aquarium\\test\\images\\IMG_2544_jpeg_jpg.rf.03f51bb9e1c57fb9cd62f8cbdca14e90.jpg\n",
      "i =  27 C:\\Users\\USER\\Desktop\\HS\\GitHub\\YOLO_examples\\Aquarium_test\\Aquarium\\test\\images\\IMG_2547_jpeg_jpg.rf.9406b6f1a9fad2292c4abd28f712baaf.jpg\n",
      "i =  28 C:\\Users\\USER\\Desktop\\HS\\GitHub\\YOLO_examples\\Aquarium_test\\Aquarium\\test\\images\\IMG_2570_jpeg_jpg.rf.ed40900b657a5b23d92cb2d296ad2dbc.jpg\n",
      "i =  29 C:\\Users\\USER\\Desktop\\HS\\GitHub\\YOLO_examples\\Aquarium_test\\Aquarium\\test\\images\\IMG_2574_jpeg_jpg.rf.ca0c3ad32384309a61e92d9a8bef87b9.jpg\n",
      "i =  30 C:\\Users\\USER\\Desktop\\HS\\GitHub\\YOLO_examples\\Aquarium_test\\Aquarium\\test\\images\\IMG_2582_jpeg_jpg.rf.14f175066ce74b470bf31fa0c7a096cd.jpg\n",
      "i =  31 C:\\Users\\USER\\Desktop\\HS\\GitHub\\YOLO_examples\\Aquarium_test\\Aquarium\\test\\images\\IMG_2588_jpeg_jpg.rf.cb9cea8f05891cfd55a3e93f2908201f.jpg\n",
      "i =  32 C:\\Users\\USER\\Desktop\\HS\\GitHub\\YOLO_examples\\Aquarium_test\\Aquarium\\test\\images\\IMG_2630_jpeg_jpg.rf.310f0c986a72be46b80ce31c2d00e46d.jpg\n",
      "i =  33 C:\\Users\\USER\\Desktop\\HS\\GitHub\\YOLO_examples\\Aquarium_test\\Aquarium\\test\\images\\IMG_2632_jpeg_jpg.rf.f44037edca490b16cbf06427e28ea946.jpg\n",
      "i =  34 C:\\Users\\USER\\Desktop\\HS\\GitHub\\YOLO_examples\\Aquarium_test\\Aquarium\\test\\images\\IMG_2651_jpeg_jpg.rf.84b3930aa80b610cc97bf1c176763940.jpg\n",
      "i =  35 C:\\Users\\USER\\Desktop\\HS\\GitHub\\YOLO_examples\\Aquarium_test\\Aquarium\\test\\images\\IMG_3129_jpeg_jpg.rf.90c472dcdf9b6713ec767cc97560ceca.jpg\n",
      "i =  36 C:\\Users\\USER\\Desktop\\HS\\GitHub\\YOLO_examples\\Aquarium_test\\Aquarium\\test\\images\\IMG_3134_jpeg_jpg.rf.50750ca778773042a3c46a1d3e480132.jpg\n",
      "i =  37 C:\\Users\\USER\\Desktop\\HS\\GitHub\\YOLO_examples\\Aquarium_test\\Aquarium\\test\\images\\IMG_3136_jpeg_jpg.rf.0d8fef73d4cc5e1c35ce424444d9e44b.jpg\n",
      "i =  38 C:\\Users\\USER\\Desktop\\HS\\GitHub\\YOLO_examples\\Aquarium_test\\Aquarium\\test\\images\\IMG_3144_jpeg_jpg.rf.f29a36360174dc83ecef93275ed8f02e.jpg\n",
      "i =  39 C:\\Users\\USER\\Desktop\\HS\\GitHub\\YOLO_examples\\Aquarium_test\\Aquarium\\test\\images\\IMG_3154_jpeg_jpg.rf.5f429a366c02d38bc9e2217f4508c3e0.jpg\n",
      "i =  40 C:\\Users\\USER\\Desktop\\HS\\GitHub\\YOLO_examples\\Aquarium_test\\Aquarium\\test\\images\\IMG_3164_jpeg_jpg.rf.06637eee0b72df791aa729807ca45c4d.jpg\n",
      "i =  41 C:\\Users\\USER\\Desktop\\HS\\GitHub\\YOLO_examples\\Aquarium_test\\Aquarium\\test\\images\\IMG_3173_jpeg_jpg.rf.6f05acaa0b22d410a5df3ea3286e227d.jpg\n",
      "i =  42 C:\\Users\\USER\\Desktop\\HS\\GitHub\\YOLO_examples\\Aquarium_test\\Aquarium\\test\\images\\IMG_3175_jpeg_jpg.rf.686c7d36e049eea974a363e99bf0bee0.jpg\n",
      "i =  43 C:\\Users\\USER\\Desktop\\HS\\GitHub\\YOLO_examples\\Aquarium_test\\Aquarium\\test\\images\\IMG_8331_jpg.rf.ec024bdf1e9de02b020b5e6505c1c58b.jpg\n",
      "i =  44 C:\\Users\\USER\\Desktop\\HS\\GitHub\\YOLO_examples\\Aquarium_test\\Aquarium\\test\\images\\IMG_8343_jpg.rf.2d88000497d74d72aedc118b125a0c07.jpg\n",
      "i =  45 C:\\Users\\USER\\Desktop\\HS\\GitHub\\YOLO_examples\\Aquarium_test\\Aquarium\\test\\images\\IMG_8395_jpg.rf.3bebece033961c9f665571644a14261f.jpg\n",
      "i =  46 C:\\Users\\USER\\Desktop\\HS\\GitHub\\YOLO_examples\\Aquarium_test\\Aquarium\\test\\images\\IMG_8396_jpg.rf.106a6ced5c649ea81f0de8ecaa4ff3b8.jpg\n",
      "i =  47 C:\\Users\\USER\\Desktop\\HS\\GitHub\\YOLO_examples\\Aquarium_test\\Aquarium\\test\\images\\IMG_8404_jpg.rf.265b89e862a375f6b89f781ea60ed480.jpg\n",
      "i =  48 C:\\Users\\USER\\Desktop\\HS\\GitHub\\YOLO_examples\\Aquarium_test\\Aquarium\\test\\images\\IMG_8420_jpg.rf.31f1d5f1440e48ccf1dee988b565911b.jpg\n",
      "i =  49 C:\\Users\\USER\\Desktop\\HS\\GitHub\\YOLO_examples\\Aquarium_test\\Aquarium\\test\\images\\IMG_8452_jpg.rf.6bbff701ab93e29553b3a70137fd4e66.jpg\n",
      "i =  50 C:\\Users\\USER\\Desktop\\HS\\GitHub\\YOLO_examples\\Aquarium_test\\Aquarium\\test\\images\\IMG_8490_jpg.rf.1836542cf054c6d303a2dd05d4194d7f.jpg\n",
      "i =  51 C:\\Users\\USER\\Desktop\\HS\\GitHub\\YOLO_examples\\Aquarium_test\\Aquarium\\test\\images\\IMG_8497_MOV-0_jpg.rf.5c59bd1bf7d8fd7a20999d51a79a12c0.jpg\n",
      "i =  52 C:\\Users\\USER\\Desktop\\HS\\GitHub\\YOLO_examples\\Aquarium_test\\Aquarium\\test\\images\\IMG_8497_MOV-3_jpg.rf.fd813e14681c8b41e709a500748ce46a.jpg\n",
      "i =  53 C:\\Users\\USER\\Desktop\\HS\\GitHub\\YOLO_examples\\Aquarium_test\\Aquarium\\test\\images\\IMG_8497_MOV-5_jpg.rf.3deffb208d656b7845661c5e33dd1afb.jpg\n",
      "i =  54 C:\\Users\\USER\\Desktop\\HS\\GitHub\\YOLO_examples\\Aquarium_test\\Aquarium\\test\\images\\IMG_8513_MOV-0_jpg.rf.2a2f77e3f73630b60aaf6ad3ca4ed130.jpg\n",
      "i =  55 C:\\Users\\USER\\Desktop\\HS\\GitHub\\YOLO_examples\\Aquarium_test\\Aquarium\\test\\images\\IMG_8515_jpg.rf.98a9daca7c5a5bad9872bd7fb2d4f198.jpg\n",
      "i =  56 C:\\Users\\USER\\Desktop\\HS\\GitHub\\YOLO_examples\\Aquarium_test\\Aquarium\\test\\images\\IMG_8582_MOV-0_jpg.rf.aa8304d7a5112d63c8841d96160d42cd.jpg\n",
      "i =  57 C:\\Users\\USER\\Desktop\\HS\\GitHub\\YOLO_examples\\Aquarium_test\\Aquarium\\test\\images\\IMG_8582_MOV-3_jpg.rf.c7dde0639837077f76428d70223368a4.jpg\n",
      "i =  58 C:\\Users\\USER\\Desktop\\HS\\GitHub\\YOLO_examples\\Aquarium_test\\Aquarium\\test\\images\\IMG_8582_MOV-5_jpg.rf.9d7a26fbf145ce39ab0831b4e6bc1f1e.jpg\n",
      "i =  59 C:\\Users\\USER\\Desktop\\HS\\GitHub\\YOLO_examples\\Aquarium_test\\Aquarium\\test\\images\\IMG_8590_MOV-2_jpg.rf.2136fdb5dcbcd58a1dc456bb3e5bf476.jpg\n",
      "i =  60 C:\\Users\\USER\\Desktop\\HS\\GitHub\\YOLO_examples\\Aquarium_test\\Aquarium\\test\\images\\IMG_8590_MOV-5_jpg.rf.074e6d8acdd3fcad16d866c341b43769.jpg\n",
      "i =  61 C:\\Users\\USER\\Desktop\\HS\\GitHub\\YOLO_examples\\Aquarium_test\\Aquarium\\test\\images\\IMG_8595_MOV-0_jpg.rf.312ab0b8b9fca18134aee88044f45a06.jpg\n",
      "i =  62 C:\\Users\\USER\\Desktop\\HS\\GitHub\\YOLO_examples\\Aquarium_test\\Aquarium\\test\\images\\IMG_8599_MOV-3_jpg.rf.412ebb16ea80e964b4464c50e757df0e.jpg\n"
     ]
    }
   ],
   "source": [
    "# 테스트 이미지\n",
    "from glob import glob\n",
    "\n",
    "test_image_list = glob(r'C:\\Users\\USER\\Desktop\\HS\\GitHub\\YOLO_examples\\Aquarium_test\\Aquarium\\test\\images\\*')\n",
    "\n",
    "print(len(test_image_list))\n",
    "\n",
    "test_image_list.sort()\n",
    "\n",
    "for i in range(len(test_image_list)):\n",
    "    print('i = ',i, test_image_list[i])"
   ]
  },
  {
   "cell_type": "code",
   "execution_count": 7,
   "metadata": {},
   "outputs": [
    {
     "name": "stdout",
     "output_type": "stream",
     "text": [
      "\n",
      "image 1/63 C:\\Users\\USER\\Desktop\\HS\\GitHub\\YOLO_examples\\Aquarium_test\\Aquarium\\test\\images\\IMG_2289_jpeg_jpg.rf.fe2a7a149e7b11f2313f5a7b30386e85.jpg: 416x320 (no detections), 88.5ms\n",
      "image 2/63 C:\\Users\\USER\\Desktop\\HS\\GitHub\\YOLO_examples\\Aquarium_test\\Aquarium\\test\\images\\IMG_2301_jpeg_jpg.rf.2c19ae5efbd1f8611b5578125f001695.jpg: 416x320 15 penguins, 14.0ms\n",
      "image 3/63 C:\\Users\\USER\\Desktop\\HS\\GitHub\\YOLO_examples\\Aquarium_test\\Aquarium\\test\\images\\IMG_2319_jpeg_jpg.rf.6e20bf97d17b74a8948aa48776c40454.jpg: 416x320 6 penguins, 14.0ms\n",
      "image 4/63 C:\\Users\\USER\\Desktop\\HS\\GitHub\\YOLO_examples\\Aquarium_test\\Aquarium\\test\\images\\IMG_2347_jpeg_jpg.rf.7c71ac4b9301eb358cd4a832844dedcb.jpg: 416x320 1 penguin, 15.0ms\n",
      "image 5/63 C:\\Users\\USER\\Desktop\\HS\\GitHub\\YOLO_examples\\Aquarium_test\\Aquarium\\test\\images\\IMG_2354_jpeg_jpg.rf.396e872c7fb0a95e911806986995ee7a.jpg: 416x320 5 penguins, 14.0ms\n",
      "image 6/63 C:\\Users\\USER\\Desktop\\HS\\GitHub\\YOLO_examples\\Aquarium_test\\Aquarium\\test\\images\\IMG_2371_jpeg_jpg.rf.54505f60b6706da151c164188c305849.jpg: 416x320 4 fishs, 15.0ms\n",
      "image 7/63 C:\\Users\\USER\\Desktop\\HS\\GitHub\\YOLO_examples\\Aquarium_test\\Aquarium\\test\\images\\IMG_2379_jpeg_jpg.rf.7dc3160c937072d26d4624c6c48e904d.jpg: 416x320 2 fishs, 15.0ms\n",
      "image 8/63 C:\\Users\\USER\\Desktop\\HS\\GitHub\\YOLO_examples\\Aquarium_test\\Aquarium\\test\\images\\IMG_2380_jpeg_jpg.rf.a23809682eb1466c1136ca0f55de8fb5.jpg: 416x320 1 fish, 1 starfish, 15.0ms\n",
      "image 9/63 C:\\Users\\USER\\Desktop\\HS\\GitHub\\YOLO_examples\\Aquarium_test\\Aquarium\\test\\images\\IMG_2387_jpeg_jpg.rf.09b38bacfab0922a3a6b66480f01b719.jpg: 416x320 1 starfish, 15.0ms\n",
      "image 10/63 C:\\Users\\USER\\Desktop\\HS\\GitHub\\YOLO_examples\\Aquarium_test\\Aquarium\\test\\images\\IMG_2395_jpeg_jpg.rf.9f1503ad3b7a7c7938daed057cc4e9bc.jpg: 416x320 5 fishs, 15.0ms\n",
      "image 11/63 C:\\Users\\USER\\Desktop\\HS\\GitHub\\YOLO_examples\\Aquarium_test\\Aquarium\\test\\images\\IMG_2423_jpeg_jpg.rf.1c0901882e71d5ebd26f036f4e22da65.jpg: 416x320 16 fishs, 3 sharks, 15.0ms\n",
      "image 12/63 C:\\Users\\USER\\Desktop\\HS\\GitHub\\YOLO_examples\\Aquarium_test\\Aquarium\\test\\images\\IMG_2434_jpeg_jpg.rf.8b20d3270d4fbc497c64125273f46ecb.jpg: 416x320 5 fishs, 1 shark, 14.0ms\n",
      "image 13/63 C:\\Users\\USER\\Desktop\\HS\\GitHub\\YOLO_examples\\Aquarium_test\\Aquarium\\test\\images\\IMG_2446_jpeg_jpg.rf.06ee05e92df8e3c33073147d8f595211.jpg: 416x320 9 fishs, 2 sharks, 20.0ms\n",
      "image 14/63 C:\\Users\\USER\\Desktop\\HS\\GitHub\\YOLO_examples\\Aquarium_test\\Aquarium\\test\\images\\IMG_2448_jpeg_jpg.rf.28ce79dab47ad525751d5407be09bc3d.jpg: 416x320 11 fishs, 3 sharks, 15.0ms\n",
      "image 15/63 C:\\Users\\USER\\Desktop\\HS\\GitHub\\YOLO_examples\\Aquarium_test\\Aquarium\\test\\images\\IMG_2450_jpeg_jpg.rf.ff673921373de3bfc275863e3befeefe.jpg: 416x320 16 fishs, 1 shark, 14.0ms\n",
      "image 16/63 C:\\Users\\USER\\Desktop\\HS\\GitHub\\YOLO_examples\\Aquarium_test\\Aquarium\\test\\images\\IMG_2465_jpeg_jpg.rf.7e699ec1d2e373d93dac32cd02db9438.jpg: 416x320 20 jellyfishs, 15.0ms\n",
      "image 17/63 C:\\Users\\USER\\Desktop\\HS\\GitHub\\YOLO_examples\\Aquarium_test\\Aquarium\\test\\images\\IMG_2466_jpeg_jpg.rf.53886abb9947ec4e47405957b30fe314.jpg: 416x320 7 jellyfishs, 14.0ms\n",
      "image 18/63 C:\\Users\\USER\\Desktop\\HS\\GitHub\\YOLO_examples\\Aquarium_test\\Aquarium\\test\\images\\IMG_2468_jpeg_jpg.rf.c933cc14c99b11a90413a1490d4556db.jpg: 416x320 11 jellyfishs, 14.0ms\n",
      "image 19/63 C:\\Users\\USER\\Desktop\\HS\\GitHub\\YOLO_examples\\Aquarium_test\\Aquarium\\test\\images\\IMG_2470_jpeg_jpg.rf.75b359c8baa6866bfecf07a0e4e8c33d.jpg: 416x320 17 jellyfishs, 14.0ms\n",
      "image 20/63 C:\\Users\\USER\\Desktop\\HS\\GitHub\\YOLO_examples\\Aquarium_test\\Aquarium\\test\\images\\IMG_2473_jpeg_jpg.rf.6284677f9c781b0cfeec54981a17d573.jpg: 416x320 3 jellyfishs, 14.0ms\n",
      "image 21/63 C:\\Users\\USER\\Desktop\\HS\\GitHub\\YOLO_examples\\Aquarium_test\\Aquarium\\test\\images\\IMG_2477_jpeg_jpg.rf.7b2692f142d53c16ad477065f1f8ae6d.jpg: 416x320 7 jellyfishs, 14.0ms\n",
      "image 22/63 C:\\Users\\USER\\Desktop\\HS\\GitHub\\YOLO_examples\\Aquarium_test\\Aquarium\\test\\images\\IMG_2496_jpeg_jpg.rf.3f91e7f18502074c89fa720a11926fab.jpg: 416x320 10 fishs, 4 sharks, 2 stingrays, 14.0ms\n",
      "image 23/63 C:\\Users\\USER\\Desktop\\HS\\GitHub\\YOLO_examples\\Aquarium_test\\Aquarium\\test\\images\\IMG_2499_jpeg_jpg.rf.6cbab3719b9063388b5ab3ab826d7bd3.jpg: 416x320 2 fishs, 1 shark, 14.0ms\n",
      "image 24/63 C:\\Users\\USER\\Desktop\\HS\\GitHub\\YOLO_examples\\Aquarium_test\\Aquarium\\test\\images\\IMG_2514_jpeg_jpg.rf.6ccb3859d75fc5cfe053b1c1474254b2.jpg: 416x320 2 sharks, 14.0ms\n",
      "image 25/63 C:\\Users\\USER\\Desktop\\HS\\GitHub\\YOLO_examples\\Aquarium_test\\Aquarium\\test\\images\\IMG_2526_jpeg_jpg.rf.003e1d1d41bcd204df731b85cea68781.jpg: 416x320 6 puffins, 14.0ms\n",
      "image 26/63 C:\\Users\\USER\\Desktop\\HS\\GitHub\\YOLO_examples\\Aquarium_test\\Aquarium\\test\\images\\IMG_2532_jpeg_jpg.rf.2afeb76e5d9372dbbd6fbc53d5b75675.jpg: 416x320 2 starfishs, 14.0ms\n",
      "image 27/63 C:\\Users\\USER\\Desktop\\HS\\GitHub\\YOLO_examples\\Aquarium_test\\Aquarium\\test\\images\\IMG_2544_jpeg_jpg.rf.03f51bb9e1c57fb9cd62f8cbdca14e90.jpg: 416x320 1 fish, 3 starfishs, 14.0ms\n",
      "image 28/63 C:\\Users\\USER\\Desktop\\HS\\GitHub\\YOLO_examples\\Aquarium_test\\Aquarium\\test\\images\\IMG_2547_jpeg_jpg.rf.9406b6f1a9fad2292c4abd28f712baaf.jpg: 416x320 1 fish, 4 starfishs, 14.0ms\n",
      "image 29/63 C:\\Users\\USER\\Desktop\\HS\\GitHub\\YOLO_examples\\Aquarium_test\\Aquarium\\test\\images\\IMG_2570_jpeg_jpg.rf.ed40900b657a5b23d92cb2d296ad2dbc.jpg: 416x320 14 fishs, 2 sharks, 15.0ms\n",
      "image 30/63 C:\\Users\\USER\\Desktop\\HS\\GitHub\\YOLO_examples\\Aquarium_test\\Aquarium\\test\\images\\IMG_2574_jpeg_jpg.rf.ca0c3ad32384309a61e92d9a8bef87b9.jpg: 416x320 16 jellyfishs, 15.0ms\n",
      "image 31/63 C:\\Users\\USER\\Desktop\\HS\\GitHub\\YOLO_examples\\Aquarium_test\\Aquarium\\test\\images\\IMG_2582_jpeg_jpg.rf.14f175066ce74b470bf31fa0c7a096cd.jpg: 416x320 8 fishs, 2 sharks, 1 stingray, 15.0ms\n",
      "image 32/63 C:\\Users\\USER\\Desktop\\HS\\GitHub\\YOLO_examples\\Aquarium_test\\Aquarium\\test\\images\\IMG_2588_jpeg_jpg.rf.cb9cea8f05891cfd55a3e93f2908201f.jpg: 416x320 3 stingrays, 14.0ms\n",
      "image 33/63 C:\\Users\\USER\\Desktop\\HS\\GitHub\\YOLO_examples\\Aquarium_test\\Aquarium\\test\\images\\IMG_2630_jpeg_jpg.rf.310f0c986a72be46b80ce31c2d00e46d.jpg: 416x320 3 fishs, 1 stingray, 14.0ms\n",
      "image 34/63 C:\\Users\\USER\\Desktop\\HS\\GitHub\\YOLO_examples\\Aquarium_test\\Aquarium\\test\\images\\IMG_2632_jpeg_jpg.rf.f44037edca490b16cbf06427e28ea946.jpg: 416x320 6 fishs, 2 stingrays, 15.0ms\n",
      "image 35/63 C:\\Users\\USER\\Desktop\\HS\\GitHub\\YOLO_examples\\Aquarium_test\\Aquarium\\test\\images\\IMG_2651_jpeg_jpg.rf.84b3930aa80b610cc97bf1c176763940.jpg: 416x320 1 stingray, 14.0ms\n",
      "image 36/63 C:\\Users\\USER\\Desktop\\HS\\GitHub\\YOLO_examples\\Aquarium_test\\Aquarium\\test\\images\\IMG_3129_jpeg_jpg.rf.90c472dcdf9b6713ec767cc97560ceca.jpg: 416x320 1 starfish, 14.0ms\n",
      "image 37/63 C:\\Users\\USER\\Desktop\\HS\\GitHub\\YOLO_examples\\Aquarium_test\\Aquarium\\test\\images\\IMG_3134_jpeg_jpg.rf.50750ca778773042a3c46a1d3e480132.jpg: 416x320 (no detections), 15.0ms\n",
      "image 38/63 C:\\Users\\USER\\Desktop\\HS\\GitHub\\YOLO_examples\\Aquarium_test\\Aquarium\\test\\images\\IMG_3136_jpeg_jpg.rf.0d8fef73d4cc5e1c35ce424444d9e44b.jpg: 416x320 10 puffins, 14.0ms\n",
      "image 39/63 C:\\Users\\USER\\Desktop\\HS\\GitHub\\YOLO_examples\\Aquarium_test\\Aquarium\\test\\images\\IMG_3144_jpeg_jpg.rf.f29a36360174dc83ecef93275ed8f02e.jpg: 416x320 2 puffins, 14.0ms\n",
      "image 40/63 C:\\Users\\USER\\Desktop\\HS\\GitHub\\YOLO_examples\\Aquarium_test\\Aquarium\\test\\images\\IMG_3154_jpeg_jpg.rf.5f429a366c02d38bc9e2217f4508c3e0.jpg: 416x320 1 fish, 1 puffin, 15.0ms\n",
      "image 41/63 C:\\Users\\USER\\Desktop\\HS\\GitHub\\YOLO_examples\\Aquarium_test\\Aquarium\\test\\images\\IMG_3164_jpeg_jpg.rf.06637eee0b72df791aa729807ca45c4d.jpg: 416x320 14 penguins, 14.0ms\n",
      "image 42/63 C:\\Users\\USER\\Desktop\\HS\\GitHub\\YOLO_examples\\Aquarium_test\\Aquarium\\test\\images\\IMG_3173_jpeg_jpg.rf.6f05acaa0b22d410a5df3ea3286e227d.jpg: 320x416 11 penguins, 97.0ms\n",
      "image 43/63 C:\\Users\\USER\\Desktop\\HS\\GitHub\\YOLO_examples\\Aquarium_test\\Aquarium\\test\\images\\IMG_3175_jpeg_jpg.rf.686c7d36e049eea974a363e99bf0bee0.jpg: 320x416 12 penguins, 16.0ms\n",
      "image 44/63 C:\\Users\\USER\\Desktop\\HS\\GitHub\\YOLO_examples\\Aquarium_test\\Aquarium\\test\\images\\IMG_8331_jpg.rf.ec024bdf1e9de02b020b5e6505c1c58b.jpg: 320x416 4 fishs, 16.0ms\n",
      "image 45/63 C:\\Users\\USER\\Desktop\\HS\\GitHub\\YOLO_examples\\Aquarium_test\\Aquarium\\test\\images\\IMG_8343_jpg.rf.2d88000497d74d72aedc118b125a0c07.jpg: 320x416 2 fishs, 16.0ms\n",
      "image 46/63 C:\\Users\\USER\\Desktop\\HS\\GitHub\\YOLO_examples\\Aquarium_test\\Aquarium\\test\\images\\IMG_8395_jpg.rf.3bebece033961c9f665571644a14261f.jpg: 320x416 6 fishs, 4 sharks, 16.0ms\n",
      "image 47/63 C:\\Users\\USER\\Desktop\\HS\\GitHub\\YOLO_examples\\Aquarium_test\\Aquarium\\test\\images\\IMG_8396_jpg.rf.106a6ced5c649ea81f0de8ecaa4ff3b8.jpg: 320x416 6 fishs, 5 sharks, 16.0ms\n",
      "image 48/63 C:\\Users\\USER\\Desktop\\HS\\GitHub\\YOLO_examples\\Aquarium_test\\Aquarium\\test\\images\\IMG_8404_jpg.rf.265b89e862a375f6b89f781ea60ed480.jpg: 320x416 8 fishs, 1 stingray, 16.0ms\n",
      "image 49/63 C:\\Users\\USER\\Desktop\\HS\\GitHub\\YOLO_examples\\Aquarium_test\\Aquarium\\test\\images\\IMG_8420_jpg.rf.31f1d5f1440e48ccf1dee988b565911b.jpg: 320x416 17 fishs, 15.0ms\n",
      "image 50/63 C:\\Users\\USER\\Desktop\\HS\\GitHub\\YOLO_examples\\Aquarium_test\\Aquarium\\test\\images\\IMG_8452_jpg.rf.6bbff701ab93e29553b3a70137fd4e66.jpg: 320x416 42 fishs, 15.0ms\n",
      "image 51/63 C:\\Users\\USER\\Desktop\\HS\\GitHub\\YOLO_examples\\Aquarium_test\\Aquarium\\test\\images\\IMG_8490_jpg.rf.1836542cf054c6d303a2dd05d4194d7f.jpg: 320x416 52 jellyfishs, 14.0ms\n",
      "image 52/63 C:\\Users\\USER\\Desktop\\HS\\GitHub\\YOLO_examples\\Aquarium_test\\Aquarium\\test\\images\\IMG_8497_MOV-0_jpg.rf.5c59bd1bf7d8fd7a20999d51a79a12c0.jpg: 416x256 9 fishs, 105.0ms\n",
      "image 53/63 C:\\Users\\USER\\Desktop\\HS\\GitHub\\YOLO_examples\\Aquarium_test\\Aquarium\\test\\images\\IMG_8497_MOV-3_jpg.rf.fd813e14681c8b41e709a500748ce46a.jpg: 416x256 5 fishs, 11.0ms\n",
      "image 54/63 C:\\Users\\USER\\Desktop\\HS\\GitHub\\YOLO_examples\\Aquarium_test\\Aquarium\\test\\images\\IMG_8497_MOV-5_jpg.rf.3deffb208d656b7845661c5e33dd1afb.jpg: 416x256 10 fishs, 11.0ms\n",
      "image 55/63 C:\\Users\\USER\\Desktop\\HS\\GitHub\\YOLO_examples\\Aquarium_test\\Aquarium\\test\\images\\IMG_8513_MOV-0_jpg.rf.2a2f77e3f73630b60aaf6ad3ca4ed130.jpg: 416x256 6 fishs, 11.0ms\n",
      "image 56/63 C:\\Users\\USER\\Desktop\\HS\\GitHub\\YOLO_examples\\Aquarium_test\\Aquarium\\test\\images\\IMG_8515_jpg.rf.98a9daca7c5a5bad9872bd7fb2d4f198.jpg: 320x416 5 fishs, 16.0ms\n",
      "image 57/63 C:\\Users\\USER\\Desktop\\HS\\GitHub\\YOLO_examples\\Aquarium_test\\Aquarium\\test\\images\\IMG_8582_MOV-0_jpg.rf.aa8304d7a5112d63c8841d96160d42cd.jpg: 416x256 6 fishs, 1 stingray, 12.0ms\n",
      "image 58/63 C:\\Users\\USER\\Desktop\\HS\\GitHub\\YOLO_examples\\Aquarium_test\\Aquarium\\test\\images\\IMG_8582_MOV-3_jpg.rf.c7dde0639837077f76428d70223368a4.jpg: 416x256 (no detections), 12.0ms\n",
      "image 59/63 C:\\Users\\USER\\Desktop\\HS\\GitHub\\YOLO_examples\\Aquarium_test\\Aquarium\\test\\images\\IMG_8582_MOV-5_jpg.rf.9d7a26fbf145ce39ab0831b4e6bc1f1e.jpg: 416x256 1 fish, 12.0ms\n",
      "image 60/63 C:\\Users\\USER\\Desktop\\HS\\GitHub\\YOLO_examples\\Aquarium_test\\Aquarium\\test\\images\\IMG_8590_MOV-2_jpg.rf.2136fdb5dcbcd58a1dc456bb3e5bf476.jpg: 416x256 5 jellyfishs, 12.0ms\n",
      "image 61/63 C:\\Users\\USER\\Desktop\\HS\\GitHub\\YOLO_examples\\Aquarium_test\\Aquarium\\test\\images\\IMG_8590_MOV-5_jpg.rf.074e6d8acdd3fcad16d866c341b43769.jpg: 416x256 1 fish, 11.0ms\n",
      "image 62/63 C:\\Users\\USER\\Desktop\\HS\\GitHub\\YOLO_examples\\Aquarium_test\\Aquarium\\test\\images\\IMG_8595_MOV-0_jpg.rf.312ab0b8b9fca18134aee88044f45a06.jpg: 416x256 42 jellyfishs, 11.0ms\n",
      "image 63/63 C:\\Users\\USER\\Desktop\\HS\\GitHub\\YOLO_examples\\Aquarium_test\\Aquarium\\test\\images\\IMG_8599_MOV-3_jpg.rf.412ebb16ea80e964b4464c50e757df0e.jpg: 416x256 4 jellyfishs, 11.0ms\n",
      "Speed: 2.4ms preprocess, 18.1ms inference, 2.2ms postprocess per image at shape (1, 3, 416, 256)\n",
      "Results saved to \u001b[1mruns\\detect\\train2\u001b[0m\n"
     ]
    }
   ],
   "source": [
    "results = model.predict(source=r'C:\\Users\\USER\\Desktop\\HS\\GitHub\\YOLO_examples\\Aquarium_test\\Aquarium\\test\\images', save=True)"
   ]
  },
  {
   "cell_type": "code",
   "execution_count": 8,
   "metadata": {},
   "outputs": [
    {
     "name": "stdout",
     "output_type": "stream",
     "text": [
      "\n",
      "{class num:counts} = {} \n",
      "\n",
      "\n",
      "{class num:counts} = {2.0: 15} \n",
      "\n",
      "class num = 2 , class_name = penguin\n",
      "class num = 2 , class_name = penguin\n",
      "class num = 2 , class_name = penguin\n",
      "class num = 2 , class_name = penguin\n",
      "class num = 2 , class_name = penguin\n",
      "class num = 2 , class_name = penguin\n",
      "class num = 2 , class_name = penguin\n",
      "class num = 2 , class_name = penguin\n",
      "class num = 2 , class_name = penguin\n",
      "class num = 2 , class_name = penguin\n",
      "class num = 2 , class_name = penguin\n",
      "class num = 2 , class_name = penguin\n",
      "class num = 2 , class_name = penguin\n",
      "class num = 2 , class_name = penguin\n",
      "class num = 2 , class_name = penguin\n",
      "\n",
      "{class num:counts} = {2.0: 6} \n",
      "\n",
      "class num = 2 , class_name = penguin\n",
      "class num = 2 , class_name = penguin\n",
      "class num = 2 , class_name = penguin\n",
      "class num = 2 , class_name = penguin\n",
      "class num = 2 , class_name = penguin\n",
      "class num = 2 , class_name = penguin\n",
      "\n",
      "{class num:counts} = {2.0: 1} \n",
      "\n",
      "class num = 2 , class_name = penguin\n",
      "\n",
      "{class num:counts} = {2.0: 5} \n",
      "\n",
      "class num = 2 , class_name = penguin\n",
      "class num = 2 , class_name = penguin\n",
      "class num = 2 , class_name = penguin\n",
      "class num = 2 , class_name = penguin\n",
      "class num = 2 , class_name = penguin\n",
      "\n",
      "{class num:counts} = {0.0: 4} \n",
      "\n",
      "class num = 0 , class_name = fish\n",
      "class num = 0 , class_name = fish\n",
      "class num = 0 , class_name = fish\n",
      "class num = 0 , class_name = fish\n",
      "\n",
      "{class num:counts} = {0.0: 2} \n",
      "\n",
      "class num = 0 , class_name = fish\n",
      "class num = 0 , class_name = fish\n",
      "\n",
      "{class num:counts} = {0.0: 1, 5.0: 1} \n",
      "\n",
      "class num = 0 , class_name = fish\n",
      "class num = 5 , class_name = starfish\n",
      "\n",
      "{class num:counts} = {5.0: 1} \n",
      "\n",
      "class num = 5 , class_name = starfish\n",
      "\n",
      "{class num:counts} = {0.0: 5} \n",
      "\n",
      "class num = 0 , class_name = fish\n",
      "class num = 0 , class_name = fish\n",
      "class num = 0 , class_name = fish\n",
      "class num = 0 , class_name = fish\n",
      "class num = 0 , class_name = fish\n",
      "\n",
      "{class num:counts} = {0.0: 16, 4.0: 3} \n",
      "\n",
      "class num = 0 , class_name = fish\n",
      "class num = 0 , class_name = fish\n",
      "class num = 0 , class_name = fish\n",
      "class num = 4 , class_name = shark\n",
      "class num = 4 , class_name = shark\n",
      "class num = 0 , class_name = fish\n",
      "class num = 0 , class_name = fish\n",
      "class num = 0 , class_name = fish\n",
      "class num = 0 , class_name = fish\n",
      "class num = 4 , class_name = shark\n",
      "class num = 0 , class_name = fish\n",
      "class num = 0 , class_name = fish\n",
      "class num = 0 , class_name = fish\n",
      "class num = 0 , class_name = fish\n",
      "class num = 0 , class_name = fish\n",
      "class num = 0 , class_name = fish\n",
      "class num = 0 , class_name = fish\n",
      "class num = 0 , class_name = fish\n",
      "class num = 0 , class_name = fish\n",
      "\n",
      "{class num:counts} = {0.0: 5, 4.0: 1} \n",
      "\n",
      "class num = 0 , class_name = fish\n",
      "class num = 0 , class_name = fish\n",
      "class num = 4 , class_name = shark\n",
      "class num = 0 , class_name = fish\n",
      "class num = 0 , class_name = fish\n",
      "class num = 0 , class_name = fish\n",
      "\n",
      "{class num:counts} = {0.0: 9, 4.0: 2} \n",
      "\n",
      "class num = 0 , class_name = fish\n",
      "class num = 0 , class_name = fish\n",
      "class num = 0 , class_name = fish\n",
      "class num = 0 , class_name = fish\n",
      "class num = 4 , class_name = shark\n",
      "class num = 4 , class_name = shark\n",
      "class num = 0 , class_name = fish\n",
      "class num = 0 , class_name = fish\n",
      "class num = 0 , class_name = fish\n",
      "class num = 0 , class_name = fish\n",
      "class num = 0 , class_name = fish\n",
      "\n",
      "{class num:counts} = {0.0: 11, 4.0: 3} \n",
      "\n",
      "class num = 0 , class_name = fish\n",
      "class num = 0 , class_name = fish\n",
      "class num = 0 , class_name = fish\n",
      "class num = 0 , class_name = fish\n",
      "class num = 0 , class_name = fish\n",
      "class num = 0 , class_name = fish\n",
      "class num = 0 , class_name = fish\n",
      "class num = 0 , class_name = fish\n",
      "class num = 4 , class_name = shark\n",
      "class num = 0 , class_name = fish\n",
      "class num = 4 , class_name = shark\n",
      "class num = 0 , class_name = fish\n",
      "class num = 4 , class_name = shark\n",
      "class num = 0 , class_name = fish\n",
      "\n",
      "{class num:counts} = {0.0: 16, 4.0: 1} \n",
      "\n",
      "class num = 0 , class_name = fish\n",
      "class num = 0 , class_name = fish\n",
      "class num = 0 , class_name = fish\n",
      "class num = 4 , class_name = shark\n",
      "class num = 0 , class_name = fish\n",
      "class num = 0 , class_name = fish\n",
      "class num = 0 , class_name = fish\n",
      "class num = 0 , class_name = fish\n",
      "class num = 0 , class_name = fish\n",
      "class num = 0 , class_name = fish\n",
      "class num = 0 , class_name = fish\n",
      "class num = 0 , class_name = fish\n",
      "class num = 0 , class_name = fish\n",
      "class num = 0 , class_name = fish\n",
      "class num = 0 , class_name = fish\n",
      "class num = 0 , class_name = fish\n",
      "class num = 0 , class_name = fish\n",
      "\n",
      "{class num:counts} = {1.0: 20} \n",
      "\n",
      "class num = 1 , class_name = jellyfish\n",
      "class num = 1 , class_name = jellyfish\n",
      "class num = 1 , class_name = jellyfish\n",
      "class num = 1 , class_name = jellyfish\n",
      "class num = 1 , class_name = jellyfish\n",
      "class num = 1 , class_name = jellyfish\n",
      "class num = 1 , class_name = jellyfish\n",
      "class num = 1 , class_name = jellyfish\n",
      "class num = 1 , class_name = jellyfish\n",
      "class num = 1 , class_name = jellyfish\n",
      "class num = 1 , class_name = jellyfish\n",
      "class num = 1 , class_name = jellyfish\n",
      "class num = 1 , class_name = jellyfish\n",
      "class num = 1 , class_name = jellyfish\n",
      "class num = 1 , class_name = jellyfish\n",
      "class num = 1 , class_name = jellyfish\n",
      "class num = 1 , class_name = jellyfish\n",
      "class num = 1 , class_name = jellyfish\n",
      "class num = 1 , class_name = jellyfish\n",
      "class num = 1 , class_name = jellyfish\n",
      "\n",
      "{class num:counts} = {1.0: 7} \n",
      "\n",
      "class num = 1 , class_name = jellyfish\n",
      "class num = 1 , class_name = jellyfish\n",
      "class num = 1 , class_name = jellyfish\n",
      "class num = 1 , class_name = jellyfish\n",
      "class num = 1 , class_name = jellyfish\n",
      "class num = 1 , class_name = jellyfish\n",
      "class num = 1 , class_name = jellyfish\n",
      "\n",
      "{class num:counts} = {1.0: 11} \n",
      "\n",
      "class num = 1 , class_name = jellyfish\n",
      "class num = 1 , class_name = jellyfish\n",
      "class num = 1 , class_name = jellyfish\n",
      "class num = 1 , class_name = jellyfish\n",
      "class num = 1 , class_name = jellyfish\n",
      "class num = 1 , class_name = jellyfish\n",
      "class num = 1 , class_name = jellyfish\n",
      "class num = 1 , class_name = jellyfish\n",
      "class num = 1 , class_name = jellyfish\n",
      "class num = 1 , class_name = jellyfish\n",
      "class num = 1 , class_name = jellyfish\n",
      "\n",
      "{class num:counts} = {1.0: 17} \n",
      "\n",
      "class num = 1 , class_name = jellyfish\n",
      "class num = 1 , class_name = jellyfish\n",
      "class num = 1 , class_name = jellyfish\n",
      "class num = 1 , class_name = jellyfish\n",
      "class num = 1 , class_name = jellyfish\n",
      "class num = 1 , class_name = jellyfish\n",
      "class num = 1 , class_name = jellyfish\n",
      "class num = 1 , class_name = jellyfish\n",
      "class num = 1 , class_name = jellyfish\n",
      "class num = 1 , class_name = jellyfish\n",
      "class num = 1 , class_name = jellyfish\n",
      "class num = 1 , class_name = jellyfish\n",
      "class num = 1 , class_name = jellyfish\n",
      "class num = 1 , class_name = jellyfish\n",
      "class num = 1 , class_name = jellyfish\n",
      "class num = 1 , class_name = jellyfish\n",
      "class num = 1 , class_name = jellyfish\n",
      "\n",
      "{class num:counts} = {1.0: 3} \n",
      "\n",
      "class num = 1 , class_name = jellyfish\n",
      "class num = 1 , class_name = jellyfish\n",
      "class num = 1 , class_name = jellyfish\n",
      "\n",
      "{class num:counts} = {1.0: 7} \n",
      "\n",
      "class num = 1 , class_name = jellyfish\n",
      "class num = 1 , class_name = jellyfish\n",
      "class num = 1 , class_name = jellyfish\n",
      "class num = 1 , class_name = jellyfish\n",
      "class num = 1 , class_name = jellyfish\n",
      "class num = 1 , class_name = jellyfish\n",
      "class num = 1 , class_name = jellyfish\n",
      "\n",
      "{class num:counts} = {0.0: 10, 4.0: 4, 6.0: 2} \n",
      "\n",
      "class num = 0 , class_name = fish\n",
      "class num = 4 , class_name = shark\n",
      "class num = 6 , class_name = stingray\n",
      "class num = 4 , class_name = shark\n",
      "class num = 4 , class_name = shark\n",
      "class num = 4 , class_name = shark\n",
      "class num = 6 , class_name = stingray\n",
      "class num = 0 , class_name = fish\n",
      "class num = 0 , class_name = fish\n",
      "class num = 0 , class_name = fish\n",
      "class num = 0 , class_name = fish\n",
      "class num = 0 , class_name = fish\n",
      "class num = 0 , class_name = fish\n",
      "class num = 0 , class_name = fish\n",
      "class num = 0 , class_name = fish\n",
      "class num = 0 , class_name = fish\n",
      "\n",
      "{class num:counts} = {0.0: 2, 4.0: 1} \n",
      "\n",
      "class num = 4 , class_name = shark\n",
      "class num = 0 , class_name = fish\n",
      "class num = 0 , class_name = fish\n",
      "\n",
      "{class num:counts} = {4.0: 2} \n",
      "\n",
      "class num = 4 , class_name = shark\n",
      "class num = 4 , class_name = shark\n",
      "\n",
      "{class num:counts} = {3.0: 6} \n",
      "\n",
      "class num = 3 , class_name = puffin\n",
      "class num = 3 , class_name = puffin\n",
      "class num = 3 , class_name = puffin\n",
      "class num = 3 , class_name = puffin\n",
      "class num = 3 , class_name = puffin\n",
      "class num = 3 , class_name = puffin\n",
      "\n",
      "{class num:counts} = {5.0: 2} \n",
      "\n",
      "class num = 5 , class_name = starfish\n",
      "class num = 5 , class_name = starfish\n",
      "\n",
      "{class num:counts} = {0.0: 1, 5.0: 3} \n",
      "\n",
      "class num = 5 , class_name = starfish\n",
      "class num = 5 , class_name = starfish\n",
      "class num = 5 , class_name = starfish\n",
      "class num = 0 , class_name = fish\n",
      "\n",
      "{class num:counts} = {0.0: 1, 5.0: 4} \n",
      "\n",
      "class num = 5 , class_name = starfish\n",
      "class num = 5 , class_name = starfish\n",
      "class num = 5 , class_name = starfish\n",
      "class num = 5 , class_name = starfish\n",
      "class num = 0 , class_name = fish\n",
      "\n",
      "{class num:counts} = {0.0: 14, 4.0: 2} \n",
      "\n",
      "class num = 4 , class_name = shark\n",
      "class num = 0 , class_name = fish\n",
      "class num = 0 , class_name = fish\n",
      "class num = 0 , class_name = fish\n",
      "class num = 4 , class_name = shark\n",
      "class num = 0 , class_name = fish\n",
      "class num = 0 , class_name = fish\n",
      "class num = 0 , class_name = fish\n",
      "class num = 0 , class_name = fish\n",
      "class num = 0 , class_name = fish\n",
      "class num = 0 , class_name = fish\n",
      "class num = 0 , class_name = fish\n",
      "class num = 0 , class_name = fish\n",
      "class num = 0 , class_name = fish\n",
      "class num = 0 , class_name = fish\n",
      "class num = 0 , class_name = fish\n",
      "\n",
      "{class num:counts} = {1.0: 16} \n",
      "\n",
      "class num = 1 , class_name = jellyfish\n",
      "class num = 1 , class_name = jellyfish\n",
      "class num = 1 , class_name = jellyfish\n",
      "class num = 1 , class_name = jellyfish\n",
      "class num = 1 , class_name = jellyfish\n",
      "class num = 1 , class_name = jellyfish\n",
      "class num = 1 , class_name = jellyfish\n",
      "class num = 1 , class_name = jellyfish\n",
      "class num = 1 , class_name = jellyfish\n",
      "class num = 1 , class_name = jellyfish\n",
      "class num = 1 , class_name = jellyfish\n",
      "class num = 1 , class_name = jellyfish\n",
      "class num = 1 , class_name = jellyfish\n",
      "class num = 1 , class_name = jellyfish\n",
      "class num = 1 , class_name = jellyfish\n",
      "class num = 1 , class_name = jellyfish\n",
      "\n",
      "{class num:counts} = {0.0: 8, 4.0: 2, 6.0: 1} \n",
      "\n",
      "class num = 0 , class_name = fish\n",
      "class num = 6 , class_name = stingray\n",
      "class num = 4 , class_name = shark\n",
      "class num = 4 , class_name = shark\n",
      "class num = 0 , class_name = fish\n",
      "class num = 0 , class_name = fish\n",
      "class num = 0 , class_name = fish\n",
      "class num = 0 , class_name = fish\n",
      "class num = 0 , class_name = fish\n",
      "class num = 0 , class_name = fish\n",
      "class num = 0 , class_name = fish\n",
      "\n",
      "{class num:counts} = {6.0: 3} \n",
      "\n",
      "class num = 6 , class_name = stingray\n",
      "class num = 6 , class_name = stingray\n",
      "class num = 6 , class_name = stingray\n",
      "\n",
      "{class num:counts} = {0.0: 3, 6.0: 1} \n",
      "\n",
      "class num = 6 , class_name = stingray\n",
      "class num = 0 , class_name = fish\n",
      "class num = 0 , class_name = fish\n",
      "class num = 0 , class_name = fish\n",
      "\n",
      "{class num:counts} = {0.0: 6, 6.0: 2} \n",
      "\n",
      "class num = 6 , class_name = stingray\n",
      "class num = 0 , class_name = fish\n",
      "class num = 0 , class_name = fish\n",
      "class num = 0 , class_name = fish\n",
      "class num = 0 , class_name = fish\n",
      "class num = 0 , class_name = fish\n",
      "class num = 0 , class_name = fish\n",
      "class num = 6 , class_name = stingray\n",
      "\n",
      "{class num:counts} = {6.0: 1} \n",
      "\n",
      "class num = 6 , class_name = stingray\n",
      "\n",
      "{class num:counts} = {5.0: 1} \n",
      "\n",
      "class num = 5 , class_name = starfish\n",
      "\n",
      "{class num:counts} = {} \n",
      "\n",
      "\n",
      "{class num:counts} = {3.0: 10} \n",
      "\n",
      "class num = 3 , class_name = puffin\n",
      "class num = 3 , class_name = puffin\n",
      "class num = 3 , class_name = puffin\n",
      "class num = 3 , class_name = puffin\n",
      "class num = 3 , class_name = puffin\n",
      "class num = 3 , class_name = puffin\n",
      "class num = 3 , class_name = puffin\n",
      "class num = 3 , class_name = puffin\n",
      "class num = 3 , class_name = puffin\n",
      "class num = 3 , class_name = puffin\n",
      "\n",
      "{class num:counts} = {3.0: 2} \n",
      "\n",
      "class num = 3 , class_name = puffin\n",
      "class num = 3 , class_name = puffin\n",
      "\n",
      "{class num:counts} = {0.0: 1, 3.0: 1} \n",
      "\n",
      "class num = 3 , class_name = puffin\n",
      "class num = 0 , class_name = fish\n",
      "\n",
      "{class num:counts} = {2.0: 14} \n",
      "\n",
      "class num = 2 , class_name = penguin\n",
      "class num = 2 , class_name = penguin\n",
      "class num = 2 , class_name = penguin\n",
      "class num = 2 , class_name = penguin\n",
      "class num = 2 , class_name = penguin\n",
      "class num = 2 , class_name = penguin\n",
      "class num = 2 , class_name = penguin\n",
      "class num = 2 , class_name = penguin\n",
      "class num = 2 , class_name = penguin\n",
      "class num = 2 , class_name = penguin\n",
      "class num = 2 , class_name = penguin\n",
      "class num = 2 , class_name = penguin\n",
      "class num = 2 , class_name = penguin\n",
      "class num = 2 , class_name = penguin\n",
      "\n",
      "{class num:counts} = {2.0: 11} \n",
      "\n",
      "class num = 2 , class_name = penguin\n",
      "class num = 2 , class_name = penguin\n",
      "class num = 2 , class_name = penguin\n",
      "class num = 2 , class_name = penguin\n",
      "class num = 2 , class_name = penguin\n",
      "class num = 2 , class_name = penguin\n",
      "class num = 2 , class_name = penguin\n",
      "class num = 2 , class_name = penguin\n",
      "class num = 2 , class_name = penguin\n",
      "class num = 2 , class_name = penguin\n",
      "class num = 2 , class_name = penguin\n",
      "\n",
      "{class num:counts} = {2.0: 12} \n",
      "\n",
      "class num = 2 , class_name = penguin\n",
      "class num = 2 , class_name = penguin\n",
      "class num = 2 , class_name = penguin\n",
      "class num = 2 , class_name = penguin\n",
      "class num = 2 , class_name = penguin\n",
      "class num = 2 , class_name = penguin\n",
      "class num = 2 , class_name = penguin\n",
      "class num = 2 , class_name = penguin\n",
      "class num = 2 , class_name = penguin\n",
      "class num = 2 , class_name = penguin\n",
      "class num = 2 , class_name = penguin\n",
      "class num = 2 , class_name = penguin\n",
      "\n",
      "{class num:counts} = {0.0: 4} \n",
      "\n",
      "class num = 0 , class_name = fish\n",
      "class num = 0 , class_name = fish\n",
      "class num = 0 , class_name = fish\n",
      "class num = 0 , class_name = fish\n",
      "\n",
      "{class num:counts} = {0.0: 2} \n",
      "\n",
      "class num = 0 , class_name = fish\n",
      "class num = 0 , class_name = fish\n",
      "\n",
      "{class num:counts} = {0.0: 6, 4.0: 4} \n",
      "\n",
      "class num = 4 , class_name = shark\n",
      "class num = 4 , class_name = shark\n",
      "class num = 4 , class_name = shark\n",
      "class num = 0 , class_name = fish\n",
      "class num = 4 , class_name = shark\n",
      "class num = 0 , class_name = fish\n",
      "class num = 0 , class_name = fish\n",
      "class num = 0 , class_name = fish\n",
      "class num = 0 , class_name = fish\n",
      "class num = 0 , class_name = fish\n",
      "\n",
      "{class num:counts} = {0.0: 6, 4.0: 5} \n",
      "\n",
      "class num = 4 , class_name = shark\n",
      "class num = 4 , class_name = shark\n",
      "class num = 4 , class_name = shark\n",
      "class num = 4 , class_name = shark\n",
      "class num = 0 , class_name = fish\n",
      "class num = 0 , class_name = fish\n",
      "class num = 0 , class_name = fish\n",
      "class num = 4 , class_name = shark\n",
      "class num = 0 , class_name = fish\n",
      "class num = 0 , class_name = fish\n",
      "class num = 0 , class_name = fish\n",
      "\n",
      "{class num:counts} = {0.0: 8, 6.0: 1} \n",
      "\n",
      "class num = 6 , class_name = stingray\n",
      "class num = 0 , class_name = fish\n",
      "class num = 0 , class_name = fish\n",
      "class num = 0 , class_name = fish\n",
      "class num = 0 , class_name = fish\n",
      "class num = 0 , class_name = fish\n",
      "class num = 0 , class_name = fish\n",
      "class num = 0 , class_name = fish\n",
      "class num = 0 , class_name = fish\n",
      "\n",
      "{class num:counts} = {0.0: 17} \n",
      "\n",
      "class num = 0 , class_name = fish\n",
      "class num = 0 , class_name = fish\n",
      "class num = 0 , class_name = fish\n",
      "class num = 0 , class_name = fish\n",
      "class num = 0 , class_name = fish\n",
      "class num = 0 , class_name = fish\n",
      "class num = 0 , class_name = fish\n",
      "class num = 0 , class_name = fish\n",
      "class num = 0 , class_name = fish\n",
      "class num = 0 , class_name = fish\n",
      "class num = 0 , class_name = fish\n",
      "class num = 0 , class_name = fish\n",
      "class num = 0 , class_name = fish\n",
      "class num = 0 , class_name = fish\n",
      "class num = 0 , class_name = fish\n",
      "class num = 0 , class_name = fish\n",
      "class num = 0 , class_name = fish\n",
      "\n",
      "{class num:counts} = {0.0: 42} \n",
      "\n",
      "class num = 0 , class_name = fish\n",
      "class num = 0 , class_name = fish\n",
      "class num = 0 , class_name = fish\n",
      "class num = 0 , class_name = fish\n",
      "class num = 0 , class_name = fish\n",
      "class num = 0 , class_name = fish\n",
      "class num = 0 , class_name = fish\n",
      "class num = 0 , class_name = fish\n",
      "class num = 0 , class_name = fish\n",
      "class num = 0 , class_name = fish\n",
      "class num = 0 , class_name = fish\n",
      "class num = 0 , class_name = fish\n",
      "class num = 0 , class_name = fish\n",
      "class num = 0 , class_name = fish\n",
      "class num = 0 , class_name = fish\n",
      "class num = 0 , class_name = fish\n",
      "class num = 0 , class_name = fish\n",
      "class num = 0 , class_name = fish\n",
      "class num = 0 , class_name = fish\n",
      "class num = 0 , class_name = fish\n",
      "class num = 0 , class_name = fish\n",
      "class num = 0 , class_name = fish\n",
      "class num = 0 , class_name = fish\n",
      "class num = 0 , class_name = fish\n",
      "class num = 0 , class_name = fish\n",
      "class num = 0 , class_name = fish\n",
      "class num = 0 , class_name = fish\n",
      "class num = 0 , class_name = fish\n",
      "class num = 0 , class_name = fish\n",
      "class num = 0 , class_name = fish\n",
      "class num = 0 , class_name = fish\n",
      "class num = 0 , class_name = fish\n",
      "class num = 0 , class_name = fish\n",
      "class num = 0 , class_name = fish\n",
      "class num = 0 , class_name = fish\n",
      "class num = 0 , class_name = fish\n",
      "class num = 0 , class_name = fish\n",
      "class num = 0 , class_name = fish\n",
      "class num = 0 , class_name = fish\n",
      "class num = 0 , class_name = fish\n",
      "class num = 0 , class_name = fish\n",
      "class num = 0 , class_name = fish\n",
      "\n",
      "{class num:counts} = {1.0: 52} \n",
      "\n",
      "class num = 1 , class_name = jellyfish\n",
      "class num = 1 , class_name = jellyfish\n",
      "class num = 1 , class_name = jellyfish\n",
      "class num = 1 , class_name = jellyfish\n",
      "class num = 1 , class_name = jellyfish\n",
      "class num = 1 , class_name = jellyfish\n",
      "class num = 1 , class_name = jellyfish\n",
      "class num = 1 , class_name = jellyfish\n",
      "class num = 1 , class_name = jellyfish\n",
      "class num = 1 , class_name = jellyfish\n",
      "class num = 1 , class_name = jellyfish\n",
      "class num = 1 , class_name = jellyfish\n",
      "class num = 1 , class_name = jellyfish\n",
      "class num = 1 , class_name = jellyfish\n",
      "class num = 1 , class_name = jellyfish\n",
      "class num = 1 , class_name = jellyfish\n",
      "class num = 1 , class_name = jellyfish\n",
      "class num = 1 , class_name = jellyfish\n",
      "class num = 1 , class_name = jellyfish\n",
      "class num = 1 , class_name = jellyfish\n",
      "class num = 1 , class_name = jellyfish\n",
      "class num = 1 , class_name = jellyfish\n",
      "class num = 1 , class_name = jellyfish\n",
      "class num = 1 , class_name = jellyfish\n",
      "class num = 1 , class_name = jellyfish\n",
      "class num = 1 , class_name = jellyfish\n",
      "class num = 1 , class_name = jellyfish\n",
      "class num = 1 , class_name = jellyfish\n",
      "class num = 1 , class_name = jellyfish\n",
      "class num = 1 , class_name = jellyfish\n",
      "class num = 1 , class_name = jellyfish\n",
      "class num = 1 , class_name = jellyfish\n",
      "class num = 1 , class_name = jellyfish\n",
      "class num = 1 , class_name = jellyfish\n",
      "class num = 1 , class_name = jellyfish\n",
      "class num = 1 , class_name = jellyfish\n",
      "class num = 1 , class_name = jellyfish\n",
      "class num = 1 , class_name = jellyfish\n",
      "class num = 1 , class_name = jellyfish\n",
      "class num = 1 , class_name = jellyfish\n",
      "class num = 1 , class_name = jellyfish\n",
      "class num = 1 , class_name = jellyfish\n",
      "class num = 1 , class_name = jellyfish\n",
      "class num = 1 , class_name = jellyfish\n",
      "class num = 1 , class_name = jellyfish\n",
      "class num = 1 , class_name = jellyfish\n",
      "class num = 1 , class_name = jellyfish\n",
      "class num = 1 , class_name = jellyfish\n",
      "class num = 1 , class_name = jellyfish\n",
      "class num = 1 , class_name = jellyfish\n",
      "class num = 1 , class_name = jellyfish\n",
      "class num = 1 , class_name = jellyfish\n",
      "\n",
      "{class num:counts} = {0.0: 9} \n",
      "\n",
      "class num = 0 , class_name = fish\n",
      "class num = 0 , class_name = fish\n",
      "class num = 0 , class_name = fish\n",
      "class num = 0 , class_name = fish\n",
      "class num = 0 , class_name = fish\n",
      "class num = 0 , class_name = fish\n",
      "class num = 0 , class_name = fish\n",
      "class num = 0 , class_name = fish\n",
      "class num = 0 , class_name = fish\n",
      "\n",
      "{class num:counts} = {0.0: 5} \n",
      "\n",
      "class num = 0 , class_name = fish\n",
      "class num = 0 , class_name = fish\n",
      "class num = 0 , class_name = fish\n",
      "class num = 0 , class_name = fish\n",
      "class num = 0 , class_name = fish\n",
      "\n",
      "{class num:counts} = {0.0: 10} \n",
      "\n",
      "class num = 0 , class_name = fish\n",
      "class num = 0 , class_name = fish\n",
      "class num = 0 , class_name = fish\n",
      "class num = 0 , class_name = fish\n",
      "class num = 0 , class_name = fish\n",
      "class num = 0 , class_name = fish\n",
      "class num = 0 , class_name = fish\n",
      "class num = 0 , class_name = fish\n",
      "class num = 0 , class_name = fish\n",
      "class num = 0 , class_name = fish\n",
      "\n",
      "{class num:counts} = {0.0: 6} \n",
      "\n",
      "class num = 0 , class_name = fish\n",
      "class num = 0 , class_name = fish\n",
      "class num = 0 , class_name = fish\n",
      "class num = 0 , class_name = fish\n",
      "class num = 0 , class_name = fish\n",
      "class num = 0 , class_name = fish\n",
      "\n",
      "{class num:counts} = {0.0: 5} \n",
      "\n",
      "class num = 0 , class_name = fish\n",
      "class num = 0 , class_name = fish\n",
      "class num = 0 , class_name = fish\n",
      "class num = 0 , class_name = fish\n",
      "class num = 0 , class_name = fish\n",
      "\n",
      "{class num:counts} = {0.0: 6, 6.0: 1} \n",
      "\n",
      "class num = 0 , class_name = fish\n",
      "class num = 0 , class_name = fish\n",
      "class num = 0 , class_name = fish\n",
      "class num = 0 , class_name = fish\n",
      "class num = 0 , class_name = fish\n",
      "class num = 0 , class_name = fish\n",
      "class num = 6 , class_name = stingray\n",
      "\n",
      "{class num:counts} = {} \n",
      "\n",
      "\n",
      "{class num:counts} = {0.0: 1} \n",
      "\n",
      "class num = 0 , class_name = fish\n",
      "\n",
      "{class num:counts} = {1.0: 5} \n",
      "\n",
      "class num = 1 , class_name = jellyfish\n",
      "class num = 1 , class_name = jellyfish\n",
      "class num = 1 , class_name = jellyfish\n",
      "class num = 1 , class_name = jellyfish\n",
      "class num = 1 , class_name = jellyfish\n",
      "\n",
      "{class num:counts} = {0.0: 1} \n",
      "\n",
      "class num = 0 , class_name = fish\n",
      "\n",
      "{class num:counts} = {1.0: 42} \n",
      "\n",
      "class num = 1 , class_name = jellyfish\n",
      "class num = 1 , class_name = jellyfish\n",
      "class num = 1 , class_name = jellyfish\n",
      "class num = 1 , class_name = jellyfish\n",
      "class num = 1 , class_name = jellyfish\n",
      "class num = 1 , class_name = jellyfish\n",
      "class num = 1 , class_name = jellyfish\n",
      "class num = 1 , class_name = jellyfish\n",
      "class num = 1 , class_name = jellyfish\n",
      "class num = 1 , class_name = jellyfish\n",
      "class num = 1 , class_name = jellyfish\n",
      "class num = 1 , class_name = jellyfish\n",
      "class num = 1 , class_name = jellyfish\n",
      "class num = 1 , class_name = jellyfish\n",
      "class num = 1 , class_name = jellyfish\n",
      "class num = 1 , class_name = jellyfish\n",
      "class num = 1 , class_name = jellyfish\n",
      "class num = 1 , class_name = jellyfish\n",
      "class num = 1 , class_name = jellyfish\n",
      "class num = 1 , class_name = jellyfish\n",
      "class num = 1 , class_name = jellyfish\n",
      "class num = 1 , class_name = jellyfish\n",
      "class num = 1 , class_name = jellyfish\n",
      "class num = 1 , class_name = jellyfish\n",
      "class num = 1 , class_name = jellyfish\n",
      "class num = 1 , class_name = jellyfish\n",
      "class num = 1 , class_name = jellyfish\n",
      "class num = 1 , class_name = jellyfish\n",
      "class num = 1 , class_name = jellyfish\n",
      "class num = 1 , class_name = jellyfish\n",
      "class num = 1 , class_name = jellyfish\n",
      "class num = 1 , class_name = jellyfish\n",
      "class num = 1 , class_name = jellyfish\n",
      "class num = 1 , class_name = jellyfish\n",
      "class num = 1 , class_name = jellyfish\n",
      "class num = 1 , class_name = jellyfish\n",
      "class num = 1 , class_name = jellyfish\n",
      "class num = 1 , class_name = jellyfish\n",
      "class num = 1 , class_name = jellyfish\n",
      "class num = 1 , class_name = jellyfish\n",
      "class num = 1 , class_name = jellyfish\n",
      "class num = 1 , class_name = jellyfish\n",
      "\n",
      "{class num:counts} = {1.0: 4} \n",
      "\n",
      "class num = 1 , class_name = jellyfish\n",
      "class num = 1 , class_name = jellyfish\n",
      "class num = 1 , class_name = jellyfish\n",
      "class num = 1 , class_name = jellyfish\n"
     ]
    }
   ],
   "source": [
    "import numpy as np\n",
    "\n",
    "for result in results:\n",
    "    uniq, cnt = np.unique(result.boxes.cls.cpu().numpy(), return_counts=True)  # Torch.Tensor -> numpy\n",
    "    # uniq : 이미지 인식 후 인식된 객체의 클래스 번호 저장\n",
    "    # cnt : 클래스의 번호의 개수 저장\n",
    "\n",
    "    uniq_cnt_dict = dict(zip(uniq, cnt))\n",
    "    # zip함수로 튜플 형태로 변환한 후, uniq, cnt를 dict 형태로 반환\n",
    "\n",
    "    print('\\n{class num:counts} =', uniq_cnt_dict,'\\n')\n",
    "    for c in result.boxes.cls:\n",
    "        print('class num =', int(c), ', class_name =', model.names[int(c)])\n",
    "        # int(c) : 클래스 번호를 정수로 변환\n",
    "        # model.names[int(c)] : 클래스 번호에 해당하는 클래스 이름 출력"
   ]
  },
  {
   "cell_type": "code",
   "execution_count": 9,
   "metadata": {},
   "outputs": [
    {
     "name": "stdout",
     "output_type": "stream",
     "text": [
      "22\n",
      "['C:\\\\Users\\\\USER\\\\Desktop\\\\HS\\\\GitHub\\\\YOLO_examples\\\\Aquarium_test\\\\Aquarium\\\\runs\\\\detect\\\\train\\\\args.yaml', 'C:\\\\Users\\\\USER\\\\Desktop\\\\HS\\\\GitHub\\\\YOLO_examples\\\\Aquarium_test\\\\Aquarium\\\\runs\\\\detect\\\\train\\\\confusion_matrix.png', 'C:\\\\Users\\\\USER\\\\Desktop\\\\HS\\\\GitHub\\\\YOLO_examples\\\\Aquarium_test\\\\Aquarium\\\\runs\\\\detect\\\\train\\\\confusion_matrix_normalized.png', 'C:\\\\Users\\\\USER\\\\Desktop\\\\HS\\\\GitHub\\\\YOLO_examples\\\\Aquarium_test\\\\Aquarium\\\\runs\\\\detect\\\\train\\\\F1_curve.png', 'C:\\\\Users\\\\USER\\\\Desktop\\\\HS\\\\GitHub\\\\YOLO_examples\\\\Aquarium_test\\\\Aquarium\\\\runs\\\\detect\\\\train\\\\labels.jpg', 'C:\\\\Users\\\\USER\\\\Desktop\\\\HS\\\\GitHub\\\\YOLO_examples\\\\Aquarium_test\\\\Aquarium\\\\runs\\\\detect\\\\train\\\\labels_correlogram.jpg', 'C:\\\\Users\\\\USER\\\\Desktop\\\\HS\\\\GitHub\\\\YOLO_examples\\\\Aquarium_test\\\\Aquarium\\\\runs\\\\detect\\\\train\\\\PR_curve.png', 'C:\\\\Users\\\\USER\\\\Desktop\\\\HS\\\\GitHub\\\\YOLO_examples\\\\Aquarium_test\\\\Aquarium\\\\runs\\\\detect\\\\train\\\\P_curve.png', 'C:\\\\Users\\\\USER\\\\Desktop\\\\HS\\\\GitHub\\\\YOLO_examples\\\\Aquarium_test\\\\Aquarium\\\\runs\\\\detect\\\\train\\\\results.csv', 'C:\\\\Users\\\\USER\\\\Desktop\\\\HS\\\\GitHub\\\\YOLO_examples\\\\Aquarium_test\\\\Aquarium\\\\runs\\\\detect\\\\train\\\\results.png', 'C:\\\\Users\\\\USER\\\\Desktop\\\\HS\\\\GitHub\\\\YOLO_examples\\\\Aquarium_test\\\\Aquarium\\\\runs\\\\detect\\\\train\\\\R_curve.png', 'C:\\\\Users\\\\USER\\\\Desktop\\\\HS\\\\GitHub\\\\YOLO_examples\\\\Aquarium_test\\\\Aquarium\\\\runs\\\\detect\\\\train\\\\train_batch0.jpg', 'C:\\\\Users\\\\USER\\\\Desktop\\\\HS\\\\GitHub\\\\YOLO_examples\\\\Aquarium_test\\\\Aquarium\\\\runs\\\\detect\\\\train\\\\train_batch1.jpg', 'C:\\\\Users\\\\USER\\\\Desktop\\\\HS\\\\GitHub\\\\YOLO_examples\\\\Aquarium_test\\\\Aquarium\\\\runs\\\\detect\\\\train\\\\train_batch1260.jpg', 'C:\\\\Users\\\\USER\\\\Desktop\\\\HS\\\\GitHub\\\\YOLO_examples\\\\Aquarium_test\\\\Aquarium\\\\runs\\\\detect\\\\train\\\\train_batch1261.jpg', 'C:\\\\Users\\\\USER\\\\Desktop\\\\HS\\\\GitHub\\\\YOLO_examples\\\\Aquarium_test\\\\Aquarium\\\\runs\\\\detect\\\\train\\\\train_batch1262.jpg', 'C:\\\\Users\\\\USER\\\\Desktop\\\\HS\\\\GitHub\\\\YOLO_examples\\\\Aquarium_test\\\\Aquarium\\\\runs\\\\detect\\\\train\\\\train_batch2.jpg', 'C:\\\\Users\\\\USER\\\\Desktop\\\\HS\\\\GitHub\\\\YOLO_examples\\\\Aquarium_test\\\\Aquarium\\\\runs\\\\detect\\\\train\\\\val_batch0_labels.jpg', 'C:\\\\Users\\\\USER\\\\Desktop\\\\HS\\\\GitHub\\\\YOLO_examples\\\\Aquarium_test\\\\Aquarium\\\\runs\\\\detect\\\\train\\\\val_batch0_pred.jpg', 'C:\\\\Users\\\\USER\\\\Desktop\\\\HS\\\\GitHub\\\\YOLO_examples\\\\Aquarium_test\\\\Aquarium\\\\runs\\\\detect\\\\train\\\\val_batch1_labels.jpg', 'C:\\\\Users\\\\USER\\\\Desktop\\\\HS\\\\GitHub\\\\YOLO_examples\\\\Aquarium_test\\\\Aquarium\\\\runs\\\\detect\\\\train\\\\val_batch1_pred.jpg', 'C:\\\\Users\\\\USER\\\\Desktop\\\\HS\\\\GitHub\\\\YOLO_examples\\\\Aquarium_test\\\\Aquarium\\\\runs\\\\detect\\\\train\\\\weights']\n"
     ]
    }
   ],
   "source": [
    "import glob\n",
    "detetced_image_list = glob.glob((r'C:\\Users\\USER\\Desktop\\HS\\GitHub\\YOLO_examples\\Aquarium_test\\Aquarium\\runs\\detect\\train\\*'))\n",
    "detected_image_nums = len(detetced_image_list)\n",
    "print(detected_image_nums)\n",
    "print(detetced_image_list)"
   ]
  },
  {
   "cell_type": "code",
   "execution_count": 10,
   "metadata": {},
   "outputs": [
    {
     "name": "stdout",
     "output_type": "stream",
     "text": [
      "detected_result dir is created !!!\n"
     ]
    }
   ],
   "source": [
    "import zipfile\n",
    "import os\n",
    "\n",
    "if not os.path.exists(r'C:\\Users\\USER\\Desktop\\HS\\GitHub\\YOLO_examples\\Aquarium_test\\detected_result'):\n",
    "    os.mkdir(r'C:\\Users\\USER\\Desktop\\HS\\GitHub\\YOLO_examples\\Aquarium_test\\detected_result')\n",
    "    print('detected_result dir is created !!!')\n",
    "\n",
    "# 해당 경로에 zip 파일 생성\n",
    "with zipfile.ZipFile(r'C:\\Users\\USER\\Desktop\\HS\\GitHub\\YOLO_examples\\Aquarium_test\\detected_result\\detected_images.zip', 'w') as detected_images:\n",
    "    for idx in range(detected_image_nums):\n",
    "        detected_images.write(detetced_image_list[idx]) #idx에 해당하는 파일 경로를 가져와 ZIP 파일에 추가"
   ]
  },
  {
   "cell_type": "code",
   "execution_count": 11,
   "metadata": {},
   "outputs": [],
   "source": [
    "with zipfile.ZipFile(r'C:\\Users\\USER\\Desktop\\HS\\GitHub\\YOLO_examples\\Aquarium_test\\detected_result\\detected_images.zip') as image:\n",
    "    image.extractall('test_dir') #  ZIP 파일에 포함된 모든 파일을 'test_dir' 디렉토리에 추출"
   ]
  }
 ],
 "metadata": {
  "kernelspec": {
   "display_name": "Python 3",
   "language": "python",
   "name": "python3"
  },
  "language_info": {
   "codemirror_mode": {
    "name": "ipython",
    "version": 3
   },
   "file_extension": ".py",
   "mimetype": "text/x-python",
   "name": "python",
   "nbconvert_exporter": "python",
   "pygments_lexer": "ipython3",
   "version": "3.11.8"
  }
 },
 "nbformat": 4,
 "nbformat_minor": 2
}
